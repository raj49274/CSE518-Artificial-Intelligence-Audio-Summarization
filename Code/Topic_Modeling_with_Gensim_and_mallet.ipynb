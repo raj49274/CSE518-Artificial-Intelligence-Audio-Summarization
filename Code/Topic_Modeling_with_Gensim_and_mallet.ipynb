{
  "nbformat": 4,
  "nbformat_minor": 0,
  "metadata": {
    "colab": {
      "name": "Topic_Modeling_with_Gensim_and mallet.ipynb",
      "provenance": [],
      "collapsed_sections": []
    },
    "kernelspec": {
      "display_name": "Python 3",
      "language": "python",
      "name": "python3"
    },
    "language_info": {
      "codemirror_mode": {
        "name": "ipython",
        "version": 3
      },
      "file_extension": ".py",
      "mimetype": "text/x-python",
      "name": "python",
      "nbconvert_exporter": "python",
      "pygments_lexer": "ipython3",
      "version": "3.7.3"
    }
  },
  "cells": [
    {
      "cell_type": "code",
      "metadata": {
        "colab": {
          "base_uri": "https://localhost:8080/"
        },
        "id": "t5T9ylYgLEEv",
        "outputId": "5fefff2a-4f36-402a-8da0-aa86c0e5d55f"
      },
      "source": [
        "# Run in python console\n",
        "import nltk; nltk.download('stopwords')\n"
      ],
      "execution_count": null,
      "outputs": [
        {
          "name": "stderr",
          "output_type": "stream",
          "text": [
            "[nltk_data] Downloading package stopwords to\n",
            "[nltk_data]     /Users/ajaykumar/nltk_data...\n",
            "[nltk_data]   Package stopwords is already up-to-date!\n"
          ]
        },
        {
          "data": {
            "text/plain": [
              "True"
            ]
          },
          "execution_count": 1,
          "metadata": {},
          "output_type": "execute_result"
        }
      ]
    },
    {
      "cell_type": "code",
      "metadata": {
        "id": "1clJ32mTzp_F"
      },
      "source": [
        "# pip install pyLDAvis\n",
        "# pip install gensim\n",
        "# pip install spacy==2.2.0"
      ],
      "execution_count": null,
      "outputs": []
    },
    {
      "cell_type": "code",
      "metadata": {
        "id": "2bHmxbxeJMEx"
      },
      "source": [
        "import re\n",
        "import numpy as np\n",
        "import pandas as pd\n",
        "from pprint import pprint\n",
        "\n",
        "# Gensim\n",
        "import gensim\n",
        "import gensim.corpora as corpora\n",
        "from gensim.utils import simple_preprocess\n",
        "from gensim.models import CoherenceModel\n",
        "\n",
        "# spacy for lemmatization\n",
        "import spacy\n",
        "\n",
        "# Plotting tools\n",
        "import pyLDAvis\n",
        "import pyLDAvis.gensim  # don't skip this\n",
        "import matplotlib.pyplot as plt\n",
        "%matplotlib inline\n",
        "\n",
        "# Enable logging for gensim - optional\n",
        "import logging\n",
        "logging.basicConfig(format='%(asctime)s : %(levelname)s : %(message)s', level=logging.ERROR)\n",
        "\n",
        "import warnings\n",
        "warnings.filterwarnings(\"ignore\",category=DeprecationWarning)"
      ],
      "execution_count": null,
      "outputs": []
    },
    {
      "cell_type": "code",
      "metadata": {
        "id": "kxK_dgu1JMEz"
      },
      "source": [
        "# NLTK Stop words\n",
        "from nltk.corpus import stopwords\n",
        "stop_words = stopwords.words('english')\n",
        "stop_words.extend(['from', 'subject', 're', 'edu', 'use'])"
      ],
      "execution_count": null,
      "outputs": []
    },
    {
      "cell_type": "code",
      "metadata": {
        "colab": {
          "base_uri": "https://localhost:8080/",
          "height": 296
        },
        "id": "5LK_zPh8ZzXn",
        "outputId": "7d505b12-30d0-49df-ac79-b5d5ffa45a67"
      },
      "source": [
        "# Import Dataset\n",
        "df = pd.read_json('https://raw.githubusercontent.com/selva86/datasets/master/newsgroups.json')\n",
        "print(df.target_names.unique())\n",
        "df.head()"
      ],
      "execution_count": null,
      "outputs": [
        {
          "name": "stdout",
          "output_type": "stream",
          "text": [
            "['rec.autos' 'comp.sys.mac.hardware' 'comp.graphics' 'sci.space'\n",
            " 'talk.politics.guns' 'sci.med' 'comp.sys.ibm.pc.hardware'\n",
            " 'comp.os.ms-windows.misc' 'rec.motorcycles' 'talk.religion.misc'\n",
            " 'misc.forsale' 'alt.atheism' 'sci.electronics' 'comp.windows.x'\n",
            " 'rec.sport.hockey' 'rec.sport.baseball' 'soc.religion.christian'\n",
            " 'talk.politics.mideast' 'talk.politics.misc' 'sci.crypt']\n"
          ]
        },
        {
          "data": {
            "text/html": [
              "<div>\n",
              "<style scoped>\n",
              "    .dataframe tbody tr th:only-of-type {\n",
              "        vertical-align: middle;\n",
              "    }\n",
              "\n",
              "    .dataframe tbody tr th {\n",
              "        vertical-align: top;\n",
              "    }\n",
              "\n",
              "    .dataframe thead th {\n",
              "        text-align: right;\n",
              "    }\n",
              "</style>\n",
              "<table border=\"1\" class=\"dataframe\">\n",
              "  <thead>\n",
              "    <tr style=\"text-align: right;\">\n",
              "      <th></th>\n",
              "      <th>content</th>\n",
              "      <th>target</th>\n",
              "      <th>target_names</th>\n",
              "    </tr>\n",
              "  </thead>\n",
              "  <tbody>\n",
              "    <tr>\n",
              "      <th>0</th>\n",
              "      <td>From: lerxst@wam.umd.edu (where's my thing)\\nS...</td>\n",
              "      <td>7</td>\n",
              "      <td>rec.autos</td>\n",
              "    </tr>\n",
              "    <tr>\n",
              "      <th>1</th>\n",
              "      <td>From: guykuo@carson.u.washington.edu (Guy Kuo)...</td>\n",
              "      <td>4</td>\n",
              "      <td>comp.sys.mac.hardware</td>\n",
              "    </tr>\n",
              "    <tr>\n",
              "      <th>2</th>\n",
              "      <td>From: twillis@ec.ecn.purdue.edu (Thomas E Will...</td>\n",
              "      <td>4</td>\n",
              "      <td>comp.sys.mac.hardware</td>\n",
              "    </tr>\n",
              "    <tr>\n",
              "      <th>3</th>\n",
              "      <td>From: jgreen@amber (Joe Green)\\nSubject: Re: W...</td>\n",
              "      <td>1</td>\n",
              "      <td>comp.graphics</td>\n",
              "    </tr>\n",
              "    <tr>\n",
              "      <th>4</th>\n",
              "      <td>From: jcm@head-cfa.harvard.edu (Jonathan McDow...</td>\n",
              "      <td>14</td>\n",
              "      <td>sci.space</td>\n",
              "    </tr>\n",
              "  </tbody>\n",
              "</table>\n",
              "</div>"
            ],
            "text/plain": [
              "                                             content  target  \\\n",
              "0  From: lerxst@wam.umd.edu (where's my thing)\\nS...       7   \n",
              "1  From: guykuo@carson.u.washington.edu (Guy Kuo)...       4   \n",
              "2  From: twillis@ec.ecn.purdue.edu (Thomas E Will...       4   \n",
              "3  From: jgreen@amber (Joe Green)\\nSubject: Re: W...       1   \n",
              "4  From: jcm@head-cfa.harvard.edu (Jonathan McDow...      14   \n",
              "\n",
              "            target_names  \n",
              "0              rec.autos  \n",
              "1  comp.sys.mac.hardware  \n",
              "2  comp.sys.mac.hardware  \n",
              "3          comp.graphics  \n",
              "4              sci.space  "
            ]
          },
          "execution_count": 5,
          "metadata": {},
          "output_type": "execute_result"
        }
      ]
    },
    {
      "cell_type": "code",
      "metadata": {
        "colab": {
          "base_uri": "https://localhost:8080/"
        },
        "id": "H9UFTq4GJME5",
        "outputId": "f85bd407-2e06-4416-f0da-4a62dbebc92c"
      },
      "source": [
        "# Convert to list\n",
        "data = df.content.values.tolist()\n",
        "\n",
        "# Remove Emails\n",
        "data = [re.sub('\\S*@\\S*\\s?', '', sent) for sent in data]\n",
        "\n",
        "# Remove new line characters\n",
        "data = [re.sub('\\s+', ' ', sent) for sent in data]\n",
        "\n",
        "# Remove distracting single quotes\n",
        "data = [re.sub(\"\\'\",\" \", sent) for sent in data]\n",
        "\n",
        "pprint(data[:2])"
      ],
      "execution_count": null,
      "outputs": [
        {
          "name": "stdout",
          "output_type": "stream",
          "text": [
            "['From: (where s my thing) Subject: WHAT car is this!? Nntp-Posting-Host: '\n",
            " 'rac3.wam.umd.edu Organization: University of Maryland, College Park Lines: '\n",
            " '15 I was wondering if anyone out there could enlighten me on this car I saw '\n",
            " 'the other day. It was a 2-door sports car, looked to be from the late 60s/ '\n",
            " 'early 70s. It was called a Bricklin. The doors were really small. In '\n",
            " 'addition, the front bumper was separate from the rest of the body. This is '\n",
            " 'all I know. If anyone can tellme a model name, engine specs, years of '\n",
            " 'production, where this car is made, history, or whatever info you have on '\n",
            " 'this funky looking car, please e-mail. Thanks, - IL ---- brought to you by '\n",
            " 'your neighborhood Lerxst ---- ',\n",
            " 'From: (Guy Kuo) Subject: SI Clock Poll - Final Call Summary: Final call for '\n",
            " 'SI clock reports Keywords: SI,acceleration,clock,upgrade Article-I.D.: '\n",
            " 'shelley.1qvfo9INNc3s Organization: University of Washington Lines: 11 '\n",
            " 'NNTP-Posting-Host: carson.u.washington.edu A fair number of brave souls who '\n",
            " 'upgraded their SI clock oscillator have shared their experiences for this '\n",
            " 'poll. Please send a brief message detailing your experiences with the '\n",
            " 'procedure. Top speed attained, CPU rated speed, add on cards and adapters, '\n",
            " 'heat sinks, hour of usage per day, floppy disk functionality with 800 and '\n",
            " '1.4 m floppies are especially requested. I will be summarizing in the next '\n",
            " 'two days, so please add to the network knowledge base if you have done the '\n",
            " 'clock upgrade and haven t answered this poll. Thanks. Guy Kuo ']\n"
          ]
        }
      ]
    },
    {
      "cell_type": "code",
      "metadata": {
        "colab": {
          "base_uri": "https://localhost:8080/",
          "height": 212
        },
        "id": "hEawaeOJJME6",
        "outputId": "932f8566-a89c-4c10-a074-1f1fec6840e9"
      },
      "source": [
        "def sent_to_words(sentences):\n",
        "    for sentence in sentences:\n",
        "        yield(gensim.utils.simple_preprocess(str(sentence).encode('utf-8'), deacc=True))  # deacc=True removes punctuations\n",
        "\n",
        "data_words = list(sent_to_words(data))\n",
        "print(data_words[:1])\n"
      ],
      "execution_count": null,
      "outputs": [
        {
          "name": "stdout",
          "output_type": "stream",
          "text": [
            "[['from', 'where', 'my', 'thing', 'subject', 'what', 'car', 'is', 'this', 'nntp', 'posting', 'host', 'rac', 'wam', 'umd', 'edu', 'organization', 'university', 'of', 'maryland', 'college', 'park', 'lines', 'was', 'wondering', 'if', 'anyone', 'out', 'there', 'could', 'enlighten', 'me', 'on', 'this', 'car', 'saw', 'the', 'other', 'day', 'it', 'was', 'door', 'sports', 'car', 'looked', 'to', 'be', 'from', 'the', 'late', 'early', 'it', 'was', 'called', 'bricklin', 'the', 'doors', 'were', 'really', 'small', 'in', 'addition', 'the', 'front', 'bumper', 'was', 'separate', 'from', 'the', 'rest', 'of', 'the', 'body', 'this', 'is', 'all', 'know', 'if', 'anyone', 'can', 'tellme', 'model', 'name', 'engine', 'specs', 'years', 'of', 'production', 'where', 'this', 'car', 'is', 'made', 'history', 'or', 'whatever', 'info', 'you', 'have', 'on', 'this', 'funky', 'looking', 'car', 'please', 'mail', 'thanks', 'il', 'brought', 'to', 'you', 'by', 'your', 'neighborhood', 'lerxst']]\n"
          ]
        }
      ]
    },
    {
      "cell_type": "code",
      "metadata": {
        "id": "yrwK3tkBJME7",
        "scrolled": true,
        "outputId": "80869596-1952-4300-9e97-804ab93d4031"
      },
      "source": [
        "# Build the bigram and trigram models\n",
        "bigram = gensim.models.Phrases(data_words, min_count=5, threshold=100) # higher threshold fewer phrases.\n",
        "trigram = gensim.models.Phrases(bigram[data_words], threshold=100)  \n",
        "\n",
        "# Faster way to get a sentence clubbed as a trigram/bigram\n",
        "bigram_mod = gensim.models.phrases.Phraser(bigram)\n",
        "trigram_mod = gensim.models.phrases.Phraser(trigram)\n",
        "\n",
        "# See trigram example\n",
        "print(trigram_mod[bigram_mod[data_words[0]]])"
      ],
      "execution_count": null,
      "outputs": [
        {
          "name": "stdout",
          "output_type": "stream",
          "text": [
            "['from', 'where', 'my', 'thing', 'subject', 'what', 'car', 'is', 'this', 'nntp_posting_host', 'rac_wam_umd_edu', 'organization', 'university', 'of', 'maryland_college_park', 'lines', 'was', 'wondering', 'if', 'anyone', 'out', 'there', 'could', 'enlighten', 'me', 'on', 'this', 'car', 'saw', 'the', 'other', 'day', 'it', 'was', 'door', 'sports', 'car', 'looked', 'to', 'be', 'from', 'the', 'late', 'early', 'it', 'was', 'called', 'bricklin', 'the', 'doors', 'were', 'really', 'small', 'in', 'addition', 'the', 'front_bumper', 'was', 'separate', 'from', 'the', 'rest', 'of', 'the', 'body', 'this', 'is', 'all', 'know', 'if', 'anyone', 'can', 'tellme', 'model', 'name', 'engine', 'specs', 'years', 'of', 'production', 'where', 'this', 'car', 'is', 'made', 'history', 'or', 'whatever', 'info', 'you', 'have', 'on', 'this', 'funky', 'looking', 'car', 'please', 'mail', 'thanks', 'il', 'brought', 'to', 'you', 'by', 'your', 'neighborhood', 'lerxst']\n"
          ]
        }
      ]
    },
    {
      "cell_type": "code",
      "metadata": {
        "id": "pIAmYQLkJME7"
      },
      "source": [
        "# Define functions for stopwords, bigrams, trigrams and lemmatization\n",
        "def remove_stopwords(texts):\n",
        "    return [[word for word in simple_preprocess(str(doc)) if word not in stop_words] for doc in texts]\n",
        "\n",
        "def make_bigrams(texts):\n",
        "    return [bigram_mod[doc] for doc in texts]\n",
        "\n",
        "def make_trigrams(texts):\n",
        "    return [trigram_mod[bigram_mod[doc]] for doc in texts]\n",
        "\n",
        "def lemmatization(texts, allowed_postags=['NOUN', 'ADJ', 'VERB', 'ADV']):\n",
        "    \"\"\"https://spacy.io/api/annotation\"\"\"\n",
        "    texts_out = []\n",
        "    for sent in texts:\n",
        "        doc = nlp(\" \".join(sent)) \n",
        "        texts_out.append([token.lemma_ for token in doc if token.pos_ in allowed_postags])\n",
        "    return texts_out"
      ],
      "execution_count": null,
      "outputs": []
    },
    {
      "cell_type": "code",
      "metadata": {
        "id": "H2n1ezLizp_M"
      },
      "source": [
        "# pip install https://github.com/explosion/spacy-models/releases/download/en_core_web_sm-2.2.0/en_core_web_sm-2.2.0.tar.gz"
      ],
      "execution_count": null,
      "outputs": []
    },
    {
      "cell_type": "code",
      "metadata": {
        "id": "MGC-N8_EJME7",
        "outputId": "f2d775c9-1fb9-40b7-87c0-fd2804cd01d4"
      },
      "source": [
        "# Remove Stop Words\n",
        "data_words_nostops = remove_stopwords(data_words)\n",
        "\n",
        "# Form Bigrams\n",
        "data_words_bigrams = make_bigrams(data_words_nostops)\n",
        "\n",
        "# Initialize spacy 'en' model, keeping only tagger component (for efficiency)\n",
        "# python3 -m spacy download en\n",
        "nlp = spacy.load('en_core_web_sm', disable=['parser', 'ner'])\n",
        "\n",
        "# Do lemmatization keeping only noun, adj, vb, adv\n",
        "data_lemmatized = lemmatization(data_words_bigrams, allowed_postags=['NOUN', 'ADJ', 'VERB', 'ADV'])\n",
        "\n",
        "print(data_lemmatized[:1])"
      ],
      "execution_count": null,
      "outputs": [
        {
          "name": "stdout",
          "output_type": "stream",
          "text": [
            "[['car', 'nntp_posting', 'host', 'line', 'wonder', 'enlighten', 'car', 'see', 'day', 'door', 'sport', 'car', 'look', 'late', 'early', 'call', 'door', 'really', 'small', 'addition', 'front_bumper', 'separate', 'rest', 'body', 'know', 'year', 'production', 'car', 'make', 'history', 'info', 'funky', 'look', 'car', 'mail', 'thank', 'bring', 'neighborhood', 'lerxst']]\n"
          ]
        }
      ]
    },
    {
      "cell_type": "code",
      "metadata": {
        "id": "DqlOgG27JME8",
        "outputId": "25c54dea-bb3a-4910-a36f-1eabe6c1d627"
      },
      "source": [
        "# Create Dictionary\n",
        "id2word = corpora.Dictionary(data_lemmatized)\n",
        "\n",
        "# Create Corpus\n",
        "texts = data_lemmatized\n",
        "\n",
        "# Term Document Frequency\n",
        "corpus = [id2word.doc2bow(text) for text in texts]\n",
        "\n",
        "# View\n",
        "print(corpus[:1])"
      ],
      "execution_count": null,
      "outputs": [
        {
          "name": "stdout",
          "output_type": "stream",
          "text": [
            "[[(0, 1), (1, 1), (2, 1), (3, 1), (4, 5), (5, 1), (6, 2), (7, 1), (8, 1), (9, 1), (10, 1), (11, 1), (12, 1), (13, 1), (14, 1), (15, 1), (16, 1), (17, 1), (18, 2), (19, 1), (20, 1), (21, 1), (22, 1), (23, 1), (24, 1), (25, 1), (26, 1), (27, 1), (28, 1), (29, 1), (30, 1), (31, 1), (32, 1)]]\n"
          ]
        }
      ]
    },
    {
      "cell_type": "markdown",
      "metadata": {
        "id": "vl0gK6hEJME-"
      },
      "source": [
        "If you want to see what word a given id corresponds to, pass the id as a key to the dictionary."
      ]
    },
    {
      "cell_type": "code",
      "metadata": {
        "id": "RLtyx0RpJME-",
        "outputId": "4786f692-89ed-49bd-f3b5-ecea1dfbd269"
      },
      "source": [
        "id2word[0]"
      ],
      "execution_count": null,
      "outputs": [
        {
          "data": {
            "text/plain": [
              "'addition'"
            ]
          },
          "execution_count": 13,
          "metadata": {},
          "output_type": "execute_result"
        }
      ]
    },
    {
      "cell_type": "code",
      "metadata": {
        "id": "02ezXeDuJME_",
        "outputId": "2a76d4d0-364a-4215-c013-64fea0d91f00"
      },
      "source": [
        "corpus[:1][0][:10]"
      ],
      "execution_count": null,
      "outputs": [
        {
          "data": {
            "text/plain": [
              "[(0, 1),\n",
              " (1, 1),\n",
              " (2, 1),\n",
              " (3, 1),\n",
              " (4, 5),\n",
              " (5, 1),\n",
              " (6, 2),\n",
              " (7, 1),\n",
              " (8, 1),\n",
              " (9, 1)]"
            ]
          },
          "execution_count": 14,
          "metadata": {},
          "output_type": "execute_result"
        }
      ]
    },
    {
      "cell_type": "code",
      "metadata": {
        "id": "U6ZzD5UiJME_",
        "scrolled": true,
        "outputId": "1b9ea455-eb3d-4585-e2c3-71c5aae2c906"
      },
      "source": [
        "# Human readable format of corpus (term-frequency)\n",
        "[[(id2word[id], freq) for id, freq in cp] for cp in corpus[:1]]"
      ],
      "execution_count": null,
      "outputs": [
        {
          "data": {
            "text/plain": [
              "[[('addition', 1),\n",
              "  ('body', 1),\n",
              "  ('bring', 1),\n",
              "  ('call', 1),\n",
              "  ('car', 5),\n",
              "  ('day', 1),\n",
              "  ('door', 2),\n",
              "  ('early', 1),\n",
              "  ('enlighten', 1),\n",
              "  ('front_bumper', 1),\n",
              "  ('funky', 1),\n",
              "  ('history', 1),\n",
              "  ('host', 1),\n",
              "  ('info', 1),\n",
              "  ('know', 1),\n",
              "  ('late', 1),\n",
              "  ('lerxst', 1),\n",
              "  ('line', 1),\n",
              "  ('look', 2),\n",
              "  ('mail', 1),\n",
              "  ('make', 1),\n",
              "  ('neighborhood', 1),\n",
              "  ('nntp_posting', 1),\n",
              "  ('production', 1),\n",
              "  ('really', 1),\n",
              "  ('rest', 1),\n",
              "  ('see', 1),\n",
              "  ('separate', 1),\n",
              "  ('small', 1),\n",
              "  ('sport', 1),\n",
              "  ('thank', 1),\n",
              "  ('wonder', 1),\n",
              "  ('year', 1)]]"
            ]
          },
          "execution_count": 15,
          "metadata": {},
          "output_type": "execute_result"
        }
      ]
    },
    {
      "cell_type": "code",
      "metadata": {
        "id": "VAPlP5krJMFA"
      },
      "source": [
        "# Build LDA model\n",
        "lda_model = gensim.models.ldamodel.LdaModel(corpus=corpus,\n",
        "                                           id2word=id2word,\n",
        "                                           num_topics=20, \n",
        "                                           random_state=100,\n",
        "                                           update_every=1,\n",
        "                                           chunksize=100,\n",
        "                                           passes=10,\n",
        "                                           alpha='auto',\n",
        "                                           per_word_topics=True)"
      ],
      "execution_count": null,
      "outputs": []
    },
    {
      "cell_type": "code",
      "metadata": {
        "id": "_xrMa9_nJMFB",
        "outputId": "508ca378-fa36-42c6-c2c0-0ff4bdabda56"
      },
      "source": [
        "# Print the Keyword in the 10 topics\n",
        "pprint(lda_model.print_topics())\n",
        "doc_lda = lda_model[corpus]"
      ],
      "execution_count": null,
      "outputs": [
        {
          "name": "stdout",
          "output_type": "stream",
          "text": [
            "[(0,\n",
            "  '0.040*\"evidence\" + 0.031*\"believe\" + 0.030*\"reason\" + 0.027*\"claim\" + '\n",
            "  '0.021*\"say\" + 0.021*\"sense\" + 0.019*\"faith\" + 0.019*\"exist\" + '\n",
            "  '0.014*\"people\" + 0.014*\"science\"'),\n",
            " (1,\n",
            "  '0.034*\"write\" + 0.023*\"article\" + 0.022*\"line\" + 0.021*\"know\" + '\n",
            "  '0.019*\"make\" + 0.019*\"go\" + 0.019*\"say\" + 0.018*\"get\" + 0.017*\"think\" + '\n",
            "  '0.016*\"see\"'),\n",
            " (2,\n",
            "  '0.091*\"season\" + 0.078*\"fan\" + 0.061*\"trade\" + 0.044*\"vote\" + 0.042*\"pen\" + '\n",
            "  '0.038*\"star\" + 0.030*\"helmet\" + 0.025*\"devil\" + 0.024*\"remind\" + '\n",
            "  '0.021*\"penalty\"'),\n",
            " (3,\n",
            "  '0.133*\"technology\" + 0.036*\"technical\" + 0.035*\"industry\" + '\n",
            "  '0.035*\"development\" + 0.032*\"develop\" + 0.029*\"resource\" + 0.027*\"medical\" '\n",
            "  '+ 0.024*\"schedule\" + 0.022*\"solid\" + 0.021*\"nuclear\"'),\n",
            " (4,\n",
            "  '0.035*\"kill\" + 0.021*\"side\" + 0.019*\"attack\" + 0.018*\"israeli\" + '\n",
            "  '0.017*\"fire\" + 0.017*\"bike\" + 0.017*\"death\" + 0.017*\"war\" + 0.017*\"man\" + '\n",
            "  '0.015*\"woman\"'),\n",
            " (5,\n",
            "  '0.092*\"ground\" + 0.043*\"task\" + 0.032*\"regularly\" + 0.030*\"hook\" + '\n",
            "  '0.026*\"crack\" + 0.026*\"mph\" + 0.021*\"wall\" + 0.021*\"paint\" + 0.020*\"volt\" + '\n",
            "  '0.020*\"impressive\"'),\n",
            " (6,\n",
            "  '0.082*\"community\" + 0.063*\"concept\" + 0.057*\"air\" + 0.054*\"significant\" + '\n",
            "  '0.044*\"aware\" + 0.029*\"consideration\" + 0.029*\"role\" + 0.027*\"approve\" + '\n",
            "  '0.026*\"co\" + 0.023*\"percentage\"'),\n",
            " (7,\n",
            "  '0.076*\"input\" + 0.052*\"mount\" + 0.051*\"material\" + 0.050*\"signal\" + '\n",
            "  '0.043*\"disease\" + 0.039*\"door\" + 0.037*\"be\" + 0.036*\"circuit\" + '\n",
            "  '0.036*\"output\" + 0.034*\"workstation\"'),\n",
            " (8,\n",
            "  '0.109*\"space\" + 0.044*\"launch\" + 0.040*\"mouse\" + 0.038*\"engine\" + '\n",
            "  '0.036*\"orbit\" + 0.032*\"mission\" + 0.027*\"satellite\" + 0.026*\"plane\" + '\n",
            "  '0.024*\"flight\" + 0.024*\"earth\"'),\n",
            " (9,\n",
            "  '0.037*\"state\" + 0.029*\"government\" + 0.027*\"law\" + 0.025*\"right\" + '\n",
            "  '0.024*\"public\" + 0.020*\"issue\" + 0.018*\"talk\" + 0.018*\"people\" + '\n",
            "  '0.014*\"rule\" + 0.013*\"country\"'),\n",
            " (10,\n",
            "  '0.075*\"drive\" + 0.045*\"card\" + 0.038*\"driver\" + 0.023*\"speed\" + '\n",
            "  '0.021*\"memory\" + 0.021*\"system\" + 0.020*\"fast\" + 0.018*\"device\" + '\n",
            "  '0.018*\"instal\" + 0.017*\"problem\"'),\n",
            " (11,\n",
            "  '0.132*\"team\" + 0.106*\"game\" + 0.084*\"play\" + 0.077*\"win\" + 0.042*\"year\" + '\n",
            "  '0.033*\"score\" + 0.029*\"wing\" + 0.029*\"goal\" + 0.027*\"run\" + '\n",
            "  '0.019*\"originator\"'),\n",
            " (12,\n",
            "  '0.166*\"gun\" + 0.042*\"weight\" + 0.038*\"hot\" + 0.032*\"cycle\" + 0.030*\"cop\" + '\n",
            "  '0.028*\"water\" + 0.026*\"club\" + 0.026*\"battery\" + 0.025*\"police\" + '\n",
            "  '0.025*\"cool\"'),\n",
            " (13,\n",
            "  '0.150*\"key\" + 0.071*\"chip\" + 0.041*\"bit\" + 0.030*\"block\" + 0.029*\"family\" + '\n",
            "  '0.024*\"secure\" + 0.023*\"recommend\" + 0.022*\"listen\" + 0.022*\"secret\" + '\n",
            "  '0.020*\"doctor\"'),\n",
            " (14,\n",
            "  '0.106*\"crime\" + 0.071*\"criminal\" + 0.069*\"controller\" + '\n",
            "  '0.055*\"united_state\" + 0.032*\"relation\" + 0.030*\"electrical\" + '\n",
            "  '0.023*\"disarm\" + 0.018*\"honor\" + 0.016*\"custom\" + 0.013*\"approximately\"'),\n",
            " (15,\n",
            "  '0.043*\"year\" + 0.030*\"car\" + 0.025*\"high\" + 0.025*\"new\" + 0.021*\"buy\" + '\n",
            "  '0.021*\"power\" + 0.019*\"price\" + 0.019*\"money\" + 0.018*\"sell\" + 0.018*\"pay\"'),\n",
            " (16,\n",
            "  '0.029*\"use\" + 0.028*\"line\" + 0.018*\"system\" + 0.018*\"thank\" + 0.014*\"need\" '\n",
            "  '+ 0.014*\"also\" + 0.014*\"program\" + 0.013*\"file\" + 0.013*\"mail\" + '\n",
            "  '0.012*\"include\"'),\n",
            " (17,\n",
            "  '0.099*\"image\" + 0.080*\"patient\" + 0.075*\"color\" + 0.069*\"screen\" + '\n",
            "  '0.061*\"display\" + 0.058*\"graphic\" + 0.042*\"function\" + 0.029*\"object\" + '\n",
            "  '0.021*\"blind\" + 0.018*\"mirror\"'),\n",
            " (18,\n",
            "  '0.025*\"group\" + 0.016*\"child\" + 0.014*\"report\" + 0.013*\"become\" + '\n",
            "  '0.012*\"many\" + 0.012*\"cause\" + 0.011*\"result\" + 0.011*\"part\" + 0.011*\"die\" '\n",
            "  '+ 0.011*\"speak\"'),\n",
            " (19,\n",
            "  '0.032*\"armenian\" + 0.028*\"direct\" + 0.024*\"murder\" + 0.023*\"occupy\" + '\n",
            "  '0.023*\"turkish\" + 0.022*\"terrorism\" + 0.021*\"turk\" + 0.020*\"jewish\" + '\n",
            "  '0.020*\"tax\" + 0.018*\"greek\"')]\n"
          ]
        }
      ]
    },
    {
      "cell_type": "code",
      "metadata": {
        "id": "wuud9M0VJMFC",
        "scrolled": true,
        "outputId": "d214b91b-d065-4266-84ea-f2c19639148f"
      },
      "source": [
        "# Compute Perplexity\n",
        "print('\\nPerplexity: ', lda_model.log_perplexity(corpus))  # a measure of how good the model is. lower the better.\n",
        "\n",
        "# Compute Coherence Score\n",
        "coherence_model_lda = CoherenceModel(model=lda_model, texts=data_lemmatized, dictionary=id2word, coherence='c_v')\n",
        "coherence_lda = coherence_model_lda.get_coherence()\n",
        "print('\\nCoherence Score: ', coherence_lda)"
      ],
      "execution_count": null,
      "outputs": [
        {
          "name": "stdout",
          "output_type": "stream",
          "text": [
            "\n",
            "Perplexity:  -13.643598637589042\n",
            "\n",
            "Coherence Score:  0.44868845329425444\n"
          ]
        }
      ]
    },
    {
      "cell_type": "code",
      "metadata": {
        "id": "VwiiQ6bEJMFD",
        "outputId": "5970d2b4-1d84-4c59-96fd-736d5d9c18a2"
      },
      "source": [
        "# Visualize the topics\n",
        "pyLDAvis.enable_notebook()\n",
        "vis = pyLDAvis.gensim.prepare(lda_model, corpus, id2word)\n",
        "vis"
      ],
      "execution_count": null,
      "outputs": [
        {
          "data": {
            "text/html": [
              "\n",
              "<link rel=\"stylesheet\" type=\"text/css\" href=\"https://cdn.rawgit.com/bmabey/pyLDAvis/files/ldavis.v1.0.0.css\">\n",
              "\n",
              "\n",
              "<div id=\"ldavis_el2133462644063285659230788\"></div>\n",
              "<script type=\"text/javascript\">\n",
              "\n",
              "var ldavis_el2133462644063285659230788_data = {\"mdsDat\": {\"x\": [-0.3288735907561209, -0.29519323579662754, -0.21909103248268003, -0.20254315871104098, -0.1387035195216867, -0.23248963931436784, -0.060680925049895605, -0.08805203370724915, 0.01533529098638167, 0.0719084120002017, 0.031236807189630216, 0.11940399758255311, 0.11930598450110239, 0.1467775160381627, 0.15161823457111354, 0.16784276122758554, 0.16230829400059993, 0.1844189201843828, 0.1928600953982268, 0.2026108216597275], \"y\": [-0.08607165558148602, 0.08672397627969822, -0.020998531744466507, -0.12952897326299026, 0.28573955193238354, -0.241185294960675, 0.04394729960144862, 0.22702277765206663, -0.10981449037389412, 0.0448752114959982, 0.0750466555046003, 0.003556016113659238, 0.005275391891707212, -0.033549349528647396, -0.019673994196886372, -0.023634940682017498, -0.014715059224277797, -0.027260967142893718, -0.035457316342815175, -0.03029630743051014], \"topics\": [1, 2, 3, 4, 5, 6, 7, 8, 9, 10, 11, 12, 13, 14, 15, 16, 17, 18, 19, 20], \"cluster\": [1, 1, 1, 1, 1, 1, 1, 1, 1, 1, 1, 1, 1, 1, 1, 1, 1, 1, 1, 1], \"Freq\": [36.89181425221062, 17.64587705643235, 9.087457444971292, 6.546766606940685, 6.4869465528339, 5.87054618009593, 3.7383095932877244, 3.6596875097571306, 1.6368675472181626, 1.597497360178404, 1.331517212126348, 0.993767862088963, 0.8757886674586921, 0.7166428678430179, 0.7091629514462034, 0.6086513867510542, 0.5634427500678988, 0.4130672035081889, 0.35088036164164055, 0.2753086331418118]}, \"tinfo\": {\"Term\": [\"write\", \"year\", \"say\", \"key\", \"people\", \"line\", \"drive\", \"article\", \"team\", \"use\", \"system\", \"run\", \"know\", \"go\", \"right\", \"state\", \"evidence\", \"believe\", \"reason\", \"game\", \"gun\", \"problem\", \"think\", \"first\", \"see\", \"make\", \"good\", \"new\", \"group\", \"card\", \"article\", \"go\", \"come\", \"take\", \"tell\", \"really\", \"still\", \"never\", \"bad\", \"let\", \"hear\", \"put\", \"far\", \"little\", \"happen\", \"enough\", \"see\", \"actually\", \"maybe\", \"big\", \"ever\", \"feel\", \"remember\", \"kind\", \"else\", \"hope\", \"pretty\", \"easy\", \"better\", \"wonder\", \"write\", \"know\", \"well\", \"back\", \"even\", \"time\", \"think\", \"way\", \"seem\", \"make\", \"thing\", \"much\", \"good\", \"want\", \"get\", \"give\", \"say\", \"organization\", \"try\", \"line\", \"people\", \"look\", \"point\", \"thank\", \"program\", \"file\", \"mail\", \"send\", \"window\", \"available\", \"list\", \"type\", \"address\", \"email\", \"copy\", \"entry\", \"interested\", \"com\", \"advance\", \"info\", \"nntp_posting\", \"application\", \"user\", \"contain\", \"disk\", \"code\", \"error\", \"appreciate\", \"network\", \"section\", \"like\", \"currently\", \"size\", \"information\", \"use\", \"include\", \"version\", \"source\", \"message\", \"software\", \"set\", \"system\", \"run\", \"need\", \"computer\", \"line\", \"help\", \"number\", \"host\", \"also\", \"work\", \"support\", \"new\", \"find\", \"report\", \"die\", \"speak\", \"accept\", \"member\", \"study\", \"describe\", \"human\", \"event\", \"form\", \"effect\", \"risk\", \"logic\", \"license\", \"authority\", \"firearm\", \"respect\", \"occur\", \"relate\", \"avoid\", \"indicate\", \"term\", \"activity\", \"bear\", \"treatment\", \"future\", \"animal\", \"search\", \"generally\", \"step\", \"group\", \"define\", \"child\", \"cause\", \"result\", \"body\", \"become\", \"appear\", \"research\", \"present\", \"example\", \"begin\", \"other\", \"create\", \"part\", \"often\", \"many\", \"age\", \"however\", \"lead\", \"also\", \"follow\", \"state\", \"law\", \"public\", \"encryption\", \"tape\", \"protect\", \"private\", \"individual\", \"grant\", \"citizen\", \"meet\", \"charge\", \"possibly\", \"flame\", \"legal\", \"tap\", \"court\", \"national\", \"clipper_chip\", \"telnet\", \"law_enforcement\", \"session\", \"property\", \"freedom\", \"federal\", \"popular\", \"rsa\", \"concerned\", \"proposal\", \"economic\", \"pass\", \"country\", \"government\", \"rule\", \"letter\", \"talk\", \"issue\", \"concern\", \"publish\", \"security\", \"sorry\", \"right\", \"allow\", \"action\", \"person\", \"case\", \"people\", \"interest\", \"attempt\", \"provide\", \"system\", \"mean\", \"car\", \"price\", \"money\", \"sell\", \"pay\", \"cost\", \"player\", \"light\", \"increase\", \"sale\", \"month\", \"serious\", \"amount\", \"longer\", \"advice\", \"drop\", \"pull\", \"purchase\", \"owner\", \"dealer\", \"straight\", \"radio\", \"room\", \"trust\", \"baseball\", \"pack\", \"extra\", \"minor\", \"announcement\", \"clean\", \"wait\", \"total\", \"buy\", \"low\", \"condition\", \"high\", \"power\", \"rate\", \"division\", \"year\", \"spend\", \"less\", \"new\", \"large\", \"old\", \"move\", \"black\", \"model\", \"difference\", \"good\", \"evidence\", \"faith\", \"science\", \"religion\", \"argument\", \"truth\", \"belief\", \"atheist\", \"christian\", \"conclusion\", \"white\", \"revelation\", \"christianity\", \"moral\", \"convince\", \"atheism\", \"interpretation\", \"false\", \"objective\", \"scripture\", \"context\", \"impact\", \"homosexual\", \"motto\", \"ice\", \"claim\", \"planet\", \"tradition\", \"observation\", \"canadian\", \"religious\", \"reject\", \"sense\", \"exist\", \"ignore\", \"believe\", \"reason\", \"prove\", \"word\", \"explain\", \"statement\", \"true\", \"view\", \"man\", \"book\", \"life\", \"say\", \"fact\", \"question\", \"people\", \"mean\", \"kill\", \"side\", \"israeli\", \"bike\", \"war\", \"self\", \"shoot\", \"special\", \"eat\", \"ride\", \"period\", \"route\", \"peace\", \"bomb\", \"withdraw\", \"night\", \"foot\", \"house\", \"arab\", \"civilian\", \"rider\", \"cd\", \"distribution_usa\", \"burn\", \"northern\", \"wave\", \"dog\", \"street\", \"rocket\", \"specify\", \"fire\", \"attack\", \"land\", \"city\", \"woman\", \"round\", \"road\", \"soldier\", \"death\", \"carry\", \"military\", \"man\", \"leave\", \"village\", \"stop\", \"area\", \"drive\", \"card\", \"driver\", \"speed\", \"memory\", \"fast\", \"device\", \"instal\", \"pc\", \"video\", \"slow\", \"format\", \"performance\", \"mode\", \"switch\", \"feature\", \"digital\", \"load\", \"board\", \"cable\", \"sample\", \"ide\", \"crash\", \"ram\", \"scsi\", \"resolution\", \"ring\", \"expansion\", \"configuration\", \"interface\", \"bus\", \"engineering\", \"nice\", \"bit\", \"system\", \"problem\", \"hardware\", \"machine\", \"datum\", \"computer\", \"run\", \"allow\", \"armenian\", \"direct\", \"occupy\", \"turkish\", \"terrorism\", \"turk\", \"tax\", \"greek\", \"russian\", \"escape\", \"daughter\", \"proceed\", \"prohibit\", \"human_being\", \"genocide\", \"british\", \"pgp\", \"aged\", \"historical\", \"muslim\", \"distribution_world\", \"serdar_argic\", \"foreign\", \"region\", \"massacre\", \"secrecy\", \"succeed\", \"rape\", \"slaughter\", \"imagination\", \"son\", \"murder\", \"jewish\", \"village\", \"soldier\", \"official\", \"history\", \"lie\", \"people\", \"child\", \"government\", \"key\", \"chip\", \"block\", \"family\", \"secure\", \"recommend\", \"listen\", \"secret\", \"doctor\", \"waste\", \"upgrade\", \"ensure\", \"impression\", \"clock\", \"quick\", \"floppy\", \"trick\", \"soul\", \"feed\", \"buyer\", \"trace\", \"odd\", \"red\", \"bank\", \"data\", \"touch\", \"pop\", \"brave\", \"lift\", \"strip\", \"bit\", \"function\", \"message\", \"team\", \"game\", \"win\", \"score\", \"wing\", \"originator\", \"saturn\", \"stat\", \"offense\", \"pitch\", \"tie\", \"assist\", \"giant\", \"inning\", \"hitter\", \"era\", \"deficit\", \"starter\", \"strength\", \"rbi\", \"observer\", \"th\", \"play\", \"dish\", \"engineering_carnegie\", \"batting\", \"goal\", \"hitting\", \"final\", \"staff\", \"hit\", \"pick\", \"lose\", \"year\", \"run\", \"last\", \"first\", \"next\", \"second\", \"third\", \"image\", \"patient\", \"color\", \"screen\", \"display\", \"graphic\", \"blind\", \"mirror\", \"pointer\", \"depth\", \"enable\", \"shape\", \"preach\", \"gif\", \"physician\", \"cub\", \"duo\", \"leather\", \"stroke\", \"domain\", \"dirt\", \"generic\", \"static\", \"fuzzy\", \"invalid\", \"thick\", \"roman\", \"adequately\", \"postscript\", \"int\", \"object\", \"function\", \"picture\", \"bit\", \"draw\", \"black\", \"space\", \"launch\", \"mouse\", \"engine\", \"orbit\", \"mission\", \"satellite\", \"plane\", \"flight\", \"fuel\", \"specification\", \"dual\", \"bottom\", \"shuttle\", \"lunar\", \"solar\", \"moon\", \"routine\", \"mid\", \"distant\", \"cross\", \"phase\", \"space_shuttle\", \"crew\", \"planetary\", \"frequently_aske\", \"telescope\", \"tail\", \"space_station\", \"dynamic\", \"earth\", \"fly\", \"design\", \"vehicle\", \"technology\", \"industry\", \"development\", \"resource\", \"medical\", \"solid\", \"nuclear\", \"collect\", \"cylinder\", \"conference\", \"middle\", \"fee\", \"hence\", \"ozone\", \"thermal\", \"presentation\", \"scare\", \"collision\", \"classic\", \"transport\", \"global\", \"asteroid\", \"priority\", \"cooling_tower\", \"abstract\", \"recognition\", \"earth_orbit\", \"bumper\", \"upcoming\", \"steam\", \"schedule\", \"technical\", \"summarize\", \"develop\", \"project\", \"facility\", \"factor\", \"basis\", \"appropriate\", \"gun\", \"weight\", \"hot\", \"cycle\", \"cop\", \"water\", \"club\", \"battery\", \"cool\", \"oil\", \"dod\", \"warrant\", \"heat\", \"dump\", \"amp\", \"afford\", \"unusual\", \"revolver\", \"reserve_university\", \"cleveland_ohio\", \"nicely\", \"converter\", \"recieve\", \"peripheral\", \"openwindow\", \"self_defense\", \"reactor\", \"semi_auto\", \"seventh\", \"sufficiently\", \"police\", \"safety\", \"cold\", \"input\", \"mount\", \"material\", \"signal\", \"disease\", \"door\", \"be\", \"circuit\", \"output\", \"workstation\", \"remote\", \"plug\", \"voltage\", \"greatly_appreciated\", \"cure\", \"production\", \"preferably\", \"km\", \"accuracy\", \"television\", \"pub\", \"pretend\", \"neighborhood\", \"greatly_appreciate\", \"soviet_union\", \"amplifier\", \"hassle\", \"visualization\", \"enlighten\", \"protective\", \"scope\", \"season\", \"fan\", \"trade\", \"vote\", \"pen\", \"star\", \"helmet\", \"devil\", \"remind\", \"penalty\", \"penguin\", \"flow\", \"flyer\", \"dumb\", \"indication\", \"leadership\", \"unhappy\", \"captain\", \"buffer\", \"defensive\", \"retire\", \"fighter\", \"oiler\", \"fate\", \"philly\", \"goalie\", \"lemieux\", \"caution\", \"voting\", \"sabre\", \"blue\", \"division\", \"record\", \"pass\", \"community\", \"concept\", \"air\", \"significant\", \"aware\", \"consideration\", \"role\", \"approve\", \"co\", \"percentage\", \"reserve\", \"fish\", \"evolution\", \"participation\", \"deletion\", \"controversial\", \"ray\", \"evolve\", \"plausible\", \"harmony\", \"approval\", \"intentionally\", \"alert\", \"sunlight\", \"fort_collin\", \"thesis\", \"personnel\", \"honesty\", \"consent\", \"comprehend\", \"crime\", \"criminal\", \"controller\", \"united_state\", \"relation\", \"electrical\", \"disarm\", \"honor\", \"custom\", \"approximately\", \"computer_science\", \"publisher\", \"loop\", \"milk\", \"death_penalty\", \"precedent\", \"crisis\", \"stab\", \"commander\", \"diplomatic\", \"preliminary\", \"pseudo\", \"empire\", \"commit\", \"gateway\", \"busmastere\", \"vlb\", \"violent_crime\", \"gun_defense\", \"racial\", \"murder\", \"wire\", \"task\", \"regularly\", \"hook\", \"crack\", \"mph\", \"wall\", \"paint\", \"volt\", \"impressive\", \"ultimate\", \"sustain\", \"nhl\", \"sharp\", \"cord\", \"please_respond\", \"mask\", \"discipline\", \"clutch\", \"climb\", \"ist\", \"solar_terresterial\", \"ground\", \"expose\", \"wire\", \"neutral\", \"outlet\", \"wiring\", \"ground_wire\", \"breaker\", \"connect\", \"physical\"], \"Freq\": [14017.0, 4523.0, 8930.0, 2627.0, 7999.0, 14162.0, 3024.0, 9141.0, 1928.0, 6305.0, 4957.0, 2981.0, 8468.0, 7677.0, 3789.0, 2676.0, 2559.0, 2926.0, 3027.0, 1544.0, 1293.0, 4003.0, 7283.0, 3532.0, 6466.0, 8407.0, 6513.0, 3438.0, 2548.0, 1794.0, 9140.312342289677, 7676.047722845314, 4890.46205382701, 4811.422903205572, 3339.422586836775, 3105.349234822177, 2733.907036384771, 2564.456480269555, 2228.8494199849906, 2228.2198272239493, 2113.9010503858335, 2006.5162764563704, 1992.3159436816657, 2052.378904584166, 1893.1535758110692, 1715.8118095894267, 6461.879968185699, 1561.0022069312313, 1472.8638386557216, 1466.2508526548695, 1414.3323527194127, 1271.8466513569447, 1235.8890819171882, 1221.8010013847588, 1169.468365133132, 1020.5133153997261, 912.8267516467819, 910.452206733358, 882.2626621098067, 815.1852084456706, 13963.159526595746, 8379.881157464482, 4378.215204399281, 2458.047386618879, 4135.061956065344, 6197.730743775173, 6933.113938753916, 4267.525633976831, 3052.4949225327714, 7830.975044269758, 4405.179870651202, 3595.3682552711, 5951.079674101751, 4415.205475617889, 7089.829002018395, 3865.3617593113627, 7563.231486096497, 3746.087861242861, 3756.0199697995254, 8721.615060117945, 5529.795783586604, 3095.301952260424, 2931.1757904950196, 3443.4642306278047, 2692.9302540205795, 2558.1275886881726, 2534.5671959949377, 2218.3941374186084, 1836.891773210951, 1627.4312175408788, 1578.0403178563336, 1508.7161772816078, 1427.3189921896335, 1254.4129749957983, 1182.6447964403771, 1133.6956935649737, 1116.8526861108191, 1112.793565223561, 1046.4793231956887, 1040.968313733408, 1034.8672801243877, 960.5607534939115, 954.7513057789248, 882.4698314613721, 870.9427215725632, 846.4974729844473, 844.2383585252928, 827.158584046484, 785.7916160420953, 745.0593477597379, 737.6058298577518, 734.6625614827261, 733.2768522664607, 2069.25255091374, 5524.70444206323, 2294.940754196662, 929.6843859665165, 1686.6568748473776, 1755.1597241701702, 1418.8363131288825, 1858.825812670859, 3564.788847427278, 2234.5175570495467, 2759.1772347383253, 1440.0187570375647, 5439.457854324419, 1945.4895763782602, 1958.3206179923363, 2185.3884895963783, 2709.452012080658, 2077.3129082899973, 1370.5907491313835, 1557.9181862895914, 1318.6666406407874, 1434.2477259561338, 1080.2906129777693, 1075.1175256464935, 1070.1741882130286, 864.401766095122, 855.3412250563772, 830.2058990291777, 827.4535435435954, 794.7377710093067, 790.5949364534221, 851.7255894373861, 670.5726240328787, 555.940658396291, 543.0521906041994, 541.4351655049112, 515.0685323252947, 511.3238597285312, 510.02875379689175, 478.30961663176663, 475.6441835004089, 474.3510277497937, 467.70871118114013, 454.6740262451099, 444.70957630161746, 438.02876687417535, 408.39892364638166, 399.7223361050099, 398.64314307248577, 388.46468397802073, 377.94575577973575, 2509.023226997276, 577.0925539498991, 1592.3671961487862, 1202.5055789299304, 1132.9233057156082, 717.8973419185965, 1254.0479347436778, 861.7820229191898, 726.2468562424697, 762.1913856268401, 952.5964741392856, 803.8660111893224, 827.44063520253, 762.9230749739925, 1107.5970476795567, 763.7344431458506, 1240.408368659954, 628.4305586520322, 821.1339355015765, 695.5532821317014, 925.4727063934381, 734.671173938488, 2675.277977929405, 1964.8140335140301, 1709.3449475484092, 828.3549058864525, 769.413840693071, 731.191101421197, 675.2084494732167, 616.5925956499369, 609.0033491159749, 572.7247864363973, 496.2051803061292, 460.73282203210806, 460.50217685654223, 444.32366384321693, 422.0371514343239, 407.3974548628229, 379.904014718147, 377.10917723902827, 375.955416143968, 362.1784228469909, 325.4268619393494, 309.5329841397862, 307.50959539727353, 307.32708632143783, 298.30887668235306, 291.95842388105643, 290.85681301496027, 272.94642066919744, 261.58959606396775, 249.12197827201928, 799.3120787596363, 935.8628537789112, 2114.6985416096263, 1037.7037209210719, 339.9448300418317, 1272.2845494942828, 1422.2627206053373, 561.5928032448827, 517.5575044890576, 571.9727393244218, 559.7869803068486, 1765.8943945442193, 901.3778040410505, 541.1365665112737, 798.8332600441831, 930.8841292900769, 1261.296807346574, 498.2226147569449, 478.3894377825946, 534.5637978525716, 542.3576980753099, 507.37285579674875, 2120.38536247355, 1387.3437070121036, 1323.4271340007804, 1291.4587712865343, 1277.2657685869765, 1226.5162811432908, 1094.0044597951946, 859.0307890223054, 843.8999697250949, 833.893499110655, 804.5501876051775, 581.6360149457955, 552.455513757971, 476.93078385779, 473.1380856884605, 434.9441839039479, 415.745459990447, 414.2141414490052, 398.45932641886867, 382.67951973980905, 378.2882483769752, 378.1898064707397, 374.72186715571854, 374.4054940934228, 369.5708032620303, 349.3178560253888, 344.38992711916785, 341.36825777908115, 341.21118161960294, 336.1438430643494, 494.791161882409, 499.1271466797207, 1503.8535810563621, 1063.9403016308586, 580.4588221034178, 1788.5038219312387, 1471.8535313177522, 886.4083780728315, 607.9746275677494, 3041.032100698488, 602.0842218691823, 1074.1423965316965, 1766.5451117920381, 984.9448813455494, 1197.3260352011116, 699.912473743772, 569.7543751719717, 557.9640841838668, 522.3008354434902, 560.7343123452656, 2558.2734016503305, 1214.3013041588326, 879.8787446108569, 856.1016623954287, 802.4606719427585, 764.3487337981131, 762.5589390244091, 738.5445893178634, 576.8168282270232, 575.5790778157119, 462.12040320165687, 393.1100885560315, 389.5298690949302, 379.7141339845223, 337.1264490782304, 313.40050985551454, 298.87029069372505, 277.23440510515394, 269.91303823227554, 256.2271733824287, 242.84839145803264, 230.2824081691373, 221.30088875980007, 218.78426357177642, 215.0517849722538, 1747.1766129733571, 207.348960364288, 204.32783429976558, 183.73849032071965, 169.65246529827448, 535.5073281919701, 266.52176288325376, 1353.8513039054712, 1208.1873018605397, 347.2781381583622, 1972.8384542231847, 1933.1534116153073, 678.6835310993159, 829.7352149583534, 637.2997012484614, 474.5601487868394, 859.784977730989, 599.2560337498064, 864.1570586962636, 697.7360206483806, 630.2692045224055, 1366.1569378657757, 692.607803284106, 753.7199900809735, 919.067175261346, 647.8117609529023, 1431.6922151939175, 857.6854948469208, 744.4337394494133, 708.6459075485529, 697.81137829428, 550.1043605436979, 549.6886058739957, 512.4132562547795, 502.12941188185886, 480.2190682043484, 462.56720146711615, 441.8493016249531, 379.2074542376299, 377.7490848067852, 365.6591926745295, 356.4261383360506, 329.17978613564475, 300.5968722563326, 295.38540294351066, 295.1754817903347, 292.14409809139664, 281.258225064627, 273.40961887739405, 270.5436698561318, 264.12804773008287, 258.25128690087166, 251.50748867539454, 248.9912426998416, 248.05244244893672, 233.10158668404281, 716.6405607910347, 797.3657306942923, 473.53471262024374, 478.61320003421116, 611.008580332803, 308.17821577065945, 388.6360274954818, 494.3797112206627, 702.2234281255077, 531.4104520784985, 405.54134661208354, 689.4667927928189, 509.0672773426652, 370.1448581676626, 438.2040847887573, 398.1046748733849, 3023.589513155178, 1793.242293915236, 1507.980082685378, 937.0780075103334, 857.5529772967219, 791.1306039275818, 738.930606386568, 721.9162632569798, 649.5083673608517, 641.6765426700335, 616.5755396741221, 549.6240859956379, 512.0553075669626, 465.3059928339907, 448.36382931824534, 429.1586666140914, 400.71660766882155, 366.87835591414665, 343.59986946838444, 327.886666724913, 309.8955987844825, 293.5971427886659, 288.8751561909454, 283.13562403185944, 273.6629846840813, 256.08158280066334, 216.03061102983185, 213.68282884423064, 208.17245760940472, 205.85371556377706, 524.8535384753301, 347.2428082379185, 352.82016065844005, 560.933659116952, 849.5362531184225, 687.669990990893, 332.3874957337944, 354.879860167652, 361.5743510571366, 344.8913983722434, 346.2864470538831, 336.89700125584244, 573.7082810994508, 505.53883354346715, 405.5001309494618, 404.32346322794166, 395.4291706909501, 381.6135620927025, 352.4845123240505, 329.1614539614709, 209.0469038275263, 205.59506750395678, 201.60604951302548, 191.4616562496026, 189.42090453384608, 184.36066794735368, 175.90573561696752, 170.87739806017115, 167.96046848627142, 164.0216157759161, 154.26074687162856, 151.3863047310943, 138.7015978631511, 128.7507900589167, 121.7326689790664, 119.67513974533128, 113.82536453735571, 113.66198864693028, 112.32032248339554, 106.13747256157218, 101.58800517894389, 82.49442862554179, 272.65368613280083, 422.568537300564, 361.5117871820088, 247.77441679552672, 211.56709444687394, 151.4810483620321, 187.5525781972751, 169.143726778164, 288.037365386946, 188.54452594767122, 194.60698086884577, 2626.72793095518, 1249.6473304354865, 524.5229821209282, 512.7023053588446, 428.0473135915711, 401.83173492790905, 384.73703592881174, 377.7994301230915, 355.4543148478884, 325.8200510545245, 311.1269892151728, 259.3311358814092, 258.97281829083823, 257.9631492242916, 217.21018399321207, 195.80344647661337, 191.90284712422928, 179.63114305373549, 175.5465445413293, 170.16534862979296, 165.0131925740911, 156.5936352335925, 155.66875825622648, 154.58859780710728, 148.89833685275858, 141.08806144379622, 137.2947173909725, 131.44991575271382, 120.42669112161587, 120.23386013251277, 709.9983472751545, 167.81802477014446, 150.81719456442195, 1927.4583112611513, 1543.4277498484882, 1129.0039963008114, 481.46056096539115, 428.21361116678924, 274.83794573343704, 190.5796955745958, 161.34296969613524, 145.51852284431178, 140.79666095443247, 135.81568237074399, 122.84818654461284, 107.96144059489616, 99.80131938574844, 97.73220257804725, 96.53475906353046, 88.2774095639026, 76.0027920219419, 68.74866757707734, 60.0208177866059, 46.261885308797446, 45.23198387540614, 1225.789517405523, 30.853909045987855, 25.38170001953549, 18.39151932551572, 428.17333466551975, 1.4910652468449512, 194.10765855420854, 33.488448061038056, 193.28199027818366, 191.54521583712338, 269.48963457262977, 619.3833030572789, 399.9214372777291, 218.21351195101275, 200.53163804435982, 147.45286985241032, 126.20462061375146, 83.00150766036076, 1074.1667317278, 867.3513793610971, 820.2618829522513, 753.4366546596677, 662.0003583262779, 632.3989946946142, 234.4272881573398, 199.02678979492728, 172.29469988985764, 137.31738832651106, 136.93797141787186, 136.22493857642291, 125.67365301827547, 122.61240109942433, 119.93185582844305, 107.84727343356558, 68.20044575242657, 62.6421520510087, 61.8611844805551, 60.91460728408418, 57.62552343790598, 54.88064353679625, 54.371907420571304, 43.93151404769422, 42.97106961563681, 40.695309509973626, 39.425314968270904, 35.2015027700894, 30.32990127130507, 28.721583756371963, 315.91772486939954, 455.60296271372926, 121.48622517622542, 184.50196999848126, 71.06631233325777, 44.427434015028545, 1050.4654529742982, 423.2759975204124, 382.0106906117341, 362.87952454981075, 346.1505879593785, 311.0187829445058, 262.14481701466553, 249.98777027549758, 234.24710465342713, 183.5581403913236, 136.27247476045127, 134.92408237622928, 129.4966110568652, 127.73224165371175, 127.40807152090518, 126.59228974305664, 123.74580193462332, 121.71269736187813, 105.2410939159915, 102.15876139483024, 101.88903279919442, 101.12322661621052, 100.93892371057882, 97.37155763574835, 96.4252522054095, 88.07163999840448, 68.49673468702137, 62.289329950344246, 62.257535842042564, 61.48631056473729, 226.5485182008182, 91.72623066985938, 81.61047755596188, 69.0451013884448, 1045.684988130005, 274.78910119105876, 274.71528076343714, 228.96258077020002, 215.88920274206563, 175.35781866512332, 166.48338757145507, 165.24386349837283, 159.52494810041355, 149.28631843367992, 148.83933867381307, 116.05961213899882, 107.22620704091949, 106.52125125095355, 103.69578170719136, 86.05960552380466, 74.31126755420266, 61.73116084575616, 60.698608599581505, 47.37012533575552, 45.54620785263998, 44.68046560548827, 39.90522500235285, 39.43230922617432, 33.18886966379746, 32.7294400302246, 32.026575086695765, 26.664328430912544, 20.938441103677878, 18.840653861986464, 191.28066519945205, 286.08257203962836, 56.644980985085176, 253.50599814987598, 98.1965626394127, 72.55681670463919, 69.2347216987436, 54.72783958000442, 45.76742746148582, 1292.4660587601547, 323.3306205603832, 297.7333448389401, 247.62668660051636, 231.1744216354958, 216.4156975799347, 206.08501686564168, 199.57683324585784, 191.00935176845968, 180.08325613717827, 160.2549248190838, 151.92295690025782, 145.1269362591382, 123.32788012524334, 87.6335747647096, 87.03061570302079, 86.27214290345887, 81.43858547875594, 67.19021810161588, 66.33226549965012, 65.05168860710485, 59.24698742186213, 57.66249600075935, 50.64237222933923, 46.47549326332633, 42.01272946359554, 37.183190509820925, 32.693692464365085, 29.7849590615181, 20.85185651753387, 196.14983485728496, 171.300378820409, 42.60505352783206, 505.6237244446206, 349.1969556793547, 337.9618410033545, 336.1003061950085, 290.4496618356624, 258.3808174346241, 244.531438330293, 241.13053350782295, 240.71210988366477, 230.10662100482062, 146.4945443467229, 137.5629490006033, 104.49670986363459, 102.2269458109615, 91.88144782713773, 85.88522432433281, 78.9943398083978, 76.2604298093346, 66.2589532705725, 58.687719853440946, 56.85199753826086, 50.50963472197909, 45.808906041842384, 39.16026088948306, 37.204081309508425, 33.43024815956983, 26.167660632106916, 22.385729201179885, 22.278705317617874, 13.976046917180126, 40.53105977353913, 561.9991209797101, 480.46207062569255, 377.93298982001033, 272.9891899569673, 256.76807447015636, 236.64325069380757, 186.9957779318077, 153.05216675606425, 146.30927959393887, 132.06422440321967, 125.06747206225943, 98.93756507673459, 82.78206069704143, 77.70663419107055, 71.422541116374, 63.149380681875414, 60.91343821643213, 58.10279542518518, 55.77286123419642, 51.93879457173967, 40.75686833748622, 40.21442944504639, 31.9998814076435, 31.61796085168717, 26.53743285901981, 25.166647261596633, 18.872557057919554, 18.5470810551072, 16.747799364608284, 15.283535932934965, 111.64984807270332, 52.987777697402805, 24.91304982444508, 24.06005936882864, 369.977786160071, 283.88680338171275, 259.510345279995, 246.55923910466444, 200.15267470114648, 133.52364025742065, 132.525533610698, 123.96082527034183, 119.02542910057026, 103.42575990585502, 80.47021880629079, 80.32707856476031, 75.33990539107802, 44.69732386678773, 41.17807054366473, 37.56094070092018, 32.572051617235466, 31.879406499209715, 30.617383185398637, 28.43944383656766, 26.998837136489723, 25.356164621255687, 25.272825848370513, 22.92462939243572, 15.033550805816446, 13.800050010791024, 13.24883027958853, 11.75138749038977, 10.177858972245966, 6.992091597269021, 408.1481260966632, 271.8441956825459, 264.0352591657451, 213.30146841755376, 123.64750445974316, 115.45185166522788, 87.27117494902905, 68.85250792944758, 59.834926171009116, 50.648286470413154, 46.32693196896963, 43.33850259961899, 29.94552287438963, 29.358508361800045, 28.52238725112493, 19.90541989086852, 19.04845339233533, 16.14504244025637, 13.37939355947822, 8.90033788111218, 7.469947069637737, 4.770947134729029, 3.7092471313554247, 32.040965732524825, 0.04693723719548608, 0.04693763288158241, 0.04693626723930302, 0.04693525526335752, 0.04693351494486301, 0.046933301344403926, 18.488519776244946, 0.046936109665193855, 128.67382921636286, 96.08032469893303, 90.80036384507456, 78.07833632879976, 77.24934247930328, 63.64726897039331, 62.68423300099712, 61.702274033984324, 61.39751980445329, 50.736574160010655, 38.45459777415635, 37.71077710780663, 28.298622702596766, 27.67885092279348, 27.645678002053458, 22.146645329073355, 18.063869329481648, 15.182183197640478, 12.463408995399108, 10.728713664824726, 9.682874810451866, 277.8232308915431, 41.736049814462596, 0.042334807837167324, 0.042328090270603594, 0.042325576334650304, 0.042323411327512384, 0.042317894405770065, 0.042316987740344286, 0.04231931484827045, 0.04231744382052816], \"Total\": [14017.0, 4523.0, 8930.0, 2627.0, 7999.0, 14162.0, 3024.0, 9141.0, 1928.0, 6305.0, 4957.0, 2981.0, 8468.0, 7677.0, 3789.0, 2676.0, 2559.0, 2926.0, 3027.0, 1544.0, 1293.0, 4003.0, 7283.0, 3532.0, 6466.0, 8407.0, 6513.0, 3438.0, 2548.0, 1794.0, 9141.480093245758, 7677.215473801394, 4891.629804786752, 4812.590654161652, 3340.5903377928544, 3106.5169857782566, 2735.0747873408504, 2565.6242312256345, 2230.01717094107, 2229.387578180029, 2115.068801341913, 2007.6840274124509, 1993.4836946424095, 2053.629239012385, 1894.3213267671497, 1716.9795605455072, 6466.464528164318, 1562.1699578873117, 1474.031589611802, 1467.41860361095, 1415.5001036754932, 1273.0144023130251, 1237.0568328732686, 1222.968752344501, 1170.6361160892125, 1021.6810663558064, 913.9945026028621, 911.6200072941853, 883.4304130658869, 816.3529594017508, 14017.582391816606, 8468.61488141493, 4397.084241515915, 2466.9288496374484, 4198.787383903415, 6473.388962633896, 7283.473802335515, 4418.530353359246, 3128.8359554316603, 8407.635849679229, 4626.957071811359, 3779.9796562725746, 6513.724569206254, 4726.8488784777, 7944.910825519812, 4196.108780073202, 8930.499929332529, 4253.7119905281825, 4324.544617111063, 14162.165190744137, 7999.160544862352, 4230.090748960524, 3725.337436781754, 3444.629093646094, 2694.095117038869, 2559.292451706462, 2535.732059013227, 2219.559000436898, 1838.0566362292413, 1628.5960805591692, 1579.205180881268, 1509.8810403085185, 1428.4838552079239, 1255.5778380140887, 1183.8096594586675, 1134.8605566096653, 1118.0175491291095, 1113.9584282465148, 1047.6441862176407, 1042.1331767516983, 1036.032143142678, 961.7256165122017, 955.9161687972149, 883.6346944833239, 872.107584599984, 847.6623360027374, 845.403221543583, 828.3234470647741, 786.9564790603854, 746.224210778028, 738.7706928878712, 735.8274245690332, 734.4417152847508, 2108.5621838477637, 6305.181277839759, 2480.389304913964, 948.3183006680343, 1820.7314982800735, 1907.0761954978955, 1526.8811443804218, 2117.7427757890305, 4957.705831992668, 2981.7650209430285, 4374.0301535795525, 1786.0057516036318, 14162.165190744137, 2849.877908284181, 3029.591086131065, 4040.944358536626, 6107.962645138604, 4864.701035343564, 1925.9349641708768, 3438.222859920532, 4103.547760384832, 1435.4148358401128, 1081.4577228664118, 1076.2846355304725, 1071.3412981006693, 865.568875979101, 856.5083349403562, 831.3730089131567, 828.6206534275744, 795.9048808932857, 791.7620463374011, 853.083074764741, 671.7397339168577, 557.1077683010386, 544.219300497667, 542.6022753888902, 516.2356422128123, 512.4909696161717, 511.1958636808708, 479.47672651574567, 476.8112933843879, 475.5181376404167, 468.87582106511917, 455.8411361382195, 445.87668619376416, 439.1958767631131, 409.5660335303607, 400.8894460130496, 399.81025296463247, 389.63179386199977, 379.1128656637148, 2548.4766363231697, 579.5579963719423, 1782.0033027168895, 1340.0517741854871, 1265.8544144605603, 769.8870814230851, 1458.793923252329, 962.3188514968822, 819.5448102864343, 897.1073617996298, 1307.6137324356337, 1039.624995147921, 1269.9991940075263, 1098.87527832756, 2455.0026846402056, 1155.2734198748922, 4063.7846487887596, 793.769425717522, 2162.61175613873, 1239.0743956224155, 6107.962645138604, 2322.0582389557617, 2676.445752776175, 1965.9818083608006, 1710.5127223951797, 829.5226807332231, 770.5816155605494, 732.3588762899292, 676.3762243199873, 617.7603704967075, 610.1711239627455, 573.8925612831679, 497.3729551528998, 461.9005968788787, 461.66995173789036, 445.49143972384843, 423.2049262810945, 408.5652297156676, 381.0717895649176, 378.27695209396654, 377.12319099472427, 363.3461977414291, 326.59463679010565, 310.70075901749436, 308.67737024404414, 308.49486116820844, 299.47665152912367, 293.12619873148867, 292.0245878657165, 274.11419551596805, 262.75737091073836, 250.28975311878997, 824.4874654968363, 973.2004303999469, 2310.397768061695, 1158.3404811017597, 347.42169799156625, 1685.9161178940012, 1980.9919833095264, 638.1949892561976, 591.7117510635669, 677.6535792269475, 671.4524554077225, 3789.414574897557, 1527.0747621413702, 731.6010612765471, 1634.5911375189196, 3033.353451911672, 7999.160544862352, 674.5101158342031, 631.5232643520671, 1945.5904658568882, 4957.705831992668, 2979.4683990245935, 2121.555473232667, 1388.5138177712208, 1324.5972447598976, 1292.6288820456516, 1278.4358793460938, 1227.686391902408, 1095.174570560956, 860.2008997814228, 845.0700805001003, 835.0636098697723, 805.7202983642949, 582.8061257156241, 553.6256245170883, 478.1008946448207, 474.30819730950105, 436.11429467219574, 416.9155707495643, 415.3842522081225, 399.629437177986, 383.8496304989264, 379.4583591455068, 379.35991722985705, 375.8919779184975, 375.5756048601874, 370.74091402779163, 350.4879667957618, 345.5600378782852, 342.5383685431572, 342.38129241378834, 337.31395382783677, 497.9194636552245, 503.9328553479411, 1589.9058662150578, 1160.2177360104074, 608.903428268653, 2140.0195574762142, 1747.5721665855253, 1016.4549699912137, 662.0800685525143, 4523.289698753584, 676.6292056518572, 1533.2716162118575, 3438.222859920532, 1493.083548564258, 2040.3656502531287, 1057.2503615363978, 711.3797547964888, 937.5078177492553, 896.1477030859373, 6513.724569206254, 2559.4574937371044, 1215.485396245607, 881.0628366976313, 857.2857544822031, 803.6447640295329, 765.5328258895508, 763.7430311111835, 739.7286814046378, 578.0009203137976, 576.7631699024863, 463.3044953057133, 394.29418064280594, 390.71396118170463, 380.89822607129673, 338.3105411757162, 314.584601942289, 300.0543827804995, 278.4184971919284, 271.09713031905, 257.41126546920316, 244.03248354480715, 231.46650031335582, 222.4849808465746, 219.96835565855093, 216.2358771065957, 1757.131203877019, 208.5330524726581, 205.51192639423826, 184.92258241107007, 170.83655739986062, 539.7088214363465, 270.0783791667261, 1558.8464579576982, 1532.1990534963513, 373.1154425399409, 2926.063676530844, 3027.312545411672, 871.4756337779736, 1260.9030388326494, 938.0239162397239, 616.1142851856492, 1525.9211977475409, 985.2012232387608, 2023.229350175864, 1475.6060175148648, 1359.5927314651394, 8930.499929332529, 2234.333945338049, 3276.5523112749756, 7999.160544862352, 2979.4683990245935, 1432.8628385101106, 858.8561108530723, 745.6043554555648, 709.8165235547044, 698.9819943004314, 551.2749765998789, 550.8592218836858, 513.5838722664341, 503.3000278880104, 481.3896842104999, 463.7378174732677, 443.0199176904496, 380.37807024378145, 378.91970081293675, 366.82980870268443, 357.5967543488461, 330.35040232012653, 301.7674882624841, 296.5560189496622, 296.3460978000621, 293.3147140975482, 282.4288410893978, 274.5802349105291, 271.71428586228336, 265.29866374440206, 259.42190291068476, 252.67810468154607, 250.16185870599313, 249.22305846740417, 234.2722027104961, 726.7998123478208, 893.1580748534976, 519.2932082280691, 558.5348136417459, 781.8388787054124, 329.7459425478105, 478.3100946360806, 707.0418924101411, 1313.779760371396, 827.8796665659764, 550.1316914171356, 2023.229350175864, 1660.1540905888999, 619.0143617057938, 1288.6040871410792, 1181.8896088997185, 3024.7605840033098, 1794.4133647761985, 1509.1511535335094, 938.2490783584651, 858.7240481448537, 792.3016747757135, 740.1016772346998, 723.0873341111857, 650.6794382089835, 642.8476135181653, 617.7466105288978, 550.7951568437696, 513.2263784217383, 466.47706368212243, 449.5349001663771, 430.32973746222314, 401.88767852888486, 368.0494267622784, 344.7709403165162, 329.0577375730448, 311.0666696407819, 294.76821363679767, 290.04622705848755, 284.3066948799912, 274.8340555322131, 257.2526536487951, 217.20168190763582, 214.85389970462936, 209.3435284575365, 207.02478641190885, 558.9950254910328, 427.6858408024844, 620.6122635224741, 1885.2038903735179, 4957.705831992668, 4003.3431923708818, 584.3822047220527, 1129.3290496244024, 1289.4844531211781, 1786.0057516036318, 2981.7650209430285, 1527.0747621413702, 574.8730895085021, 506.70364198442775, 406.6649393631765, 405.488271636993, 396.59397913777366, 382.77837050175384, 353.6493207366404, 330.3262623705222, 210.21171224094766, 206.75987591300813, 202.77085792207683, 192.62646468432038, 190.5857129540686, 185.52547646755076, 177.07054402601887, 172.0422064735925, 169.12527692661752, 165.18642435096697, 155.42555528434153, 152.55111314014565, 139.8664062862917, 129.91559846796804, 122.89747739647335, 120.8399481644207, 114.99017294640706, 114.82679713144817, 113.48513091815876, 107.30228097062353, 102.75281358799523, 83.6592370496754, 340.1316663811597, 583.376235376299, 574.2879986503248, 619.0143617057938, 707.0418924101411, 337.93450241749605, 787.8616104225799, 549.9972152202047, 7999.160544862352, 1782.0033027168895, 2310.397768061695, 2627.90268235996, 1250.8220818402665, 525.6978778902998, 513.8770567729543, 429.22206499635126, 403.00648636299286, 385.9117873486742, 378.97418153141024, 356.62906626083617, 326.9948024687189, 312.3017406290835, 260.50588730613345, 260.14756972710285, 259.1379006290718, 218.38493539799225, 196.9781979004415, 193.07759855253207, 180.80589446217726, 176.72129595275348, 171.3401000642524, 166.18794399070055, 157.76838664203427, 156.84350966100666, 155.76334922037972, 150.07308827103932, 142.2628128540795, 138.46946879941427, 132.624667164138, 121.60144253076604, 121.40861153729293, 1885.2038903735179, 624.5349859673116, 1907.0761954978955, 1928.6426323017963, 1544.6120708891333, 1130.1883173414565, 482.64488200603626, 429.39793220743434, 276.02226681816734, 191.76401662755683, 162.52729073678034, 146.70284388495688, 141.98098199507757, 137.00000343044536, 124.03250774912809, 109.14576164769512, 100.98564042639354, 98.91652362663827, 97.71908010417556, 89.46173062366651, 77.187113062587, 69.93298864962131, 61.205138827250984, 47.44620637021767, 46.41630496078108, 1262.2432708707684, 32.03823022825741, 26.566021114997405, 19.575840366160815, 535.6836943451551, 2.6753862874900434, 425.7795888207925, 103.21692021191492, 626.0720523340192, 650.495817074758, 1205.8275795250179, 4523.289698753584, 2981.7650209430285, 2228.2261344220656, 3532.5845096128155, 1554.440727355167, 1362.4746355312761, 354.0539384018384, 1075.3463164277237, 868.5309640702646, 821.4414676521749, 754.6162393595913, 663.1799430262015, 633.5785793945378, 235.60687293004344, 200.20637453064157, 173.47428458978135, 138.49697302643477, 138.11755614306858, 137.40452327634662, 126.85323776105956, 123.79198579934804, 121.11144052836676, 109.0268581401333, 69.38003046148084, 63.821736755595744, 63.040769194149526, 62.09419199333755, 58.805108177217605, 56.06022825558868, 55.55149212049499, 45.11109875198792, 44.15065435125293, 41.87489421780591, 40.604899685691926, 36.38108749345097, 31.509485971228774, 29.901168461798758, 380.6565277972719, 624.5349859673116, 566.1298718915718, 1885.2038903735179, 716.2937106788918, 711.3797547964888, 1051.6489239017533, 424.45946844786755, 383.1941615391893, 364.06299547726593, 347.3340588868337, 312.202253871961, 263.3282879421207, 251.17124120295276, 235.4305755808823, 184.74161131877878, 137.4559457101016, 136.10755335651103, 130.68008200009493, 128.91571258116693, 128.59154244836034, 127.7757606705118, 124.92927286207848, 122.8961682933189, 106.4245648538626, 103.34223237741404, 103.07250374173186, 102.30669754641315, 102.12239463803398, 98.55502856686512, 97.60872313286467, 89.25511094467802, 69.68020562575862, 63.47280088246275, 63.44100676949771, 62.669781501322994, 598.3618046169199, 219.56768965532032, 916.0792175200704, 347.2623941829337, 1046.8654470271986, 275.9695600882524, 275.8957396606308, 230.14303966739365, 217.06966163925927, 176.53827756231695, 167.6638464686487, 166.4243224037341, 160.7054070307001, 150.46677733087355, 150.0197975932519, 117.24007103619245, 108.40666596490162, 107.7017101525172, 104.87624064507848, 87.2400644209983, 75.49172648076726, 62.9116197682102, 61.87906751677202, 48.55058423294913, 46.7266667547923, 45.8609245070519, 41.08568389954646, 40.61276812336793, 34.3693286137754, 33.90989898168542, 33.207033996999414, 27.84478734087737, 22.11890001398154, 20.02111275918009, 214.4774546428794, 354.8915147943034, 73.69953350337009, 532.4208685580554, 494.4201338290139, 241.66518092216043, 358.65133311536465, 305.4226283251596, 469.973754224442, 1293.6470687492874, 324.51163057229076, 298.9143548347168, 248.807696598893, 232.35543162462844, 217.59670756906732, 207.26602686704123, 200.75784323499047, 192.1903617575923, 181.2642661263109, 161.43593481429053, 153.10396689337605, 146.30794625662645, 124.5088901440062, 88.81458475384224, 88.21162570576742, 87.45315292899444, 82.61959546788857, 68.37122809074852, 67.51327548878275, 66.23269865462451, 60.42799741706886, 58.84350603109603, 51.82338231299603, 47.656503257417654, 43.19373945272817, 38.36420053708881, 33.87470245349771, 30.965969104436812, 22.032866568211876, 450.2245936561477, 490.19087879911194, 209.12399146720838, 506.80657700978014, 350.37980824805277, 339.1446935857896, 337.28315876929855, 291.63251440649003, 259.5636699997836, 245.71429089545254, 242.31338607298247, 241.89496245795482, 231.28947358461377, 147.6773969355008, 138.74580157013284, 105.6795624287941, 103.409798376121, 93.0643003969606, 87.06807688949232, 80.1771923735573, 77.44328240801678, 67.44180583573201, 59.870572444700464, 58.03485010740595, 51.69248728713858, 46.99175864588447, 40.343113454642555, 38.38693390656679, 34.61310072472932, 27.35051319726642, 23.568581793877655, 23.461557882777377, 15.158899504278585, 66.81717622881052, 563.1870111805532, 481.64996081989165, 379.12088001420943, 274.17708016299565, 257.95596466435546, 237.83114089465067, 188.1836681260068, 154.24005695026335, 147.49716980322023, 133.25211459741877, 126.25536225645853, 100.12545530423712, 83.96995089124053, 78.89452438526965, 72.61043133257193, 64.33727090647446, 62.10132842538854, 59.29068561938427, 56.96075144798786, 53.12668477258276, 41.94475853168531, 41.402319669277496, 33.18777160184259, 32.805851097985595, 27.725323053218904, 26.35453745579573, 20.06044725211865, 19.734971252053764, 17.93568961640457, 16.471426127134063, 181.5135920806195, 662.0800685525143, 514.1059406579309, 824.4874654968363, 371.17023268174495, 285.0792499032507, 260.702791788838, 247.7516856191755, 201.3451212236602, 134.71608676992525, 133.71798011954098, 125.15327179434158, 120.21787560941324, 104.61820642484365, 81.66266534357668, 81.51952508192826, 76.53235190358261, 45.88977038924469, 42.370517056169305, 38.75338732245359, 33.764498135814144, 33.07185301171429, 31.80982969790322, 29.63189037959696, 28.19128364887128, 26.548611138266306, 26.465272357213486, 24.117075909310312, 16.22599731465942, 14.992496582837896, 14.441276788431503, 12.943834029038069, 11.37030548108894, 8.184538106111994, 409.3415334513203, 273.037603037203, 265.2286665295328, 214.4948757932841, 124.84091183160129, 116.64525902263246, 88.46458245659122, 70.04591529074871, 61.02833352566623, 51.841693905620424, 47.52033932362674, 44.5319099641492, 31.138930229046743, 30.55191573254118, 29.71579460578204, 21.098827250188986, 20.241860754516622, 17.33844980311542, 14.572800923265888, 10.093745239754886, 8.663354424294846, 5.96435448938614, 4.9026544941801795, 271.38597529777746, 1.2403761334701926, 1.240390715064385, 1.2403844721487731, 1.2403579958444262, 1.240345098603729, 1.2403568786892096, 583.376235376299, 1.2405008023266217, 129.87185464791176, 97.2783500966001, 91.99838922810798, 79.27636171183319, 78.44736787465263, 64.84529435779675, 63.88225838840056, 62.90029941701775, 62.59554519413072, 51.93459956827385, 39.65262327034501, 38.908802536719875, 29.49664808563019, 28.876876305826904, 28.843703385086883, 23.34467071210678, 19.26189473040495, 16.380208580673905, 13.661434458852442, 11.926739054502157, 10.880900200129297, 390.9777783007688, 73.95695514843474, 1.2405008023266217, 1.2403978164423437, 1.2403878386139506, 1.2403875212895592, 1.2403525352698, 1.2403562734993843, 1.2404351934602316, 1.2405127930022821], \"Category\": [\"Default\", \"Default\", \"Default\", \"Default\", \"Default\", \"Default\", \"Default\", \"Default\", \"Default\", \"Default\", \"Default\", \"Default\", \"Default\", \"Default\", \"Default\", \"Default\", \"Default\", \"Default\", \"Default\", \"Default\", \"Default\", \"Default\", \"Default\", \"Default\", \"Default\", \"Default\", \"Default\", \"Default\", \"Default\", \"Default\", \"Topic1\", \"Topic1\", \"Topic1\", \"Topic1\", \"Topic1\", \"Topic1\", \"Topic1\", \"Topic1\", \"Topic1\", \"Topic1\", \"Topic1\", \"Topic1\", \"Topic1\", \"Topic1\", \"Topic1\", \"Topic1\", \"Topic1\", \"Topic1\", \"Topic1\", \"Topic1\", \"Topic1\", \"Topic1\", \"Topic1\", \"Topic1\", \"Topic1\", \"Topic1\", \"Topic1\", \"Topic1\", \"Topic1\", \"Topic1\", \"Topic1\", \"Topic1\", \"Topic1\", \"Topic1\", \"Topic1\", \"Topic1\", \"Topic1\", \"Topic1\", \"Topic1\", \"Topic1\", \"Topic1\", \"Topic1\", \"Topic1\", \"Topic1\", \"Topic1\", \"Topic1\", \"Topic1\", \"Topic1\", \"Topic1\", \"Topic1\", \"Topic1\", \"Topic1\", \"Topic1\", \"Topic2\", \"Topic2\", \"Topic2\", \"Topic2\", \"Topic2\", \"Topic2\", \"Topic2\", \"Topic2\", \"Topic2\", \"Topic2\", \"Topic2\", \"Topic2\", \"Topic2\", \"Topic2\", \"Topic2\", \"Topic2\", \"Topic2\", \"Topic2\", \"Topic2\", \"Topic2\", \"Topic2\", \"Topic2\", \"Topic2\", \"Topic2\", \"Topic2\", \"Topic2\", \"Topic2\", \"Topic2\", \"Topic2\", \"Topic2\", \"Topic2\", \"Topic2\", \"Topic2\", \"Topic2\", \"Topic2\", \"Topic2\", \"Topic2\", \"Topic2\", \"Topic2\", \"Topic2\", \"Topic2\", \"Topic2\", \"Topic2\", \"Topic2\", \"Topic2\", \"Topic2\", \"Topic2\", \"Topic2\", \"Topic2\", \"Topic2\", \"Topic2\", \"Topic3\", \"Topic3\", \"Topic3\", \"Topic3\", \"Topic3\", \"Topic3\", \"Topic3\", \"Topic3\", \"Topic3\", \"Topic3\", \"Topic3\", \"Topic3\", \"Topic3\", \"Topic3\", \"Topic3\", \"Topic3\", \"Topic3\", \"Topic3\", \"Topic3\", \"Topic3\", \"Topic3\", \"Topic3\", \"Topic3\", \"Topic3\", \"Topic3\", \"Topic3\", \"Topic3\", \"Topic3\", \"Topic3\", \"Topic3\", \"Topic3\", \"Topic3\", \"Topic3\", \"Topic3\", \"Topic3\", \"Topic3\", \"Topic3\", \"Topic3\", \"Topic3\", \"Topic3\", \"Topic3\", \"Topic3\", \"Topic3\", \"Topic3\", \"Topic3\", \"Topic3\", \"Topic3\", \"Topic3\", \"Topic3\", \"Topic3\", \"Topic3\", \"Topic3\", \"Topic4\", \"Topic4\", \"Topic4\", \"Topic4\", \"Topic4\", \"Topic4\", \"Topic4\", \"Topic4\", \"Topic4\", \"Topic4\", \"Topic4\", \"Topic4\", \"Topic4\", \"Topic4\", \"Topic4\", \"Topic4\", \"Topic4\", \"Topic4\", \"Topic4\", \"Topic4\", \"Topic4\", \"Topic4\", \"Topic4\", \"Topic4\", \"Topic4\", \"Topic4\", \"Topic4\", \"Topic4\", \"Topic4\", \"Topic4\", \"Topic4\", \"Topic4\", \"Topic4\", \"Topic4\", \"Topic4\", \"Topic4\", \"Topic4\", \"Topic4\", \"Topic4\", \"Topic4\", \"Topic4\", \"Topic4\", \"Topic4\", \"Topic4\", \"Topic4\", \"Topic4\", \"Topic4\", \"Topic4\", \"Topic4\", \"Topic4\", \"Topic4\", \"Topic4\", \"Topic5\", \"Topic5\", \"Topic5\", \"Topic5\", \"Topic5\", \"Topic5\", \"Topic5\", \"Topic5\", \"Topic5\", \"Topic5\", \"Topic5\", \"Topic5\", \"Topic5\", \"Topic5\", \"Topic5\", \"Topic5\", \"Topic5\", \"Topic5\", \"Topic5\", \"Topic5\", \"Topic5\", \"Topic5\", \"Topic5\", \"Topic5\", \"Topic5\", \"Topic5\", \"Topic5\", \"Topic5\", \"Topic5\", \"Topic5\", \"Topic5\", \"Topic5\", \"Topic5\", \"Topic5\", \"Topic5\", \"Topic5\", \"Topic5\", \"Topic5\", \"Topic5\", \"Topic5\", \"Topic5\", \"Topic5\", \"Topic5\", \"Topic5\", \"Topic5\", \"Topic5\", \"Topic5\", \"Topic5\", \"Topic5\", \"Topic5\", \"Topic6\", \"Topic6\", \"Topic6\", \"Topic6\", \"Topic6\", \"Topic6\", \"Topic6\", \"Topic6\", \"Topic6\", \"Topic6\", \"Topic6\", \"Topic6\", \"Topic6\", \"Topic6\", \"Topic6\", \"Topic6\", \"Topic6\", \"Topic6\", \"Topic6\", \"Topic6\", \"Topic6\", \"Topic6\", \"Topic6\", \"Topic6\", \"Topic6\", \"Topic6\", \"Topic6\", \"Topic6\", \"Topic6\", \"Topic6\", \"Topic6\", \"Topic6\", \"Topic6\", \"Topic6\", \"Topic6\", \"Topic6\", \"Topic6\", \"Topic6\", \"Topic6\", \"Topic6\", \"Topic6\", \"Topic6\", \"Topic6\", \"Topic6\", \"Topic6\", \"Topic6\", \"Topic6\", \"Topic6\", \"Topic6\", \"Topic6\", \"Topic6\", \"Topic7\", \"Topic7\", \"Topic7\", \"Topic7\", \"Topic7\", \"Topic7\", \"Topic7\", \"Topic7\", \"Topic7\", \"Topic7\", \"Topic7\", \"Topic7\", \"Topic7\", \"Topic7\", \"Topic7\", \"Topic7\", \"Topic7\", \"Topic7\", \"Topic7\", \"Topic7\", \"Topic7\", \"Topic7\", \"Topic7\", \"Topic7\", \"Topic7\", \"Topic7\", \"Topic7\", \"Topic7\", \"Topic7\", \"Topic7\", \"Topic7\", \"Topic7\", \"Topic7\", \"Topic7\", \"Topic7\", \"Topic7\", \"Topic7\", \"Topic7\", \"Topic7\", \"Topic7\", \"Topic7\", \"Topic7\", \"Topic7\", \"Topic7\", \"Topic7\", \"Topic7\", \"Topic8\", \"Topic8\", \"Topic8\", \"Topic8\", \"Topic8\", \"Topic8\", \"Topic8\", \"Topic8\", \"Topic8\", \"Topic8\", \"Topic8\", \"Topic8\", \"Topic8\", \"Topic8\", \"Topic8\", \"Topic8\", \"Topic8\", \"Topic8\", \"Topic8\", \"Topic8\", \"Topic8\", \"Topic8\", \"Topic8\", \"Topic8\", \"Topic8\", \"Topic8\", \"Topic8\", \"Topic8\", \"Topic8\", \"Topic8\", \"Topic8\", \"Topic8\", \"Topic8\", \"Topic8\", \"Topic8\", \"Topic8\", \"Topic8\", \"Topic8\", \"Topic8\", \"Topic8\", \"Topic8\", \"Topic8\", \"Topic9\", \"Topic9\", \"Topic9\", \"Topic9\", \"Topic9\", \"Topic9\", \"Topic9\", \"Topic9\", \"Topic9\", \"Topic9\", \"Topic9\", \"Topic9\", \"Topic9\", \"Topic9\", \"Topic9\", \"Topic9\", \"Topic9\", \"Topic9\", \"Topic9\", \"Topic9\", \"Topic9\", \"Topic9\", \"Topic9\", \"Topic9\", \"Topic9\", \"Topic9\", \"Topic9\", \"Topic9\", \"Topic9\", \"Topic9\", \"Topic9\", \"Topic9\", \"Topic9\", \"Topic9\", \"Topic9\", \"Topic9\", \"Topic9\", \"Topic9\", \"Topic9\", \"Topic9\", \"Topic9\", \"Topic10\", \"Topic10\", \"Topic10\", \"Topic10\", \"Topic10\", \"Topic10\", \"Topic10\", \"Topic10\", \"Topic10\", \"Topic10\", \"Topic10\", \"Topic10\", \"Topic10\", \"Topic10\", \"Topic10\", \"Topic10\", \"Topic10\", \"Topic10\", \"Topic10\", \"Topic10\", \"Topic10\", \"Topic10\", \"Topic10\", \"Topic10\", \"Topic10\", \"Topic10\", \"Topic10\", \"Topic10\", \"Topic10\", \"Topic10\", \"Topic10\", \"Topic10\", \"Topic10\", \"Topic11\", \"Topic11\", \"Topic11\", \"Topic11\", \"Topic11\", \"Topic11\", \"Topic11\", \"Topic11\", \"Topic11\", \"Topic11\", \"Topic11\", \"Topic11\", \"Topic11\", \"Topic11\", \"Topic11\", \"Topic11\", \"Topic11\", \"Topic11\", \"Topic11\", \"Topic11\", \"Topic11\", \"Topic11\", \"Topic11\", \"Topic11\", \"Topic11\", \"Topic11\", \"Topic11\", \"Topic11\", \"Topic11\", \"Topic11\", \"Topic11\", \"Topic11\", \"Topic11\", \"Topic11\", \"Topic11\", \"Topic11\", \"Topic11\", \"Topic11\", \"Topic11\", \"Topic11\", \"Topic12\", \"Topic12\", \"Topic12\", \"Topic12\", \"Topic12\", \"Topic12\", \"Topic12\", \"Topic12\", \"Topic12\", \"Topic12\", \"Topic12\", \"Topic12\", \"Topic12\", \"Topic12\", \"Topic12\", \"Topic12\", \"Topic12\", \"Topic12\", \"Topic12\", \"Topic12\", \"Topic12\", \"Topic12\", \"Topic12\", \"Topic12\", \"Topic12\", \"Topic12\", \"Topic12\", \"Topic12\", \"Topic12\", \"Topic12\", \"Topic12\", \"Topic12\", \"Topic12\", \"Topic12\", \"Topic12\", \"Topic12\", \"Topic13\", \"Topic13\", \"Topic13\", \"Topic13\", \"Topic13\", \"Topic13\", \"Topic13\", \"Topic13\", \"Topic13\", \"Topic13\", \"Topic13\", \"Topic13\", \"Topic13\", \"Topic13\", \"Topic13\", \"Topic13\", \"Topic13\", \"Topic13\", \"Topic13\", \"Topic13\", \"Topic13\", \"Topic13\", \"Topic13\", \"Topic13\", \"Topic13\", \"Topic13\", \"Topic13\", \"Topic13\", \"Topic13\", \"Topic13\", \"Topic13\", \"Topic13\", \"Topic13\", \"Topic13\", \"Topic14\", \"Topic14\", \"Topic14\", \"Topic14\", \"Topic14\", \"Topic14\", \"Topic14\", \"Topic14\", \"Topic14\", \"Topic14\", \"Topic14\", \"Topic14\", \"Topic14\", \"Topic14\", \"Topic14\", \"Topic14\", \"Topic14\", \"Topic14\", \"Topic14\", \"Topic14\", \"Topic14\", \"Topic14\", \"Topic14\", \"Topic14\", \"Topic14\", \"Topic14\", \"Topic14\", \"Topic14\", \"Topic14\", \"Topic14\", \"Topic14\", \"Topic14\", \"Topic14\", \"Topic14\", \"Topic14\", \"Topic14\", \"Topic14\", \"Topic14\", \"Topic14\", \"Topic15\", \"Topic15\", \"Topic15\", \"Topic15\", \"Topic15\", \"Topic15\", \"Topic15\", \"Topic15\", \"Topic15\", \"Topic15\", \"Topic15\", \"Topic15\", \"Topic15\", \"Topic15\", \"Topic15\", \"Topic15\", \"Topic15\", \"Topic15\", \"Topic15\", \"Topic15\", \"Topic15\", \"Topic15\", \"Topic15\", \"Topic15\", \"Topic15\", \"Topic15\", \"Topic15\", \"Topic15\", \"Topic15\", \"Topic15\", \"Topic15\", \"Topic15\", \"Topic15\", \"Topic16\", \"Topic16\", \"Topic16\", \"Topic16\", \"Topic16\", \"Topic16\", \"Topic16\", \"Topic16\", \"Topic16\", \"Topic16\", \"Topic16\", \"Topic16\", \"Topic16\", \"Topic16\", \"Topic16\", \"Topic16\", \"Topic16\", \"Topic16\", \"Topic16\", \"Topic16\", \"Topic16\", \"Topic16\", \"Topic16\", \"Topic16\", \"Topic16\", \"Topic16\", \"Topic16\", \"Topic16\", \"Topic16\", \"Topic16\", \"Topic16\", \"Topic17\", \"Topic17\", \"Topic17\", \"Topic17\", \"Topic17\", \"Topic17\", \"Topic17\", \"Topic17\", \"Topic17\", \"Topic17\", \"Topic17\", \"Topic17\", \"Topic17\", \"Topic17\", \"Topic17\", \"Topic17\", \"Topic17\", \"Topic17\", \"Topic17\", \"Topic17\", \"Topic17\", \"Topic17\", \"Topic17\", \"Topic17\", \"Topic17\", \"Topic17\", \"Topic17\", \"Topic17\", \"Topic17\", \"Topic17\", \"Topic17\", \"Topic17\", \"Topic17\", \"Topic17\", \"Topic18\", \"Topic18\", \"Topic18\", \"Topic18\", \"Topic18\", \"Topic18\", \"Topic18\", \"Topic18\", \"Topic18\", \"Topic18\", \"Topic18\", \"Topic18\", \"Topic18\", \"Topic18\", \"Topic18\", \"Topic18\", \"Topic18\", \"Topic18\", \"Topic18\", \"Topic18\", \"Topic18\", \"Topic18\", \"Topic18\", \"Topic18\", \"Topic18\", \"Topic18\", \"Topic18\", \"Topic18\", \"Topic18\", \"Topic18\", \"Topic19\", \"Topic19\", \"Topic19\", \"Topic19\", \"Topic19\", \"Topic19\", \"Topic19\", \"Topic19\", \"Topic19\", \"Topic19\", \"Topic19\", \"Topic19\", \"Topic19\", \"Topic19\", \"Topic19\", \"Topic19\", \"Topic19\", \"Topic19\", \"Topic19\", \"Topic19\", \"Topic19\", \"Topic19\", \"Topic19\", \"Topic19\", \"Topic19\", \"Topic19\", \"Topic19\", \"Topic19\", \"Topic19\", \"Topic19\", \"Topic19\", \"Topic19\", \"Topic20\", \"Topic20\", \"Topic20\", \"Topic20\", \"Topic20\", \"Topic20\", \"Topic20\", \"Topic20\", \"Topic20\", \"Topic20\", \"Topic20\", \"Topic20\", \"Topic20\", \"Topic20\", \"Topic20\", \"Topic20\", \"Topic20\", \"Topic20\", \"Topic20\", \"Topic20\", \"Topic20\", \"Topic20\", \"Topic20\", \"Topic20\", \"Topic20\", \"Topic20\", \"Topic20\", \"Topic20\", \"Topic20\", \"Topic20\", \"Topic20\"], \"logprob\": [30.0, 29.0, 28.0, 27.0, 26.0, 25.0, 24.0, 23.0, 22.0, 21.0, 20.0, 19.0, 18.0, 17.0, 16.0, 15.0, 14.0, 13.0, 12.0, 11.0, 10.0, 9.0, 8.0, 7.0, 6.0, 5.0, 4.0, 3.0, 2.0, 1.0, -3.7906999588012695, -3.9653000831604004, -4.416100025177002, -4.432400226593018, -4.797599792480469, -4.870299816131592, -4.997700214385986, -5.061699867248535, -5.201900005340576, -5.202199935913086, -5.254899978637695, -5.307000160217285, -5.3140997886657715, -5.28439998626709, -5.365200042724609, -5.463500022888184, -4.137499809265137, -5.55810022354126, -5.616199970245361, -5.620699882507324, -5.656700134277344, -5.762899875640869, -5.791600227355957, -5.803100109100342, -5.846799850463867, -5.983099937438965, -6.094600200653076, -6.0971999168396, -6.128699779510498, -6.207699775695801, -3.367000102996826, -3.8775999546051025, -4.526800155639648, -5.104000091552734, -4.583899974822998, -4.179200172424316, -4.0671000480651855, -4.5524001121521, -4.887400150299072, -3.9453001022338867, -4.520599842071533, -4.723800182342529, -4.219799995422363, -4.5183000564575195, -4.0447001457214355, -4.651299953460693, -3.98009991645813, -4.682700157165527, -4.679999828338623, -3.837599992752075, -4.2932000160217285, -4.873499870300293, -4.927999973297119, -4.029399871826172, -4.275300025939941, -4.326600074768066, -4.335899829864502, -4.469099998474121, -4.657800197601318, -4.778900146484375, -4.809700012207031, -4.854700088500977, -4.910099983215332, -5.0391998291015625, -5.098199844360352, -5.140399932861328, -5.155399799346924, -5.158999919891357, -5.2204999923706055, -5.225800037384033, -5.231599807739258, -5.306099891662598, -5.31220006942749, -5.390900135040283, -5.404099941253662, -5.432600021362305, -5.435200214385986, -5.455699920654297, -5.506999969482422, -5.560200214385986, -5.570300102233887, -5.5742998123168945, -5.576099872589111, -4.538700103759766, -3.5566999912261963, -4.435200214385986, -5.338799953460693, -4.743199825286865, -4.703400135040283, -4.916100025177002, -4.645999908447266, -3.994800090789795, -4.461900234222412, -4.250999927520752, -4.901299953460693, -3.572200059890747, -4.600399971008301, -4.593800067901611, -4.484099864959717, -4.269199848175049, -4.534800052642822, -4.950699806213379, -4.8225998878479, -4.989299774169922, -4.241700172424316, -4.525100231170654, -4.529900074005127, -4.5345001220703125, -4.748000144958496, -4.758600234985352, -4.788400173187256, -4.7916998863220215, -4.831999778747559, -4.837299823760986, -4.762800216674805, -5.0019001960754395, -5.1894001960754395, -5.212900161743164, -5.215799808502197, -5.2657999992370605, -5.273099899291992, -5.275599956512451, -5.339799880981445, -5.345399856567383, -5.348100185394287, -5.362199783325195, -5.390500068664551, -5.412600040435791, -5.427800178527832, -5.497799873352051, -5.5192999839782715, -5.521999835968018, -5.547900199890137, -5.575300216674805, -3.6823999881744385, -5.152100086212158, -4.1371002197265625, -4.417900085449219, -4.477499961853027, -4.933700084686279, -4.375899791717529, -4.751100063323975, -4.9222002029418945, -4.873899936676025, -4.650899887084961, -4.8206000328063965, -4.7916998863220215, -4.872900009155273, -4.500100135803223, -4.871799945831299, -4.386899948120117, -5.066800117492676, -4.7993998527526855, -4.965400218963623, -4.679800033569336, -4.910600185394287, -3.290299892425537, -3.5989999771118164, -3.738300085067749, -4.462699890136719, -4.536499977111816, -4.587500095367432, -4.667099952697754, -4.757900238037109, -4.770299911499023, -4.831699848175049, -4.975100040435791, -5.049300193786621, -5.049799919128418, -5.085599899291992, -5.13700008392334, -5.172299861907959, -5.242199897766113, -5.249599933624268, -5.252699851989746, -5.289999961853027, -5.396999835968018, -5.4471001625061035, -5.45359992980957, -5.45419979095459, -5.484000205993652, -5.505499839782715, -5.509300231933594, -5.57289981842041, -5.6153998374938965, -5.6641998291015625, -4.4984002113342285, -4.340700149536133, -3.5255000591278076, -4.237400054931641, -5.353400230407715, -4.033599853515625, -3.922100067138672, -4.851399898529053, -4.933000087738037, -4.833000183105469, -4.854599952697754, -3.705699920654297, -4.378200054168701, -4.888500213623047, -4.499000072479248, -4.3460001945495605, -4.042200088500977, -4.971099853515625, -5.01170015335083, -4.900700092315674, -4.886199951171875, -4.952899932861328, -3.5136001110076904, -3.9377999305725098, -3.984999895095825, -4.009399890899658, -4.020500183105469, -4.060999870300293, -4.1753997802734375, -4.417200088500977, -4.434899806976318, -4.446899890899658, -4.482699871063232, -4.80709981918335, -4.85860013961792, -5.0055999755859375, -5.013599872589111, -5.097700119018555, -5.142899990081787, -5.146599769592285, -5.185400009155273, -5.225800037384033, -5.237299919128418, -5.237599849700928, -5.246799945831299, -5.247600078582764, -5.2606000900268555, -5.316999912261963, -5.331200122833252, -5.340000152587891, -5.3404998779296875, -5.355400085449219, -4.968800067901611, -4.960100173950195, -3.8571999073028564, -4.203199863433838, -4.809100151062012, -3.683799982070923, -3.878700017929077, -4.385799884796143, -4.762800216674805, -3.1530001163482666, -4.772600173950195, -4.193699836730957, -3.696199893951416, -4.280399799346924, -4.085100173950195, -4.622000217437744, -4.8277997970581055, -4.848700046539307, -4.914700031280518, -4.843699932098389, -3.2260000705718994, -3.9711999893188477, -4.293300151824951, -4.320700168609619, -4.38539981842041, -4.434100151062012, -4.436399936676025, -4.468400001525879, -4.71560001373291, -4.717700004577637, -4.937300205230713, -5.098999977111816, -5.1082000732421875, -5.133699893951416, -5.252699851989746, -5.3256001472473145, -5.3730998039245605, -5.448200225830078, -5.474999904632568, -5.5269999504089355, -5.580699920654297, -5.633800029754639, -5.673600196838379, -5.684999942779541, -5.702199935913086, -3.6073999404907227, -5.738699913024902, -5.753399848937988, -5.859600067138672, -5.9394001960754395, -4.789899826049805, -5.48769998550415, -3.8624000549316406, -3.9762001037597656, -5.2230000495910645, -3.4858999252319336, -3.506200075149536, -4.552999973297119, -4.3520002365112305, -4.615900039672852, -4.910699844360352, -4.316400051116943, -4.6774001121521, -4.311399936676025, -4.525300025939941, -4.626999855041504, -3.8533999919891357, -4.532599925994873, -4.4481000900268555, -4.249800205230713, -4.5995001792907715, -3.3552000522613525, -3.8675999641418457, -4.009200096130371, -4.0584001541137695, -4.073800086975098, -4.311699867248535, -4.312399864196777, -4.382699966430664, -4.402900218963623, -4.4475998878479, -4.485000133514404, -4.530799865722656, -4.683700084686279, -4.687600135803223, -4.720099925994873, -4.745699882507324, -4.825200080871582, -4.915999889373779, -4.933499813079834, -4.934199810028076, -4.9446001052856445, -4.982500076293945, -5.010799884796143, -5.021399974822998, -5.045400142669678, -5.06790018081665, -5.094299793243408, -5.104400157928467, -5.1082000732421875, -5.170300006866455, -4.0472002029418945, -3.940500020980835, -4.461599826812744, -4.450900077819824, -4.206699848175049, -4.89109992980957, -4.659200191497803, -4.418499946594238, -4.067500114440918, -4.34630012512207, -4.616600036621094, -4.085899829864502, -4.389200210571289, -4.707900047302246, -4.539100170135498, -4.6350998878479, -2.5862998962402344, -3.108799934387207, -3.2820000648498535, -3.7578001022338867, -3.8464999198913574, -3.9270999431610107, -3.995300054550171, -4.018599987030029, -4.124300003051758, -4.136499881744385, -4.176400184631348, -4.291299819946289, -4.362100124359131, -4.457799911499023, -4.494900226593018, -4.538700103759766, -4.6072998046875, -4.695499897003174, -4.761099815368652, -4.8078999519348145, -4.864299774169922, -4.918300151824951, -4.934500217437744, -4.954599857330322, -4.98859977722168, -5.054999828338623, -5.225100040435791, -5.236000061035156, -5.262199878692627, -5.273399829864502, -4.337399959564209, -4.750500202178955, -4.734600067138672, -4.270899772644043, -3.8559000492095947, -4.067200183868408, -4.7941999435424805, -4.728799819946289, -4.710100173950195, -4.757299900054932, -4.753300189971924, -4.780799865722656, -3.4437999725341797, -3.5703001022338867, -3.790800094604492, -3.7936999797821045, -3.815999984741211, -3.8515000343322754, -3.9309000968933105, -3.9993999004364014, -4.453400135040283, -4.46999979019165, -4.48960018157959, -4.541299819946289, -4.552000045776367, -4.579100131988525, -4.625999927520752, -4.65500020980835, -4.6722002029418945, -4.696000099182129, -4.757299900054932, -4.776100158691406, -4.86359977722168, -4.9380998611450195, -4.994100093841553, -5.011199951171875, -5.061299800872803, -5.062699794769287, -5.0746002197265625, -5.131199836730957, -5.175000190734863, -5.383200168609619, -4.187699794769287, -3.7495999336242676, -3.9056999683380127, -4.283400058746338, -4.441400051116943, -4.7754998207092285, -4.5619001388549805, -4.665200233459473, -4.132900238037109, -4.556600093841553, -4.525000095367432, -1.8981000185012817, -2.6410000324249268, -3.5090999603271484, -3.531899929046631, -3.712399959564209, -3.775599956512451, -3.819000005722046, -3.8371999263763428, -3.898200035095215, -3.985300064086914, -4.031400203704834, -4.213500022888184, -4.214900016784668, -4.218800067901611, -4.390699863433838, -4.494500160217285, -4.514599800109863, -4.580699920654297, -4.603700160980225, -4.634799957275391, -4.665599822998047, -4.717899799346924, -4.723899841308594, -4.730800151824951, -4.7683000564575195, -4.822199821472168, -4.8495001792907715, -4.89300012588501, -4.980599880218506, -4.9822001457214355, -3.2063000202178955, -4.64870023727417, -4.755499839782715, -2.0255000591278076, -2.2476999759674072, -2.5604000091552734, -3.4126999378204346, -3.529900074005127, -3.973299980163574, -4.339399814605713, -4.50600004196167, -4.6092000007629395, -4.642199993133545, -4.678199768066406, -4.778500080108643, -4.907700061798096, -4.986299991607666, -5.007299900054932, -5.019599914550781, -5.109000205993652, -5.258699893951416, -5.359000205993652, -5.494800090789795, -5.755199909210205, -5.777699947357178, -2.478100061416626, -6.160200119018555, -6.355500221252441, -6.677599906921387, -3.5299999713897705, -9.1899995803833, -4.321100234985352, -6.0782999992370605, -4.325300216674805, -4.334400177001953, -3.993000030517578, -3.160799980163574, -3.5982000827789307, -4.203999996185303, -4.28849983215332, -4.5960001945495605, -4.7515997886657715, -5.170599937438965, -2.3176000118255615, -2.5315001010894775, -2.5873000621795654, -2.672300100326538, -2.8015999794006348, -2.847399950027466, -3.8397998809814453, -4.003499984741211, -4.14769983291626, -4.374599933624268, -4.377399921417236, -4.382599830627441, -4.463200092315674, -4.4878997802734375, -4.510000228881836, -4.616199970245361, -5.07450008392334, -5.1595001220703125, -5.171999931335449, -5.187399864196777, -5.2428998947143555, -5.291800022125244, -5.30109977722168, -5.5142998695373535, -5.536399841308594, -5.590799808502197, -5.622499942779541, -5.735799789428711, -5.884799957275391, -5.939300060272217, -3.5413999557495117, -3.175299882888794, -4.497099876403809, -4.0792999267578125, -5.033299922943115, -5.5030999183654785, -2.2135000228881836, -3.122499942779541, -3.225100040435791, -3.2764999866485596, -3.323699951171875, -3.4307000637054443, -3.601599931716919, -3.6491000652313232, -3.714200019836426, -3.9579999446868896, -4.255899906158447, -4.2657999992370605, -4.3069000244140625, -4.3206000328063965, -4.3231000900268555, -4.329599857330322, -4.35230016708374, -4.368899822235107, -4.5142998695373535, -4.544000148773193, -4.546599864959717, -4.554200172424316, -4.556000232696533, -4.5920000076293945, -4.601799964904785, -4.692399978637695, -4.943699836730957, -5.038700103759766, -5.039299964904785, -5.051700115203857, -3.7476000785827637, -4.651700019836426, -4.768599987030029, -4.935800075531006, -2.0176000595092773, -3.3540000915527344, -3.354300022125244, -3.536400079727173, -3.5952000617980957, -3.8032000064849854, -3.85509991645813, -3.862600088119507, -3.8977999687194824, -3.964099884033203, -3.967099905014038, -4.21589994430542, -4.295000076293945, -4.301599979400635, -4.328499794006348, -4.514900207519531, -4.6616997718811035, -4.8471999168396, -4.864099979400635, -5.111999988555908, -5.151299953460693, -5.170499801635742, -5.2835001945495605, -5.295400142669678, -5.467800140380859, -5.4816999435424805, -5.503399848937988, -5.686699867248535, -5.928400039672852, -6.033999919891357, -3.716200113296509, -3.313699960708618, -4.933199882507324, -3.4346001148223877, -4.382999897003174, -4.6855998039245605, -4.732500076293945, -4.967599868774414, -5.146399974822998, -1.795199990272522, -3.180799961090088, -3.2632999420166016, -3.4475998878479004, -3.5162999629974365, -3.5822999477386475, -3.631200075149536, -3.663300037384033, -3.707200050354004, -3.7660999298095703, -3.882699966430664, -3.9361000061035156, -3.9818999767303467, -4.144599914550781, -4.486299991607666, -4.493199825286865, -4.501999855041504, -4.559599876403809, -4.751999855041504, -4.764800071716309, -4.784299850463867, -4.877799987792969, -4.904900074005127, -5.0346999168396, -5.12060022354126, -5.221499919891357, -5.343599796295166, -5.472300052642822, -5.565499782562256, -5.922100067138672, -3.6805999279022217, -3.8160998821258545, -5.207499980926514, -2.580899953842163, -2.9509999752044678, -2.9837000370025635, -2.9892001152038574, -3.135200023651123, -3.25219988822937, -3.307300090789795, -3.3213000297546387, -3.3231000900268555, -3.3680999279022217, -3.819700002670288, -3.8826000690460205, -4.15749979019165, -4.179500102996826, -4.286200046539307, -4.353600025177002, -4.437300205230713, -4.472499847412109, -4.613100051879883, -4.734399795532227, -4.766200065612793, -4.884500026702881, -4.9822001457214355, -5.138999938964844, -5.190199851989746, -5.2972002029418945, -5.542099952697754, -5.698200225830078, -5.703000068664551, -6.169300079345703, -5.104599952697754, -2.3980000019073486, -2.5546998977661133, -2.794800043106079, -3.119999885559082, -3.181299924850464, -3.2629001140594482, -3.4983999729156494, -3.698699951171875, -3.743799924850464, -3.8461999893188477, -3.900599956512451, -4.135000228881836, -4.313300132751465, -4.376500129699707, -4.460899829864502, -4.584000110626221, -4.619999885559082, -4.667300224304199, -4.708199977874756, -4.779399871826172, -5.021900177001953, -5.035200119018555, -5.263700008392334, -5.275700092315674, -5.450900077819824, -5.504000186920166, -5.791800022125244, -5.809199810028076, -5.911200046539307, -6.002699851989746, -4.014100074768066, -4.759399890899658, -5.514100074768066, -5.548900127410889, -2.5055999755859375, -2.770400047302246, -2.8601999282836914, -2.911400079727173, -3.1198999881744385, -3.5246999263763428, -3.5322000980377197, -3.599100112915039, -3.639699935913086, -3.7802000045776367, -4.031099796295166, -4.032899856567383, -4.0970001220703125, -4.619100093841553, -4.701099872589111, -4.793099880218506, -4.9355998039245605, -4.957099914550781, -4.997499942779541, -5.071199893951416, -5.123199939727783, -5.185999870300293, -5.189300060272217, -5.286799907684326, -5.708700180053711, -5.794300079345703, -5.835100173950195, -5.954999923706055, -6.098800182342529, -6.4741997718811035, -2.2441999912261963, -2.650599956512451, -2.679800033569336, -2.8931000232696533, -3.4384000301361084, -3.506999969482422, -3.786799907684326, -4.023900032043457, -4.164299964904785, -4.330900192260742, -4.420100212097168, -4.486800193786621, -4.856500148773193, -4.876299858093262, -4.905200004577637, -5.264900207519531, -5.308899879455566, -5.4741997718811035, -5.662099838256836, -6.069799900054932, -6.244999885559082, -6.693299770355225, -6.945000171661377, -4.78879976272583, -11.314800262451172, -11.314800262451172, -11.314800262451172, -11.314800262451172, -11.314900398254395, -11.314900398254395, -5.338699817657471, -11.314800262451172, -3.1559998989105225, -3.4481000900268555, -3.5046000480651855, -3.655600070953369, -3.666300058364868, -3.8598999977111816, -3.875200033187866, -3.8910000324249268, -3.895900011062622, -4.086699962615967, -4.363800048828125, -4.383399963378906, -4.670499801635742, -4.692599773406982, -4.69379997253418, -4.915599822998047, -5.1194000244140625, -5.2932000160217285, -5.490499973297119, -5.640399932861328, -5.7428998947143555, -2.3863000869750977, -4.281899929046631, -11.175399780273438, -11.175600051879883, -11.175700187683105, -11.175700187683105, -11.175800323486328, -11.17590045928955, -11.175800323486328, -11.17590045928955], \"loglift\": [30.0, 29.0, 28.0, 27.0, 26.0, 25.0, 24.0, 23.0, 22.0, 21.0, 20.0, 19.0, 18.0, 17.0, 16.0, 15.0, 14.0, 13.0, 12.0, 11.0, 10.0, 9.0, 8.0, 7.0, 6.0, 5.0, 4.0, 3.0, 2.0, 1.0, 0.9971, 0.997, 0.9969, 0.9969, 0.9968, 0.9968, 0.9968, 0.9967, 0.9967, 0.9967, 0.9966, 0.9966, 0.9966, 0.9966, 0.9966, 0.9965, 0.9965, 0.9964, 0.9964, 0.9964, 0.9964, 0.9963, 0.9962, 0.9962, 0.9962, 0.996, 0.9959, 0.9959, 0.9959, 0.9957, 0.9933, 0.9866, 0.9929, 0.9936, 0.9819, 0.9537, 0.9479, 0.9624, 0.9725, 0.9261, 0.9481, 0.9471, 0.9068, 0.929, 0.8833, 0.9151, 0.831, 0.8701, 0.8562, 0.5124, 0.628, 0.6848, 0.7574, 1.7343, 1.7342, 1.7342, 1.7342, 1.7341, 1.734, 1.734, 1.7339, 1.7339, 1.7339, 1.7337, 1.7337, 1.7336, 1.7336, 1.7336, 1.7336, 1.7335, 1.7335, 1.7335, 1.7334, 1.7333, 1.7333, 1.7333, 1.7333, 1.7333, 1.7332, 1.7331, 1.7331, 1.7331, 1.7331, 1.7158, 1.6025, 1.657, 1.7148, 1.6582, 1.6517, 1.6613, 1.6043, 1.4048, 1.4462, 1.2739, 1.5193, 0.7778, 1.3529, 1.2983, 1.12, 0.9218, 0.8837, 1.3945, 0.9431, 0.5994, 2.3975, 2.3972, 2.3972, 2.3972, 2.3969, 2.3969, 2.3969, 2.3969, 2.3968, 2.3968, 2.3967, 2.3965, 2.3962, 2.3961, 2.3961, 2.396, 2.396, 2.396, 2.3958, 2.3958, 2.3958, 2.3958, 2.3957, 2.3957, 2.3956, 2.3954, 2.3954, 2.3954, 2.3953, 2.3952, 2.3827, 2.394, 2.2858, 2.29, 2.2873, 2.3284, 2.247, 2.2879, 2.2774, 2.2353, 2.0815, 2.1411, 1.9698, 2.0334, 1.6023, 1.9844, 1.2116, 2.1647, 1.4299, 1.8209, 0.5112, 1.2475, 2.7258, 2.7256, 2.7255, 2.7248, 2.7247, 2.7246, 2.7245, 2.7243, 2.7243, 2.7242, 2.7238, 2.7237, 2.7237, 2.7236, 2.7234, 2.7233, 2.7231, 2.7231, 2.7231, 2.723, 2.7226, 2.7224, 2.7224, 2.7224, 2.7223, 2.7222, 2.7222, 2.7219, 2.7217, 2.7215, 2.6952, 2.6871, 2.6377, 2.6162, 2.7044, 2.4447, 2.3949, 2.5983, 2.5923, 2.5567, 2.5443, 1.9626, 2.199, 2.4246, 2.0102, 1.5449, 0.879, 2.4233, 2.4485, 1.4343, 0.5134, 0.9559, 2.7348, 2.7345, 2.7345, 2.7345, 2.7345, 2.7344, 2.7343, 2.734, 2.734, 2.734, 2.7339, 2.7334, 2.7333, 2.7329, 2.7329, 2.7327, 2.7326, 2.7326, 2.7324, 2.7323, 2.7323, 2.7323, 2.7323, 2.7323, 2.7322, 2.732, 2.732, 2.732, 2.732, 2.7319, 2.7291, 2.7258, 2.6797, 2.6487, 2.6875, 2.5559, 2.5637, 2.5985, 2.6501, 2.3383, 2.6187, 2.3795, 2.0694, 2.3194, 2.2023, 2.3229, 2.5134, 2.2164, 2.1955, 0.283, 2.8348, 2.8342, 2.8339, 2.8338, 2.8337, 2.8337, 2.8337, 2.8336, 2.8332, 2.8332, 2.8327, 2.8322, 2.8322, 2.8321, 2.8317, 2.8315, 2.8313, 2.831, 2.8308, 2.8306, 2.8304, 2.8301, 2.8299, 2.8298, 2.8297, 2.8295, 2.8295, 2.8294, 2.8288, 2.8283, 2.8274, 2.822, 2.6942, 2.5976, 2.7635, 2.441, 2.3867, 2.5852, 2.4167, 2.4487, 2.5742, 2.2616, 2.3381, 1.9845, 2.0862, 2.0664, 0.9578, 1.664, 1.3657, 0.6715, 1.3093, 3.2857, 3.2852, 3.285, 3.2849, 3.2849, 3.2844, 3.2844, 3.2843, 3.2842, 3.2841, 3.284, 3.2839, 3.2835, 3.2834, 3.2833, 3.2833, 3.283, 3.2826, 3.2826, 3.2826, 3.2825, 3.2824, 3.2823, 3.2822, 3.2821, 3.282, 3.2819, 3.2818, 3.2818, 3.2815, 3.2725, 3.1731, 3.1943, 3.1321, 3.04, 3.2189, 3.0789, 2.9288, 2.6601, 2.8432, 2.9816, 2.21, 2.1045, 2.7723, 2.2079, 2.1984, 3.3074, 3.3071, 3.307, 3.3065, 3.3064, 3.3063, 3.3062, 3.3062, 3.306, 3.306, 3.3059, 3.3057, 3.3055, 3.3053, 3.3052, 3.3051, 3.3049, 3.3046, 3.3044, 3.3042, 3.304, 3.3038, 3.3037, 3.3037, 3.3035, 3.3032, 3.3024, 3.3023, 3.3022, 3.3021, 3.2448, 3.0994, 2.743, 2.0956, 1.5438, 1.5462, 2.7435, 2.1502, 2.0363, 1.6633, 1.1548, 1.7965, 4.1104, 4.1101, 4.1095, 4.1095, 4.1094, 4.1093, 4.1091, 4.1089, 4.1068, 4.1067, 4.1066, 4.1063, 4.1063, 4.1061, 4.1058, 4.1056, 4.1055, 4.1053, 4.1049, 4.1047, 4.104, 4.1034, 4.1029, 4.1027, 4.1022, 4.1022, 4.1021, 4.1015, 4.101, 4.0984, 3.8913, 3.7899, 3.6495, 3.1968, 2.9058, 3.31, 2.6771, 2.9332, 0.7884, 1.8662, 1.6382, 4.1363, 4.1358, 4.1345, 4.1344, 4.134, 4.1338, 4.1337, 4.1336, 4.1334, 4.1331, 4.133, 4.1322, 4.1322, 4.1322, 4.1313, 4.1308, 4.1306, 4.1302, 4.1301, 4.1299, 4.1296, 4.1293, 4.1292, 4.1292, 4.1289, 4.1284, 4.1282, 4.1278, 4.127, 4.127, 3.1602, 2.8226, 1.5995, 4.3182, 4.3181, 4.3178, 4.3164, 4.3161, 4.3146, 4.3127, 4.3115, 4.3107, 4.3105, 4.3102, 4.3093, 4.3079, 4.3071, 4.3068, 4.3067, 4.3055, 4.3034, 4.3018, 4.2993, 4.2936, 4.293, 4.2895, 4.2812, 4.2732, 4.2564, 4.0948, 3.7342, 3.5333, 3.1932, 3.1435, 3.0962, 2.8205, 2.3306, 2.3098, 1.9954, 1.45, 1.9635, 1.9397, 2.8683, 4.6103, 4.6101, 4.61, 4.6099, 4.6096, 4.6096, 4.6064, 4.6055, 4.6046, 4.6029, 4.6028, 4.6028, 4.6021, 4.6018, 4.6016, 4.6005, 4.5943, 4.5928, 4.5925, 4.5922, 4.5912, 4.5902, 4.59, 4.5849, 4.5843, 4.5828, 4.5819, 4.5785, 4.5733, 4.5712, 4.425, 4.296, 3.0724, 2.2873, 2.3009, 1.8381, 4.7367, 4.735, 4.7347, 4.7345, 4.7344, 4.734, 4.7333, 4.7331, 4.7328, 4.7314, 4.7292, 4.7291, 4.7287, 4.7286, 4.7286, 4.7285, 4.7283, 4.7281, 4.7266, 4.7263, 4.7263, 4.7262, 4.7261, 4.7257, 4.7256, 4.7245, 4.7207, 4.719, 4.719, 4.7187, 3.7666, 3.8649, 2.3197, 3.1225, 4.9372, 4.9341, 4.9341, 4.9332, 4.9329, 4.9316, 4.9313, 4.9312, 4.931, 4.9305, 4.9304, 4.9282, 4.9274, 4.9273, 4.927, 4.9247, 4.9226, 4.9194, 4.9191, 4.9137, 4.9128, 4.9123, 4.9092, 4.9089, 4.9034, 4.9029, 4.9022, 4.895, 4.8835, 4.8776, 4.8239, 4.7228, 4.6752, 4.1963, 3.3219, 3.7352, 3.2935, 3.219, 2.6092, 4.9479, 4.9452, 4.9449, 4.9441, 4.9437, 4.9434, 4.9431, 4.9429, 4.9427, 4.9423, 4.9415, 4.9411, 4.9407, 4.9393, 4.9355, 4.9354, 4.9352, 4.9344, 4.9314, 4.9312, 4.9308, 4.9291, 4.9286, 4.9258, 4.9237, 4.9211, 4.9176, 4.9134, 4.91, 4.8937, 4.118, 3.8975, 3.3579, 5.0993, 5.0983, 5.0982, 5.0982, 5.0976, 5.0971, 5.0969, 5.0968, 5.0968, 5.0966, 5.0936, 5.0931, 5.0904, 5.0902, 5.0889, 5.088, 5.0868, 5.0863, 5.084, 5.0817, 5.0811, 5.0785, 5.0762, 5.0719, 5.0704, 5.0669, 5.0575, 5.0502, 5.0499, 5.0204, 4.6018, 5.1767, 5.1764, 5.1757, 5.1745, 5.1742, 5.1739, 5.1725, 5.1711, 5.1708, 5.1699, 5.1694, 5.1669, 5.1646, 5.1637, 5.1624, 5.1602, 5.1595, 5.1586, 5.1578, 5.1562, 5.1501, 5.1497, 5.1424, 5.142, 5.1351, 5.1327, 5.1178, 5.1168, 5.1103, 5.104, 4.6929, 2.6535, 2.1518, 1.6447, 5.4861, 5.4851, 5.4847, 5.4845, 5.4834, 5.4804, 5.4804, 5.4797, 5.4793, 5.4779, 5.4746, 5.4746, 5.4736, 5.463, 5.4608, 5.4581, 5.4534, 5.4526, 5.4511, 5.4482, 5.4461, 5.4434, 5.4432, 5.4386, 5.413, 5.4064, 5.4031, 5.3927, 5.3785, 5.3318, 5.6496, 5.6481, 5.648, 5.6469, 5.6429, 5.6422, 5.6389, 5.6353, 5.6327, 5.6292, 5.627, 5.6253, 5.6134, 5.6126, 5.6115, 5.5943, 5.5917, 5.5812, 5.567, 5.5267, 5.5043, 5.4292, 5.3735, 3.516, 2.3781, 2.3781, 2.3781, 2.3781, 2.3781, 2.3781, 2.2008, 2.378, 5.8858, 5.8826, 5.8819, 5.8798, 5.8796, 5.8764, 5.8761, 5.8758, 5.8757, 5.8717, 5.8644, 5.8638, 5.8536, 5.8527, 5.8526, 5.8424, 5.8308, 5.8191, 5.8033, 5.7892, 5.7784, 5.5534, 5.3229, 2.5174, 2.5173, 2.5172, 2.5172, 2.5171, 2.5171, 2.5171, 2.517]}, \"token.table\": {\"Topic\": [14, 3, 16, 1, 4, 6, 3, 1, 2, 12, 2, 5, 15, 3, 5, 9, 18, 18, 1, 3, 4, 8, 11, 1, 2, 3, 6, 5, 15, 16, 3, 5, 2, 3, 2, 2, 1, 2, 14, 18, 18, 19, 7, 1, 2, 3, 5, 7, 6, 9, 1, 11, 14, 6, 6, 4, 7, 10, 4, 6, 9, 3, 2, 3, 18, 1, 5, 1, 10, 5, 6, 14, 15, 11, 16, 3, 3, 6, 1, 3, 7, 9, 6, 1, 6, 1, 1, 7, 1, 8, 10, 12, 5, 7, 12, 12, 10, 5, 17, 8, 3, 7, 7, 2, 6, 13, 10, 9, 17, 14, 7, 7, 8, 5, 8, 10, 8, 6, 17, 5, 8, 3, 4, 7, 15, 1, 2, 3, 4, 1, 3, 17, 7, 4, 3, 9, 10, 6, 6, 16, 4, 5, 7, 7, 1, 6, 9, 14, 5, 15, 20, 4, 10, 15, 20, 18, 2, 7, 15, 14, 14, 12, 2, 1, 19, 4, 6, 9, 19, 18, 18, 2, 8, 19, 18, 4, 6, 4, 6, 4, 5, 14, 8, 18, 18, 2, 6, 19, 18, 15, 6, 15, 14, 15, 2, 20, 5, 4, 9, 4, 20, 8, 2, 3, 6, 12, 13, 19, 19, 19, 13, 12, 16, 2, 19, 15, 14, 10, 2, 8, 10, 13, 9, 5, 3, 7, 19, 17, 11, 3, 12, 18, 12, 3, 2, 3, 4, 5, 8, 13, 4, 12, 14, 14, 8, 17, 3, 1, 3, 5, 6, 8, 8, 19, 9, 12, 19, 20, 16, 11, 2, 12, 13, 7, 9, 5, 17, 10, 15, 7, 12, 16, 1, 6, 12, 8, 8, 5, 13, 17, 15, 12, 13, 6, 13, 14, 1, 7, 4, 3, 19, 1, 2, 19, 12, 4, 13, 4, 8, 13, 11, 16, 1, 10, 2, 11, 2, 9, 1, 4, 6, 3, 1, 6, 18, 18, 1, 3, 4, 6, 2, 6, 8, 1, 6, 9, 20, 5, 2, 14, 1, 4, 6, 9, 1, 14, 6, 6, 10, 17, 1, 8, 17, 8, 4, 14, 10, 1, 17, 2, 2, 3, 11, 1, 2, 3, 6, 7, 15, 3, 1, 2, 3, 4, 9, 11, 18, 4, 13, 10, 17, 7, 13, 17, 2, 3, 6, 7, 9, 3, 8, 18, 4, 13, 13, 10, 12, 3, 12, 11, 3, 12, 9, 1, 2, 5, 11, 12, 1, 2, 3, 4, 14, 1, 4, 11, 17, 1, 2, 5, 4, 9, 4, 12, 16, 16, 9, 7, 13, 20, 1, 2, 3, 15, 1, 2, 8, 18, 16, 1, 15, 17, 1, 2, 14, 3, 5, 8, 9, 1, 6, 9, 1, 5, 7, 11, 11, 11, 6, 18, 19, 20, 1, 1, 2, 15, 7, 1, 2, 3, 4, 6, 3, 9, 6, 8, 6, 15, 12, 9, 6, 10, 20, 2, 3, 5, 3, 17, 4, 14, 2, 2, 4, 11, 16, 8, 12, 18, 2, 4, 2, 8, 6, 12, 7, 3, 4, 20, 6, 9, 10, 7, 1, 16, 1, 2, 7, 9, 1, 2, 5, 7, 13, 1, 5, 11, 13, 4, 4, 1, 3, 11, 17, 12, 1, 7, 4, 17, 1, 3, 4, 5, 6, 1, 4, 9, 3, 3, 6, 9, 1, 3, 6, 10, 5, 2, 1, 2, 2, 10, 1, 8, 3, 5, 1, 2, 5, 19, 1, 11, 5, 8, 13, 2, 8, 2, 1, 2, 4, 5, 1, 6, 7, 1, 2, 3, 4, 6, 20, 9, 16, 1, 1, 4, 6, 14, 4, 3, 8, 2, 10, 13, 14, 4, 7, 19, 5, 12, 13, 8, 2, 5, 5, 5, 13, 6, 6, 16, 13, 2, 5, 7, 20, 1, 5, 6, 9, 19, 9, 4, 1, 2, 4, 5, 16, 2, 1, 2, 4, 5, 1, 2, 5, 11, 20, 4, 8, 15, 7, 2, 7, 14, 1, 2, 3, 4, 5, 9, 6, 12, 6, 6, 11, 9, 3, 10, 11, 6, 9, 14, 1, 3, 6, 15, 17, 1, 2, 5, 15, 13, 1, 2, 11, 2, 3, 4, 5, 6, 16, 5, 14, 5, 20, 1, 2, 3, 4, 6, 18, 4, 17, 12, 5, 8, 7, 17, 17, 17, 1, 4, 6, 9, 18, 8, 7, 15, 1, 4, 6, 18, 9, 13, 17, 12, 1, 11, 1, 12, 11, 13, 6, 13, 18, 4, 11, 5, 20, 16, 1, 3, 6, 11, 12, 7, 15, 10, 4, 4, 12, 3, 5, 12, 19, 16, 19, 3, 6, 14, 16, 1, 5, 14, 4, 1, 2, 8, 9, 16, 2, 9, 2, 14, 4, 4, 4, 16, 1, 3, 4, 6, 2, 3, 4, 6, 19, 16, 4, 4, 9, 19, 5, 5, 1, 1, 2, 4, 6, 10, 5, 8, 9, 5, 8, 18, 11, 15, 1, 1, 4, 6, 15, 14, 10, 1, 2, 4, 5, 17, 10, 9, 20, 6, 9, 3, 19, 6, 6, 9, 1, 17, 16, 3, 2, 3, 18, 15, 8, 14, 3, 2, 3, 17, 6, 15, 7, 7, 1, 4, 8, 3, 7, 9, 7, 18, 12, 5, 7, 10, 7, 13, 4, 4, 6, 2, 8, 11, 9, 17, 4, 5, 15, 5, 8, 13, 11, 1, 6, 14, 13, 14, 6, 3, 16, 11, 12, 6, 8, 3, 17, 1, 2, 3, 8, 11, 9, 10, 2, 10, 4, 10, 1, 2, 1, 6, 7, 15, 5, 15, 2, 1, 6, 9, 5, 4, 1, 2, 15, 12, 20, 7, 13, 7, 16, 18, 2, 9, 8, 2, 8, 13, 20, 7, 9, 14, 9, 10, 4, 8, 10, 2, 6, 9, 16, 13, 13, 13, 3, 7, 13, 7, 8, 3, 5, 19, 4, 11, 17, 11, 11, 4, 4, 6, 12, 14, 3, 1, 1, 7, 5, 7, 11, 10, 12, 3, 9, 15, 6, 14, 18, 2, 3, 4, 8, 20, 8, 2, 4, 8, 13, 1, 4, 6, 4, 4, 20, 9, 11, 8, 14, 14, 13, 16, 1, 4, 3, 9, 11, 2, 14, 18, 12, 1, 6, 1, 6, 1, 3, 9, 11, 11, 1, 2, 3, 5, 10, 10, 17, 6, 14, 3, 10, 1, 2, 4, 6, 5, 6, 1, 2, 9, 9, 2, 20, 17, 19, 15, 14, 10, 2, 3, 4, 8, 2, 7, 13, 2, 8, 8, 1, 2, 6, 7, 9, 16, 20, 16, 17, 17, 3, 5, 20, 1, 2, 7, 15, 10, 15, 7, 1, 6, 9, 15, 1, 5, 6, 11, 2, 11, 7, 6, 7, 9, 1, 1, 2, 6, 1, 2, 8, 9, 16, 1, 2, 1, 3, 5, 9, 11], \"Freq\": [0.9601584124856437, 0.9987480197925281, 0.9786214823600095, 0.035538494100368634, 0.7394740503192089, 0.2227990207061572, 0.9981547603506226, 0.9992510687576568, 0.9989612376769159, 0.9620383119746054, 0.9984305871790529, 0.9972418834063552, 0.9862645575787388, 0.7911617399880627, 0.20660911681216923, 0.992817664310923, 0.9973042414159982, 0.9446341478207344, 0.009822701790294772, 0.16174715614685392, 0.5900169542037059, 0.22068336688862253, 0.016371169650491287, 0.40324411642568403, 0.44351941185431504, 0.15144165964017772, 0.001473486418120648, 0.9970636754422154, 0.9908282546599758, 0.9533962375241106, 0.9977813184609987, 0.995965631170879, 0.10287650485699827, 0.895753001886187, 0.9992455056829689, 0.9984022581161214, 0.44683346274632985, 0.4532167979284203, 0.09787780612538655, 0.9577428376902243, 0.9907851246890557, 0.9837641511646444, 0.9947530353449804, 0.0033844108365787265, 0.27413727776287683, 0.28259830485432363, 0.10153232509736179, 0.33674887823958327, 0.9979533693204371, 0.9984812482538563, 0.9998380904152653, 0.9916755069468041, 0.9812274934204713, 0.9949628750660222, 0.9990149342279738, 0.0011196226380912778, 0.8923392425587484, 0.10412490534248883, 0.7569000652579607, 0.2216862115818295, 0.01900167527844253, 0.9970470536863454, 0.9990199653688094, 0.9982985021629219, 0.9933193254672111, 0.9963805808024173, 0.003242898554279633, 0.9995438730453179, 0.9950993014454272, 0.9980015315284676, 0.8185379104715337, 0.1800783403037374, 0.9962250877834775, 0.9195007551816348, 0.9970930022309673, 0.9980337922548765, 0.8596142196728183, 0.13984154769797044, 0.16640615684253054, 0.7733557809329165, 0.010580738296345872, 0.04905615028305814, 0.9990271189642117, 0.3253517712672255, 0.6742847108300797, 0.9983808424016978, 0.9990332658946404, 0.9988496695588103, 0.2275615927755176, 0.2975805443987538, 0.37661708827649765, 0.09813262159317193, 0.8012597999265039, 0.13494901893499012, 0.06185163367853714, 0.9931798554513283, 0.9986724734497684, 0.3801368217612792, 0.6170336816994677, 0.997763905752009, 0.9326042965584314, 0.06624348067476322, 0.9975728345320563, 0.5265633175639803, 0.473025991839972, 0.987143549541898, 0.9877498869638837, 0.9939421465525526, 0.9831330973773206, 0.9696608442170723, 0.9973711876796739, 0.05903451461131003, 0.9391854597253868, 0.945967954430179, 0.05346228465862048, 0.9921787131923592, 0.9967855562952384, 0.9951031710507806, 0.9782312245861043, 0.9992668241522354, 0.9992123527365866, 0.0676426807681925, 0.26694700803161686, 0.641397562284111, 0.022950195260636744, 0.38933807705650436, 0.11142783238365662, 0.1918668593115034, 0.3069210412697761, 0.10148861605191618, 0.8977265081651116, 0.9627579263903271, 0.9949408810945568, 0.9980502365986013, 0.8933765709484346, 0.10606040949073753, 0.9993427667673911, 0.9982683067126361, 0.9981726755308531, 0.9945798038883956, 0.9984447240766248, 0.1414414966990258, 0.8576009736561185, 0.9954576833977065, 0.0017073283960700573, 0.9942342359781301, 0.0034146567921401146, 0.985793782097092, 0.9961046561729036, 0.9775855122147913, 0.8783850653563064, 0.9970216867550318, 0.9956088992528322, 0.9938917781839212, 0.9157392548528145, 0.9898694299559069, 0.9980389172290273, 0.7890055982690669, 0.20561964076102957, 0.9914416211334857, 0.9855095168178956, 0.9982451973647072, 0.9991396193769785, 0.9996668176350636, 0.8920728464248169, 0.5490335299622988, 0.18423943958466404, 0.14370676287603795, 0.11791324133418499, 0.9968471806769366, 0.8552712332993584, 0.8062684001476716, 0.193168470868713, 0.9680065558187031, 0.9962142109479488, 0.8806086062427391, 0.11751894211424455, 0.9959352870657764, 0.9986768054163109, 0.04434200687089478, 0.9525319994488509, 0.9902518193258826, 0.9935821829915844, 0.8794838464658643, 0.994684474682313, 0.9981500336128385, 0.9957690733224965, 0.9953675198627295, 0.9805594459089495, 0.9763686125950369, 0.9961262183224864, 0.9938063399917333, 0.9602891357105017, 0.9941665593304565, 0.999316056046512, 0.969633962602459, 0.9994409061573579, 0.9617751603493856, 0.03699135232113022, 0.9971874339841811, 0.9838998449944926, 0.9963928954736012, 0.26481622231313573, 0.6943463148622768, 0.029120684240619733, 0.0109202565902324, 0.9842217227321881, 0.9967227038018612, 0.996199779716563, 0.9386488836388461, 0.9895946668335599, 0.9905816038575241, 0.9885638167114469, 0.9988755181698783, 0.9831498999520649, 0.996753731456326, 0.9956105582025293, 0.9928495622806051, 0.6746882429595625, 0.2807323493693812, 0.01008154845801645, 0.03412216401174799, 0.9961983791459172, 0.9977865538184262, 0.4643091775348689, 0.5343361354581606, 0.975911981648885, 0.9787924886070772, 0.9836608277810376, 0.9955862978546488, 0.0017254528559006044, 0.9676539926488872, 0.9891912942664166, 0.9983485043434936, 0.4868574589077266, 0.021832173045189533, 0.017465738436151627, 0.18884829684088947, 0.19539794875444633, 0.08951190948527708, 0.4526494249797071, 0.06949389512136582, 0.47706619894126806, 0.9967533400054216, 0.9985114515091817, 0.9919602146499257, 0.9986520759567483, 0.03459251180720508, 0.13502238479586498, 0.5824932633342275, 0.12386351001934723, 0.12386351001934723, 0.9977912273097443, 0.8916412873739771, 0.9986113342669651, 0.9863088734605964, 0.983444420174482, 0.9344875076898304, 0.9944021522777993, 0.9675940206166038, 0.9987299908640377, 0.9982207799879815, 0.9870117729553964, 0.9942449065532921, 0.9938054725984862, 0.9183179329491856, 0.08005074086563624, 0.9954320429405362, 0.9911052343089388, 0.9973163298719503, 0.9823785130587583, 0.9939757748078346, 0.806931558078572, 0.09214097375983694, 0.09912135055982459, 0.9997485473702176, 0.9992372178685919, 0.9974449480656595, 0.9918626606004005, 0.9886617684530123, 0.9878812658095255, 0.9801091113350401, 0.9733558748519373, 0.6200262067822322, 0.3793691346079965, 0.9636512554205088, 0.9982229357833056, 0.997416992219401, 0.9948469599625285, 0.9987303994220731, 0.9858951916570117, 0.9986023700561382, 0.9987433371581452, 0.815884538620517, 0.9919086597368479, 0.9981643892703728, 0.9970801880705497, 0.14496622072796908, 0.8113432031065366, 0.039748802457668944, 0.9410517251259228, 0.937704141810196, 0.9994294861930704, 0.9942193732291209, 0.9992417071818619, 0.9926413541407781, 0.998340174832761, 0.9963248386097512, 0.9848081414772389, 0.0064304280096458164, 0.00857390401286109, 0.9988630791002687, 0.998940230614185, 0.9994305458322044, 0.9799777235970338, 0.967590173694391, 0.0841227017363208, 0.7288084977701247, 0.049708869207825926, 0.13689057828001294, 0.21080811873818925, 0.7884093109465405, 0.9960256727673863, 0.3198212698058023, 0.6790871628876535, 0.4191627405127981, 0.5678979065012103, 0.995485479490442, 0.6951766876756328, 0.30207082262095947, 0.4609874912159398, 0.21393400077788274, 0.3101595450608216, 0.014769502145753411, 0.8030083075346084, 0.1923874070134999, 0.9987779398664969, 0.9949051618113198, 0.9982932556310996, 0.9965743569934419, 0.9992557277260923, 0.9983570970286261, 0.9754357509098407, 0.9969099568389929, 0.9950692265270634, 0.9894228054859363, 0.9959184548253521, 0.999203149382142, 0.966129442010031, 0.999494996476233, 0.10333985272018117, 0.43919437406077, 0.45563480517534427, 0.6343291590581828, 0.32142918201987825, 0.03362943678449067, 0.010478737548790572, 0.9865164902613777, 0.012383052179013108, 0.9976064376192317, 0.7555374804869233, 0.06680661123825923, 0.10473917863625389, 0.00311386747296971, 0.012738548753057905, 0.05689885109699197, 0.9813599860843016, 0.9966521472898043, 0.9939235777793406, 0.9950339788318303, 0.9887595487000048, 0.5784093288013639, 0.41900518306870455, 0.9884488334106944, 0.5322863911267935, 0.31652952870403983, 0.15115899942192923, 0.995912212273264, 0.9926973489164628, 0.999037531110608, 0.9985563474299118, 0.9244424061655804, 0.995154340132125, 0.9859379375433641, 0.9959856833905216, 0.26900014214542844, 0.730143242966163, 0.99617635887219, 0.9753697253508161, 0.9989563263685973, 0.9958119591683585, 0.9810876928514292, 0.9939541382678445, 0.8923951641126346, 0.10572805893577054, 0.0017621343155961755, 0.9895024632161764, 0.9936022853641612, 0.9210914689233995, 0.030504452269649457, 0.028121291936083093, 0.020018546801957457, 0.9844485642726105, 0.9998416777794576, 0.19787796626809664, 0.7989789581391072, 0.9486032544464996, 0.9136094007004004, 0.0001535219964208369, 0.0861258399920895, 0.9154267846156969, 0.08440105106385858, 0.9980806630849071, 0.9975084710154717, 0.9667077391993405, 0.9863668782043913, 0.995984992652402, 0.2583267019393194, 0.028134591300321914, 0.7110378528626811, 0.002354347657923416, 0.012948912118578789, 0.9845097122883085, 0.9987268020860744, 0.9993024801291739, 0.42951342113400265, 0.5681213379142983, 0.9449279017068517, 0.9506220162113302, 0.9994946730143082, 0.9910603197564383, 0.9937100379762274, 0.3168556791065014, 0.6824853774774587, 0.9870241746447856, 0.024766128802348145, 0.8359736684415251, 0.1392510638320707, 0.9908280508843378, 0.40616270137640514, 0.35412310526255325, 0.23862058705863803, 0.5111232785540074, 0.047917807364438195, 0.1309753401294644, 0.3082712273778857, 0.9907343728526318, 0.37377779974276765, 0.9933254782371191, 0.9270823446190147, 0.9850681472801477, 0.989147753167368, 0.9993333865349627, 0.4588036447676803, 0.5407151908400116, 0.9969410808817717, 0.9974566900268046, 0.2820663479094067, 0.1456572124450215, 0.3796335600551195, 0.01710894241417713, 0.1747886549340258, 0.9980441551621111, 0.9917775364516174, 0.9942845880936472, 0.9973938382727242, 0.9300070713713616, 0.06700339130917592, 0.9987480159580626, 0.9801667202787162, 0.9936643086089326, 0.9955887739858318, 0.9745102436733736, 0.9252579808553905, 0.07418190347598773, 0.9987337375623723, 0.9968074032928589, 0.9778209369781071, 0.9987691497657964, 0.9964867136508013, 0.9989126372934116, 0.9812373644226278, 0.01802175923057509, 0.9902397962499236, 0.9984085111630969, 0.9984962617101817, 0.9698617643337224, 0.941668845492479, 0.25944755444263135, 0.738313612071031, 0.9990898630080519, 0.995049933731752, 0.9964860277302771, 0.9739380000554787, 0.9978482482782915, 0.2816770611397338, 0.7178221880657732, 0.9222973647476317, 0.36915276045857887, 0.6303457513490828, 0.9996565008415191, 0.999397821977847, 0.9992078682773834, 0.9813633621517651, 0.9895360832136313, 0.010391309704391356, 0.9127791245669888, 0.08665624600319514, 0.021432156312197696, 0.2705809734414959, 0.6597085614848354, 0.04755259681768864, 0.000669754884756178, 0.7683241721083399, 0.1332898826613183, 0.09783567144837506, 0.996561583481211, 0.999500601502707, 0.995117382190417, 0.38900004850627257, 0.5617096136107173, 0.04923029659519217, 0.9792146777811198, 0.9871245002507129, 0.692706783375792, 0.3065980458593723, 0.997152853839196, 0.9471374073174439, 0.016957204271632123, 0.1506582379518085, 0.04565401150054803, 0.7004629764512654, 0.08543822152245416, 0.9993775967025161, 0.9786377821694188, 0.017270078508872095, 0.9977595419777433, 0.45272956500390066, 0.23818302415867867, 0.3072742830749366, 0.45748994210178917, 0.07870003827152965, 0.46337405711274465, 0.9868303985755691, 0.9986039310331716, 0.9989567901172981, 0.61586628051058, 0.3840514445880583, 0.9992368433843438, 0.9976373166651933, 0.9992066537710729, 0.9971486798077361, 0.9980115726901154, 0.997697359161734, 0.7316627901565813, 0.24443920033017935, 0.02364015477081038, 0.963424233887639, 0.7754010738154634, 0.22308330358968947, 0.9170692422430402, 0.08188118234312859, 0.9876232727436217, 0.6844772126043229, 0.31434593851815607, 0.9997113026943738, 0.9314152206412187, 0.01795986442559367, 0.050311408291563726, 0.0002378789990144857, 0.2318076296981523, 0.4270400683565108, 0.34054468414078237, 0.5590847439903555, 0.042079001418288194, 0.30513427929051085, 0.003445064443602542, 0.08981775156535199, 0.942399242692705, 0.9913890646388667, 0.9966247633902606, 0.999300157731305, 0.6118541148470669, 0.17016458377809265, 0.2174884621069113, 0.9950722655981429, 0.9972395862326737, 0.9981874625779187, 0.9991568325745415, 0.9202568854580078, 0.07917879755222745, 0.9866143229636997, 0.9932022465727033, 0.25993776077802927, 0.738005111020139, 0.9492039796742364, 0.995508916126097, 0.9939743450553472, 0.9961491185375809, 0.9968335770456466, 0.4031966377704377, 0.5951950367087413, 0.9987941657237954, 0.999106019339767, 0.9925616083341461, 0.9976418213322721, 0.9955977501597817, 0.9960619641441326, 0.9968836645777883, 0.24970433646043383, 0.6620948315238776, 0.08701817785742391, 0.9815498223348257, 0.9510633196224706, 0.04867751065661602, 0.24169650981591642, 0.7250895294477492, 0.030854873593521244, 0.9898321742252993, 0.9966242931616692, 0.3598512000910405, 0.6307683996513219, 0.00868764015467569, 0.0004572442186671416, 0.9788950515055617, 0.9987845845534846, 0.9993669255201653, 0.4531410741757474, 0.03286581603456961, 0.5139282914432257, 0.673554148173561, 0.2020019126327585, 0.028949318689408064, 0.09456777438539968, 0.9766427523473076, 0.43022030935154276, 0.5687931430752606, 0.9813883673825142, 0.9955347627476271, 0.999003753744988, 0.9951048990369087, 0.9900762954942715, 0.10958574624801268, 0.6462918408241229, 0.10562481566073512, 0.004291008136217364, 0.12509939104818316, 0.008912093821374525, 0.1681305726460175, 0.8301447024397114, 0.9959529991418249, 0.9950109802759556, 0.9695190304798432, 0.9983648962602536, 0.9976606546221639, 0.9951296539288464, 0.9952090643484182, 0.43499553596451385, 0.44683214918803804, 0.11540697892936082, 0.33065765508685196, 0.6613153101737039, 0.0069247676457979464, 0.9930252875907162, 0.964210564779931, 0.30876818570330367, 0.10390294503031806, 0.586659552836277, 0.9652407721047007, 0.9961591475045402, 0.8806426030585254, 0.11919001595052653, 0.9962964335089648, 0.09685045516593539, 0.6511815156278745, 0.026771670533673197, 0.011023629043277198, 0.21338596219486577, 0.9963002021668377, 0.9959226297504699, 0.9934846888547685, 0.9957545852162484, 0.9861893049704586, 0.2570261955100373, 0.19918511823202575, 0.451323335380541, 0.019144581915961575, 0.07331967542283156, 0.9806107029584696, 0.9690868975412773, 0.029108993167697942, 0.9982372947729002, 0.9988768468021813, 0.9989558019370435, 0.9963771038564387, 0.9962940780780187, 0.9906034166797153, 0.9900569588964582, 0.6913225417824339, 0.157641541625253, 0.1148870553161043, 0.03600377794454628, 0.9845322675646696, 0.9976104532555211, 0.9984089771300348, 0.9841117604400447, 0.2924278671457482, 0.4888072507310728, 0.21779146590771203, 0.9001974126286348, 0.9933464887859089, 0.9872276441547696, 0.9738389683746284, 0.9908229930754854, 0.7040783168439106, 0.29515946906993634, 0.7842723411087504, 0.2137318767436009, 0.9930907507379293, 0.9953368817331824, 0.9926483957603838, 0.9835186540584607, 0.9745415267672244, 0.02772841084417505, 0.9712866198559603, 0.9989275038039329, 0.970749131142324, 0.9946246908973613, 0.7867743660107294, 0.10817811992573316, 0.08697198723557703, 0.01798494797772735, 0.9915014228577589, 0.5619417587685691, 0.4353382795203144, 0.9893877775934641, 0.9961579731311554, 0.9985488513268658, 0.952094236871808, 0.15736116954603696, 0.8423114238973324, 0.9932738196035112, 0.9479199845015488, 0.985317615412715, 0.8080011110211233, 0.8493966635959831, 0.1493689670890574, 0.9857856086050778, 0.9866037150951551, 0.9989119162095287, 0.9989097567832269, 0.9735751289378332, 0.9979652976102599, 0.5405482108363595, 0.28750969994115055, 0.1718563627797668, 0.9915563799242961, 0.987732853100133, 0.9995935121102656, 0.9916797910531165, 0.7989156852107554, 0.1982119927864659, 0.9978055720653943, 0.997117603559081, 0.998144521307896, 0.923549891998988, 0.10901050622397919, 0.08950336300495133, 0.02294958025767983, 0.7791382497482302, 0.5530454732805765, 0.024671173529245048, 0.27498078829471045, 0.14699907561175174, 0.8383136865687216, 0.9821684710912367, 0.9991156321871366, 0.8754262511584832, 0.12337088095476693, 0.965599724660755, 0.9978039420597359, 0.9966675380668284, 0.9996592952859557, 0.4455903221737007, 0.31679640713445295, 0.00732477241929371, 0.23011993350614404, 0.9936582832718369, 0.996415232163199, 0.9954039250445975, 0.9878634362769971, 0.8716569116757417, 0.1269116722417276, 0.977357929836865, 0.9803098424357399, 0.9644407932919138, 0.9995116763290844, 0.350806196608148, 0.010240105550708652, 0.6385201299845105, 0.9856652655834227, 0.9731671574080225, 0.9975025554251593, 0.7410923894643435, 0.009725621908980886, 0.08364034841723562, 0.11476233852597446, 0.04862810954490443, 0.9946219664248155, 0.9930490853630802, 0.9868588427401302, 0.988601904468533, 0.007405257711374779, 0.9969201288945206, 0.993264132572697, 0.998500203140574, 0.9931281066956139, 0.0055585528359829136, 0.9991456876958402, 0.989849501483875, 0.9886414781794033, 0.9990143366190829, 0.11225743711054142, 0.8858576015462291, 0.9796398349652022, 0.9799443694513064, 0.9951306482905897, 0.9950333511322107, 0.9970907397309101, 0.10427739437654951, 0.8950476350653833, 0.9774761241986497, 0.9967177282690399, 0.9803969571780576, 0.9971131824048555, 0.9955177356117534, 0.5335916564512244, 0.46603504712802296, 0.9944674373739573, 0.9988987789771726, 0.8132799294063997, 0.1860717576276853, 0.9950925148141373, 0.9946306389095982, 0.9604752210172939, 0.9976270365666305, 0.9340524332769993, 0.060652755407597354, 0.9976978062391266, 0.9927079232350028, 0.996491432885139, 0.896109578258633, 0.10359648303568013, 0.749556046268578, 0.11603865414269708, 0.1341487331129446, 0.9942357529557688, 0.9106679582097557, 0.27132287798954646, 0.37740400321854206, 0.348843700272274, 0.9987263127536617, 0.9965709291772927, 0.9949557719282607, 0.9960158498920019, 0.8468730821170571, 0.15295896207482482, 0.9802398679920601, 0.1025748838572875, 0.8905364916700869, 0.9987936879716605, 0.3741552907651968, 0.6136146768549228, 0.9965919414721657, 0.99785819695457, 0.9945174681200112, 0.9969652395129929, 0.9979734062380232, 0.9978923321081837, 0.7075361073596081, 0.08367128240559682, 0.021284799910195683, 0.09468066166949113, 0.09247878581671228, 0.992799615141214, 0.9974294250667061, 0.9983594598508783, 0.9971528374330857, 0.8440891002929921, 0.15494642575308423, 0.9993095874654732, 0.00046393202760699776, 0.9754426385639449, 0.0239705759804377, 0.9976872220688437, 0.9723631371617034, 0.9987398687525272, 0.9741782985489399, 0.9992976080218678, 0.1308659996362104, 0.8685909975854357, 0.9929523592334928, 0.9986168201052549, 0.9977445854341962, 0.12182782675477391, 0.8778214338648244, 0.9688054618546265, 0.9897781874798848, 0.9492604013416931, 0.9984402151229353, 0.9928968117009757, 0.9990031964117692, 0.9961956037948037, 0.9969659717256942, 0.9980369915614178, 0.9926735476946279, 0.9987913968022284, 0.9293454210385198, 0.07007749122700607, 0.9939287336937699, 0.9190416064914528, 0.6986856158071045, 0.2998407905892837, 0.9912864361001033, 0.8026303546052947, 0.19404250331117015, 0.8340128857819936, 0.165313268431788, 0.9955427644404268, 0.9265506757001782, 0.046684533156203405, 0.026363030488208983, 0.9638696356957666, 0.9984320585850689, 0.989009319238819, 0.9772858779695384, 0.9988064165481286, 0.9969160397123754, 0.9894079102756878, 0.994569553298356, 0.9986687134714265, 0.10788774618392742, 0.8897044274345796, 0.922804528760413, 0.6684950476950476, 0.319715022810675, 0.9965053319278369, 0.9846203204720918, 0.9906028659565005, 0.9994598236206822, 0.2272305696625989, 0.7709608613552463, 0.9720710990601351, 0.9489982014754954, 0.9970645531594754, 0.9996070354837004, 0.6588524811244446, 0.33990269344229296, 0.9961567346973438, 0.9953555721403613, 0.9866588191404807, 0.9883977625684299, 0.9834905378304598, 0.9982389722565148, 0.9869134316879823, 0.953121552975678, 0.21709771065604316, 0.7734105942121539, 0.9536811214796124, 0.7118620438931703, 0.06542276989827824, 0.20405673468272495, 0.01817299163841062, 0.9583224731670916, 0.9965855817516971, 0.7190826000596141, 0.10932475995296236, 0.1714502692989262, 0.9767963464352228, 0.9996694806859842, 0.7544859358655083, 0.24497066942803059, 0.9961689600538036, 0.9979475041597003, 0.9932868083675604, 0.9953362819043313, 0.9991482961776926, 0.19160784962529487, 0.8058800734240343, 0.9991732967883732, 0.9758869020165822, 0.9854590926869028, 0.9995239351036664, 0.996294999783135, 0.9981320831107698, 0.9959808287023442, 0.9694869084909328, 0.999527062681698, 0.9916450032944655, 0.9338004462863096, 0.9791069509750812, 0.952029580485287, 0.04776357259642416, 0.9518809551805991, 0.04791669599856182, 0.4264886889314036, 0.27679398354488444, 0.05931299647390381, 0.234427557492096, 0.9927007050700326, 0.9574583013281739, 0.042481612272547244, 0.007937565406879841, 0.9902112845082601, 0.9911233805325164, 0.992851804034792, 0.9970434759115155, 0.9926431209090129, 0.9680625010502589, 0.9972771220624229, 0.9944188318033235, 0.399103178394116, 0.02162628060263683, 0.015072862238201427, 0.5635939793414446, 0.9958048264056608, 0.9979977006371089, 0.868530754692301, 0.131112070796202, 0.9979665243343464, 0.9963296801878272, 0.9994164836268568, 0.9820042981741831, 0.9822656221160917, 0.9930307155928295, 0.9833836416375485, 0.9494143011960687, 0.9958317855466917, 0.8762634659558813, 0.012529378065251517, 0.06026789449108324, 0.050910510872730845, 0.9990415803946828, 0.7976677136369673, 0.1986970117001832, 0.980683383780393, 0.018980968718330188, 0.998681470537743, 0.17965872943004307, 0.21112438260705627, 0.607997621065513, 0.5977244194793888, 0.4006369081915903, 0.9334460678374326, 0.9856868818533132, 0.9841070270334836, 0.9957068615571517, 0.9478308536545615, 0.0040167138382541006, 0.9941366749678899, 0.9869644456676738, 0.9340260527689787, 0.06579436068202772, 0.9985951078733949, 0.9927894298509922, 0.9969577422600958, 0.9926620784528162, 0.9945189558216513, 0.9659320313948272, 0.02172668111853407, 0.012221258129175414, 0.9953418292909104, 0.9956597962495857, 0.0040936218210353, 0.9971843672596948, 0.9989485669571848, 0.9994251340201307, 0.9967444365643591, 0.9977378918424893, 0.1790650270958837, 0.7814909396827495, 0.03837107723483222, 0.9983426783890852, 0.2775788377225515, 0.06344659147944033, 0.6582583865991934, 0.5348735679943457, 0.4269532669962552, 0.03001212180137374, 0.008016936645572438, 0.9944248496715868, 0.996106147958262, 0.00378096582695609, 0.17376733579911682, 0.0042004826719888285, 0.6722983055535805, 0.012601448015966486, 0.13684730389268868], \"Term\": [\"abstract\", \"accept\", \"accuracy\", \"action\", \"action\", \"action\", \"activity\", \"actually\", \"address\", \"adequately\", \"advance\", \"advice\", \"afford\", \"age\", \"age\", \"aged\", \"air\", \"alert\", \"allow\", \"allow\", \"allow\", \"allow\", \"allow\", \"also\", \"also\", \"also\", \"also\", \"amount\", \"amp\", \"amplifier\", \"animal\", \"announcement\", \"appear\", \"appear\", \"application\", \"appreciate\", \"appropriate\", \"appropriate\", \"appropriate\", \"approval\", \"approve\", \"approximately\", \"arab\", \"area\", \"area\", \"area\", \"area\", \"area\", \"argument\", \"armenian\", \"article\", \"assist\", \"asteroid\", \"atheism\", \"atheist\", \"attack\", \"attack\", \"attack\", \"attempt\", \"attempt\", \"attempt\", \"authority\", \"available\", \"avoid\", \"aware\", \"back\", \"back\", \"bad\", \"bank\", \"baseball\", \"basis\", \"basis\", \"battery\", \"batting\", \"be\", \"bear\", \"become\", \"become\", \"begin\", \"begin\", \"begin\", \"begin\", \"belief\", \"believe\", \"believe\", \"better\", \"big\", \"bike\", \"bit\", \"bit\", \"bit\", \"bit\", \"black\", \"black\", \"black\", \"blind\", \"block\", \"blue\", \"blue\", \"board\", \"body\", \"body\", \"bomb\", \"book\", \"book\", \"bottom\", \"brave\", \"british\", \"buffer\", \"bumper\", \"burn\", \"bus\", \"bus\", \"buy\", \"buy\", \"buyer\", \"cable\", \"canadian\", \"captain\", \"car\", \"card\", \"carry\", \"carry\", \"carry\", \"carry\", \"case\", \"case\", \"case\", \"case\", \"cause\", \"cause\", \"caution\", \"cd\", \"charge\", \"child\", \"child\", \"chip\", \"christian\", \"christianity\", \"circuit\", \"citizen\", \"city\", \"city\", \"civilian\", \"claim\", \"claim\", \"claim\", \"classic\", \"clean\", \"cleveland_ohio\", \"climb\", \"clipper_chip\", \"clock\", \"club\", \"clutch\", \"co\", \"code\", \"cold\", \"cold\", \"collect\", \"collision\", \"color\", \"com\", \"come\", \"commander\", \"commit\", \"commit\", \"commit\", \"commit\", \"community\", \"comprehend\", \"computer\", \"computer\", \"computer_science\", \"concept\", \"concern\", \"concern\", \"concerned\", \"conclusion\", \"condition\", \"condition\", \"conference\", \"configuration\", \"consent\", \"consideration\", \"contain\", \"context\", \"controller\", \"controversial\", \"converter\", \"convince\", \"cool\", \"cooling_tower\", \"cop\", \"copy\", \"cord\", \"cost\", \"country\", \"country\", \"court\", \"crack\", \"crash\", \"create\", \"create\", \"create\", \"create\", \"crew\", \"crime\", \"criminal\", \"crisis\", \"cross\", \"cub\", \"cure\", \"currently\", \"custom\", \"cycle\", \"cylinder\", \"data\", \"datum\", \"datum\", \"datum\", \"datum\", \"daughter\", \"dealer\", \"death\", \"death\", \"death_penalty\", \"defensive\", \"deficit\", \"define\", \"define\", \"deletion\", \"depth\", \"describe\", \"design\", \"design\", \"design\", \"design\", \"design\", \"design\", \"develop\", \"develop\", \"develop\", \"development\", \"device\", \"devil\", \"die\", \"difference\", \"difference\", \"difference\", \"difference\", \"difference\", \"digital\", \"diplomatic\", \"direct\", \"dirt\", \"disarm\", \"discipline\", \"disease\", \"dish\", \"disk\", \"display\", \"distant\", \"distribution_usa\", \"distribution_world\", \"division\", \"division\", \"doctor\", \"dod\", \"dog\", \"domain\", \"door\", \"draw\", \"draw\", \"draw\", \"drive\", \"driver\", \"drop\", \"dual\", \"dumb\", \"dump\", \"duo\", \"dynamic\", \"earth\", \"earth\", \"earth_orbit\", \"easy\", \"eat\", \"economic\", \"effect\", \"electrical\", \"else\", \"email\", \"empire\", \"enable\", \"encryption\", \"engine\", \"engineering\", \"engineering\", \"engineering\", \"engineering_carnegie\", \"enlighten\", \"enough\", \"ensure\", \"entry\", \"era\", \"error\", \"escape\", \"even\", \"even\", \"even\", \"event\", \"ever\", \"evidence\", \"evolution\", \"evolve\", \"example\", \"example\", \"example\", \"example\", \"exist\", \"exist\", \"expansion\", \"explain\", \"explain\", \"expose\", \"expose\", \"extra\", \"facility\", \"facility\", \"fact\", \"fact\", \"fact\", \"fact\", \"factor\", \"factor\", \"faith\", \"false\", \"family\", \"fan\", \"far\", \"fast\", \"fate\", \"feature\", \"federal\", \"fee\", \"feed\", \"feel\", \"fighter\", \"file\", \"final\", \"final\", \"final\", \"find\", \"find\", \"find\", \"find\", \"fire\", \"fire\", \"firearm\", \"first\", \"first\", \"first\", \"first\", \"first\", \"first\", \"fish\", \"flame\", \"flight\", \"floppy\", \"flow\", \"fly\", \"fly\", \"flyer\", \"follow\", \"follow\", \"follow\", \"foot\", \"foreign\", \"form\", \"format\", \"fort_collin\", \"freedom\", \"frequently_aske\", \"fuel\", \"function\", \"function\", \"future\", \"fuzzy\", \"game\", \"generally\", \"generic\", \"genocide\", \"get\", \"get\", \"get\", \"giant\", \"gif\", \"give\", \"give\", \"give\", \"give\", \"global\", \"go\", \"goal\", \"goal\", \"goalie\", \"good\", \"good\", \"good\", \"government\", \"government\", \"grant\", \"graphic\", \"greatly_appreciate\", \"greatly_appreciated\", \"greek\", \"ground\", \"ground\", \"ground\", \"group\", \"group\", \"group\", \"gun\", \"happen\", \"hardware\", \"hardware\", \"harmony\", \"hassle\", \"hear\", \"heat\", \"helmet\", \"help\", \"help\", \"hence\", \"high\", \"high\", \"high\", \"historical\", \"history\", \"history\", \"history\", \"hit\", \"hit\", \"hit\", \"hit\", \"hitter\", \"hitting\", \"homosexual\", \"honesty\", \"honor\", \"hook\", \"hope\", \"host\", \"host\", \"hot\", \"house\", \"however\", \"however\", \"however\", \"however\", \"however\", \"human\", \"human_being\", \"ice\", \"ide\", \"ignore\", \"ignore\", \"image\", \"imagination\", \"impact\", \"impression\", \"impressive\", \"include\", \"include\", \"increase\", \"indicate\", \"indication\", \"individual\", \"industry\", \"info\", \"information\", \"information\", \"inning\", \"input\", \"instal\", \"int\", \"intentionally\", \"interest\", \"interest\", \"interested\", \"interface\", \"interpretation\", \"invalid\", \"israeli\", \"issue\", \"issue\", \"ist\", \"jewish\", \"jewish\", \"key\", \"kill\", \"kind\", \"km\", \"know\", \"know\", \"land\", \"land\", \"large\", \"large\", \"large\", \"large\", \"large\", \"last\", \"last\", \"last\", \"launch\", \"law\", \"law_enforcement\", \"lead\", \"lead\", \"lead\", \"leadership\", \"leather\", \"leave\", \"leave\", \"legal\", \"lemieux\", \"less\", \"less\", \"less\", \"less\", \"less\", \"let\", \"letter\", \"letter\", \"license\", \"lie\", \"lie\", \"lie\", \"life\", \"life\", \"life\", \"lift\", \"light\", \"like\", \"line\", \"line\", \"list\", \"listen\", \"little\", \"load\", \"logic\", \"longer\", \"look\", \"look\", \"look\", \"loop\", \"lose\", \"lose\", \"low\", \"low\", \"lunar\", \"machine\", \"machine\", \"mail\", \"make\", \"make\", \"make\", \"make\", \"man\", \"man\", \"man\", \"many\", \"many\", \"many\", \"many\", \"many\", \"mask\", \"massacre\", \"material\", \"maybe\", \"mean\", \"mean\", \"mean\", \"medical\", \"meet\", \"member\", \"memory\", \"message\", \"message\", \"mid\", \"middle\", \"military\", \"military\", \"milk\", \"minor\", \"mirror\", \"mission\", \"mode\", \"model\", \"model\", \"money\", \"month\", \"moon\", \"moral\", \"motto\", \"mount\", \"mouse\", \"move\", \"move\", \"move\", \"mph\", \"much\", \"much\", \"murder\", \"murder\", \"murder\", \"muslim\", \"national\", \"need\", \"need\", \"need\", \"need\", \"neighborhood\", \"network\", \"never\", \"new\", \"new\", \"new\", \"next\", \"next\", \"next\", \"next\", \"nhl\", \"nice\", \"nice\", \"nicely\", \"night\", \"nntp_posting\", \"northern\", \"nuclear\", \"number\", \"number\", \"number\", \"number\", \"number\", \"number\", \"object\", \"object\", \"objective\", \"observation\", \"observer\", \"occupy\", \"occur\", \"odd\", \"offense\", \"official\", \"official\", \"official\", \"often\", \"often\", \"often\", \"oil\", \"oiler\", \"old\", \"old\", \"old\", \"openwindow\", \"orbit\", \"organization\", \"organization\", \"originator\", \"other\", \"other\", \"other\", \"other\", \"other\", \"output\", \"owner\", \"ozone\", \"pack\", \"paint\", \"part\", \"part\", \"part\", \"part\", \"part\", \"participation\", \"pass\", \"pass\", \"patient\", \"pay\", \"pc\", \"peace\", \"pen\", \"penalty\", \"penguin\", \"people\", \"people\", \"people\", \"people\", \"percentage\", \"performance\", \"period\", \"peripheral\", \"person\", \"person\", \"person\", \"personnel\", \"pgp\", \"phase\", \"philly\", \"physician\", \"pick\", \"pick\", \"picture\", \"picture\", \"pitch\", \"plane\", \"planet\", \"planetary\", \"plausible\", \"play\", \"play\", \"player\", \"please_respond\", \"plug\", \"point\", \"point\", \"point\", \"point\", \"pointer\", \"police\", \"police\", \"pop\", \"popular\", \"possibly\", \"postscript\", \"power\", \"power\", \"preach\", \"precedent\", \"preferably\", \"preliminary\", \"present\", \"present\", \"presentation\", \"pretend\", \"pretty\", \"price\", \"priority\", \"private\", \"problem\", \"problem\", \"problem\", \"proceed\", \"production\", \"program\", \"prohibit\", \"project\", \"project\", \"property\", \"proposal\", \"protect\", \"protective\", \"prove\", \"prove\", \"prove\", \"prove\", \"provide\", \"provide\", \"provide\", \"provide\", \"pseudo\", \"pub\", \"public\", \"publish\", \"publish\", \"publisher\", \"pull\", \"purchase\", \"put\", \"question\", \"question\", \"question\", \"question\", \"quick\", \"radio\", \"ram\", \"rape\", \"rate\", \"rate\", \"ray\", \"rbi\", \"reactor\", \"really\", \"reason\", \"reason\", \"reason\", \"recieve\", \"recognition\", \"recommend\", \"record\", \"record\", \"record\", \"record\", \"record\", \"red\", \"region\", \"regularly\", \"reject\", \"reject\", \"relate\", \"relation\", \"religion\", \"religious\", \"religious\", \"remember\", \"remind\", \"remote\", \"report\", \"research\", \"research\", \"reserve\", \"reserve_university\", \"resolution\", \"resource\", \"respect\", \"result\", \"result\", \"retire\", \"revelation\", \"revolver\", \"ride\", \"rider\", \"right\", \"right\", \"ring\", \"risk\", \"road\", \"road\", \"rocket\", \"role\", \"roman\", \"room\", \"round\", \"round\", \"route\", \"routine\", \"rsa\", \"rule\", \"rule\", \"run\", \"run\", \"run\", \"russian\", \"sabre\", \"safety\", \"safety\", \"safety\", \"sale\", \"sample\", \"satellite\", \"saturn\", \"say\", \"say\", \"scare\", \"schedule\", \"schedule\", \"science\", \"scope\", \"scope\", \"score\", \"screen\", \"scripture\", \"scsi\", \"search\", \"season\", \"second\", \"second\", \"second\", \"second\", \"second\", \"secrecy\", \"secret\", \"section\", \"secure\", \"security\", \"security\", \"see\", \"see\", \"seem\", \"seem\", \"self\", \"self_defense\", \"sell\", \"semi_auto\", \"send\", \"sense\", \"sense\", \"serdar_argic\", \"serious\", \"session\", \"set\", \"set\", \"seventh\", \"shape\", \"sharp\", \"shoot\", \"shuttle\", \"side\", \"signal\", \"significant\", \"size\", \"slaughter\", \"slow\", \"software\", \"software\", \"solar\", \"solar_terresterial\", \"soldier\", \"soldier\", \"solid\", \"son\", \"son\", \"sorry\", \"sorry\", \"soul\", \"source\", \"source\", \"source\", \"soviet_union\", \"space\", \"space_shuttle\", \"space_station\", \"speak\", \"special\", \"specification\", \"specify\", \"speed\", \"spend\", \"spend\", \"stab\", \"staff\", \"staff\", \"star\", \"starter\", \"stat\", \"state\", \"statement\", \"statement\", \"static\", \"steam\", \"step\", \"still\", \"stop\", \"stop\", \"straight\", \"street\", \"strength\", \"strip\", \"stroke\", \"study\", \"succeed\", \"sufficiently\", \"summarize\", \"summarize\", \"sunlight\", \"support\", \"support\", \"support\", \"support\", \"sustain\", \"switch\", \"system\", \"system\", \"system\", \"tail\", \"take\", \"talk\", \"talk\", \"tap\", \"tape\", \"task\", \"tax\", \"team\", \"technical\", \"technical\", \"technology\", \"telescope\", \"television\", \"tell\", \"telnet\", \"term\", \"terrorism\", \"th\", \"thank\", \"thermal\", \"thesis\", \"thick\", \"thing\", \"thing\", \"think\", \"think\", \"third\", \"third\", \"third\", \"third\", \"tie\", \"time\", \"time\", \"total\", \"total\", \"touch\", \"trace\", \"trade\", \"tradition\", \"transport\", \"treatment\", \"trick\", \"true\", \"true\", \"true\", \"true\", \"trust\", \"truth\", \"try\", \"try\", \"turk\", \"turkish\", \"type\", \"ultimate\", \"unhappy\", \"united_state\", \"unusual\", \"upcoming\", \"upgrade\", \"use\", \"use\", \"use\", \"use\", \"user\", \"vehicle\", \"vehicle\", \"version\", \"version\", \"video\", \"view\", \"view\", \"view\", \"village\", \"village\", \"visualization\", \"volt\", \"voltage\", \"vote\", \"voting\", \"wait\", \"wait\", \"wall\", \"want\", \"want\", \"war\", \"warrant\", \"waste\", \"water\", \"wave\", \"way\", \"way\", \"way\", \"weight\", \"well\", \"well\", \"white\", \"win\", \"window\", \"wing\", \"withdraw\", \"woman\", \"woman\", \"woman\", \"wonder\", \"word\", \"word\", \"word\", \"work\", \"work\", \"work\", \"work\", \"workstation\", \"write\", \"write\", \"year\", \"year\", \"year\", \"year\", \"year\"]}, \"R\": 30, \"lambda.step\": 0.01, \"plot.opts\": {\"xlab\": \"PC1\", \"ylab\": \"PC2\"}, \"topic.order\": [2, 17, 19, 10, 16, 1, 5, 11, 20, 14, 12, 18, 9, 4, 13, 8, 3, 7, 15, 6]};\n",
              "\n",
              "function LDAvis_load_lib(url, callback){\n",
              "  var s = document.createElement('script');\n",
              "  s.src = url;\n",
              "  s.async = true;\n",
              "  s.onreadystatechange = s.onload = callback;\n",
              "  s.onerror = function(){console.warn(\"failed to load library \" + url);};\n",
              "  document.getElementsByTagName(\"head\")[0].appendChild(s);\n",
              "}\n",
              "\n",
              "if(typeof(LDAvis) !== \"undefined\"){\n",
              "   // already loaded: just create the visualization\n",
              "   !function(LDAvis){\n",
              "       new LDAvis(\"#\" + \"ldavis_el2133462644063285659230788\", ldavis_el2133462644063285659230788_data);\n",
              "   }(LDAvis);\n",
              "}else if(typeof define === \"function\" && define.amd){\n",
              "   // require.js is available: use it to load d3/LDAvis\n",
              "   require.config({paths: {d3: \"https://cdnjs.cloudflare.com/ajax/libs/d3/3.5.5/d3.min\"}});\n",
              "   require([\"d3\"], function(d3){\n",
              "      window.d3 = d3;\n",
              "      LDAvis_load_lib(\"https://cdn.rawgit.com/bmabey/pyLDAvis/files/ldavis.v1.0.0.js\", function(){\n",
              "        new LDAvis(\"#\" + \"ldavis_el2133462644063285659230788\", ldavis_el2133462644063285659230788_data);\n",
              "      });\n",
              "    });\n",
              "}else{\n",
              "    // require.js not available: dynamically load d3 & LDAvis\n",
              "    LDAvis_load_lib(\"https://cdnjs.cloudflare.com/ajax/libs/d3/3.5.5/d3.min.js\", function(){\n",
              "         LDAvis_load_lib(\"https://cdn.rawgit.com/bmabey/pyLDAvis/files/ldavis.v1.0.0.js\", function(){\n",
              "                 new LDAvis(\"#\" + \"ldavis_el2133462644063285659230788\", ldavis_el2133462644063285659230788_data);\n",
              "            })\n",
              "         });\n",
              "}\n",
              "</script>"
            ],
            "text/plain": [
              "PreparedData(topic_coordinates=              x         y  topics  cluster       Freq\n",
              "topic                                                \n",
              "1     -0.328874 -0.086072       1        1  36.891814\n",
              "16    -0.295193  0.086724       2        1  17.645877\n",
              "18    -0.219091 -0.020999       3        1   9.087457\n",
              "9     -0.202543 -0.129529       4        1   6.546767\n",
              "15    -0.138704  0.285740       5        1   6.486947\n",
              "0     -0.232490 -0.241185       6        1   5.870546\n",
              "4     -0.060681  0.043947       7        1   3.738310\n",
              "10    -0.088052  0.227023       8        1   3.659688\n",
              "19     0.015335 -0.109814       9        1   1.636868\n",
              "13     0.071908  0.044875      10        1   1.597497\n",
              "11     0.031237  0.075047      11        1   1.331517\n",
              "17     0.119404  0.003556      12        1   0.993768\n",
              "8      0.119306  0.005275      13        1   0.875789\n",
              "3      0.146778 -0.033549      14        1   0.716643\n",
              "12     0.151618 -0.019674      15        1   0.709163\n",
              "7      0.167843 -0.023635      16        1   0.608651\n",
              "2      0.162308 -0.014715      17        1   0.563443\n",
              "6      0.184419 -0.027261      18        1   0.413067\n",
              "14     0.192860 -0.035457      19        1   0.350880\n",
              "5      0.202611 -0.030296      20        1   0.275309, topic_info=              Term          Freq         Total Category  logprob  loglift\n",
              "184          write  14017.000000  14017.000000  Default  30.0000  30.0000\n",
              "32            year   4523.000000   4523.000000  Default  29.0000  29.0000\n",
              "286            say   8930.000000   8930.000000  Default  28.0000  28.0000\n",
              "623            key   2627.000000   2627.000000  Default  27.0000  27.0000\n",
              "125         people   7999.000000   7999.000000  Default  26.0000  26.0000\n",
              "...            ...           ...           ...      ...      ...      ...\n",
              "13566       wiring      0.042323      1.240388  Topic20 -11.1757   2.5172\n",
              "16377  ground_wire      0.042318      1.240353  Topic20 -11.1758   2.5171\n",
              "10976      breaker      0.042317      1.240356  Topic20 -11.1759   2.5171\n",
              "3361       connect      0.042319      1.240435  Topic20 -11.1758   2.5171\n",
              "4701      physical      0.042317      1.240513  Topic20 -11.1759   2.5170\n",
              "\n",
              "[841 rows x 6 columns], token_table=      Topic      Freq      Term\n",
              "term                           \n",
              "2923     14  0.960158  abstract\n",
              "1211      3  0.998748    accept\n",
              "1004     16  0.978621  accuracy\n",
              "1578      1  0.035538    action\n",
              "1578      4  0.739474    action\n",
              "...     ...       ...       ...\n",
              "32        1  0.173767      year\n",
              "32        3  0.004200      year\n",
              "32        5  0.672298      year\n",
              "32        9  0.012601      year\n",
              "32       11  0.136847      year\n",
              "\n",
              "[1098 rows x 3 columns], R=30, lambda_step=0.01, plot_opts={'xlab': 'PC1', 'ylab': 'PC2'}, topic_order=[2, 17, 19, 10, 16, 1, 5, 11, 20, 14, 12, 18, 9, 4, 13, 8, 3, 7, 15, 6])"
            ]
          },
          "execution_count": 19,
          "metadata": {},
          "output_type": "execute_result"
        }
      ]
    },
    {
      "cell_type": "code",
      "metadata": {
        "id": "x0tHx4t5zp_g"
      },
      "source": [
        "import os\n",
        "os.environ.update({'MALLET_HOME':r'C:/Users/Lenovo/Desktop/mallet-2.0.8'})"
      ],
      "execution_count": null,
      "outputs": []
    },
    {
      "cell_type": "code",
      "metadata": {
        "id": "axMNiS5wJMFE"
      },
      "source": [
        "## Download File: http://mallet.cs.umass.edu/dist/mallet-2.0.8.zip\n",
        "mallet_path = 'C:/Users/Lenovo/Desktop/mallet-2.0.8/bin/mallet' # update this path\n",
        "ldamallet = gensim.models.wrappers.LdaMallet(mallet_path, corpus=corpus, num_topics=20, id2word=id2word)"
      ],
      "execution_count": null,
      "outputs": []
    },
    {
      "cell_type": "code",
      "metadata": {
        "id": "vkmCE0EzJMFF",
        "outputId": "ee19f2ba-427b-4da4-9570-077ca5fff609"
      },
      "source": [
        "# Show Topics\n",
        "pprint(ldamallet.show_topics(formatted=False))\n",
        "\n",
        "# Compute Coherence Score\n",
        "coherence_model_ldamallet = CoherenceModel(model=ldamallet, texts=data_lemmatized, dictionary=id2word, coherence='c_v')\n",
        "coherence_ldamallet = coherence_model_ldamallet.get_coherence()\n",
        "print('\\nCoherence Score: ', coherence_ldamallet)"
      ],
      "execution_count": null,
      "outputs": [
        {
          "name": "stdout",
          "output_type": "stream",
          "text": [
            "[(14,\n",
            "  [('drive', 0.034160504468538765),\n",
            "   ('card', 0.026970013156103978),\n",
            "   ('problem', 0.026130744454021686),\n",
            "   ('system', 0.024928548745633536),\n",
            "   ('driver', 0.018804155514222202),\n",
            "   ('run', 0.017579276867939937),\n",
            "   ('work', 0.015242934264845983),\n",
            "   ('disk', 0.015220251326951867),\n",
            "   ('bit', 0.014040738556457832),\n",
            "   ('memory', 0.013723177425940208)]),\n",
            " (18,\n",
            "  [('line', 0.02928489135385687),\n",
            "   ('good', 0.028347131795407658),\n",
            "   ('buy', 0.026632371459957668),\n",
            "   ('price', 0.02585537068295689),\n",
            "   ('sell', 0.023953058435817055),\n",
            "   ('cost', 0.01596870562387804),\n",
            "   ('pay', 0.015459636149291321),\n",
            "   ('sale', 0.015191704846877261),\n",
            "   ('offer', 0.012753529994909306),\n",
            "   ('call', 0.012565978083219463)]),\n",
            " (6,\n",
            "  [('window', 0.020890399084636455),\n",
            "   ('image', 0.017891196560452134),\n",
            "   ('file', 0.015464096251863667),\n",
            "   ('program', 0.014597274713082071),\n",
            "   ('display', 0.013799798897403003),\n",
            "   ('software', 0.012187510835269234),\n",
            "   ('application', 0.012170174404493602),\n",
            "   ('version', 0.011996810096737283),\n",
            "   ('run', 0.01133802572726327),\n",
            "   ('color', 0.011112652127180055)]),\n",
            " (4,\n",
            "  [('game', 0.031754338224520125),\n",
            "   ('team', 0.030393737048123416),\n",
            "   ('year', 0.029535511690703953),\n",
            "   ('play', 0.025432775835723107),\n",
            "   ('player', 0.018964687166391058),\n",
            "   ('win', 0.016264417139388358),\n",
            "   ('good', 0.014485169447177275),\n",
            "   ('season', 0.01230820756494254),\n",
            "   ('run', 0.009838193121637745),\n",
            "   ('hit', 0.009419546605823373)]),\n",
            " (9,\n",
            "  [('car', 0.041619492985478714),\n",
            "   ('bike', 0.014250553777996553),\n",
            "   ('ride', 0.010952498154073344),\n",
            "   ('drive', 0.010066453359586513),\n",
            "   ('engine', 0.008663549101649027),\n",
            "   ('turn', 0.008048240216588728),\n",
            "   ('speed', 0.007605217819345311),\n",
            "   ('front', 0.0075806054639428995),\n",
            "   ('road', 0.007432931331528427),\n",
            "   ('mile', 0.007112970711297071)]),\n",
            " (19,\n",
            "  [('gun', 0.022815035249938),\n",
            "   ('people', 0.018227229248591773),\n",
            "   ('state', 0.015765047649413683),\n",
            "   ('government', 0.01417082934778758),\n",
            "   ('law', 0.009529882736387147),\n",
            "   ('job', 0.008927622489106175),\n",
            "   ('make', 0.00823679455840153),\n",
            "   ('crime', 0.008183653948347327),\n",
            "   ('year', 0.00811279980160839),\n",
            "   ('weapon', 0.007652247847805293)]),\n",
            " (15,\n",
            "  [('make', 0.05305789275398719),\n",
            "   ('thing', 0.04772070827577546),\n",
            "   ('time', 0.03884633094729792),\n",
            "   ('good', 0.037234710536230065),\n",
            "   ('work', 0.028381263342961194),\n",
            "   ('point', 0.026267319686885178),\n",
            "   ('problem', 0.024132445895600485),\n",
            "   ('give', 0.02331617062246222),\n",
            "   ('bad', 0.021369668048055592),\n",
            "   ('put', 0.016974339654234165)]),\n",
            " (0,\n",
            "  [('people', 0.02214538150568254),\n",
            "   ('drug', 0.013627927080420025),\n",
            "   ('man', 0.013144847575703644),\n",
            "   ('article', 0.0130431466273423),\n",
            "   ('make', 0.011644758587373827),\n",
            "   ('show', 0.01027179578449569),\n",
            "   ('write', 0.010195520073224683),\n",
            "   ('number', 0.010017543413592333),\n",
            "   ('find', 0.009636164857237294),\n",
            "   ('food', 0.009585314383056622)]),\n",
            " (11,\n",
            "  [('power', 0.01920617807085726),\n",
            "   ('ground', 0.012536669759045207),\n",
            "   ('line', 0.011283002783140686),\n",
            "   ('current', 0.010706315974224606),\n",
            "   ('high', 0.009277135621693453),\n",
            "   ('wire', 0.009151768924103002),\n",
            "   ('water', 0.00912669558458491),\n",
            "   ('work', 0.008123762003861295),\n",
            "   ('low', 0.008123762003861295),\n",
            "   ('light', 0.007547075194945215)]),\n",
            " (3,\n",
            "  [('space', 0.017264917771103318),\n",
            "   ('system', 0.011131881287937661),\n",
            "   ('year', 0.010438764151141543),\n",
            "   ('project', 0.010291739303942365),\n",
            "   ('launch', 0.009220558274348365),\n",
            "   ('program', 0.008275398542353658),\n",
            "   ('design', 0.006910167818361303),\n",
            "   ('technology', 0.006742139421562244),\n",
            "   ('cost', 0.006637121673562832),\n",
            "   ('base', 0.00653210392556342)])]\n",
            "\n",
            "Coherence Score:  0.5429767939089214\n"
          ]
        }
      ]
    },
    {
      "cell_type": "code",
      "metadata": {
        "id": "uMFCxJkwJMFG"
      },
      "source": [
        "def compute_coherence_values(dictionary, corpus, texts, limit, start=2, step=3):\n",
        "\n",
        "    coherence_values = []\n",
        "    model_list = []\n",
        "    for num_topics in range(start, limit, step):\n",
        "        model = gensim.models.wrappers.LdaMallet(mallet_path, corpus=corpus, num_topics=num_topics, id2word=id2word)\n",
        "        model_list.append(model)\n",
        "        coherencemodel = CoherenceModel(model=model, texts=texts, dictionary=dictionary, coherence='c_v')\n",
        "        coherence_values.append(coherencemodel.get_coherence())\n",
        "\n",
        "    return model_list, coherence_values"
      ],
      "execution_count": null,
      "outputs": []
    },
    {
      "cell_type": "code",
      "metadata": {
        "id": "D0-aktieJMFG"
      },
      "source": [
        "# Can take a long time to run.\n",
        "model_list, coherence_values = compute_coherence_values(dictionary=id2word, corpus=corpus, texts=data_lemmatized, start=2, limit=40, step=6)"
      ],
      "execution_count": null,
      "outputs": []
    },
    {
      "cell_type": "code",
      "metadata": {
        "id": "RL2BqYroJMFH",
        "outputId": "abf87149-3985-4df2-9d39-6ccffbd2c060"
      },
      "source": [
        "# Show graph\n",
        "limit=40; start=2; step=6;\n",
        "x = range(start, limit, step)\n",
        "plt.plot(x, coherence_values)\n",
        "plt.xlabel(\"Num Topics\")\n",
        "plt.ylabel(\"Coherence score\")\n",
        "plt.legend((\"coherence_values\"), loc='best')\n",
        "plt.show()"
      ],
      "execution_count": null,
      "outputs": [
        {
          "data": {
            "image/png": "[encoded data removed]",
            "text/plain": [
              "<Figure size 432x288 with 1 Axes>"
            ]
          },
          "metadata": {
            "needs_background": "light"
          },
          "output_type": "display_data"
        }
      ]
    },
    {
      "cell_type": "code",
      "metadata": {
        "id": "SRYNvTVRJMFH",
        "outputId": "f8ca8f66-bbeb-41ff-a32b-dcbdeddc56d8"
      },
      "source": [
        "# Print the coherence scores\n",
        "for m, cv in zip(x, coherence_values):\n",
        "    print(\"Num Topics =\", m, \" has Coherence Value of\", round(cv, 4))"
      ],
      "execution_count": null,
      "outputs": [
        {
          "name": "stdout",
          "output_type": "stream",
          "text": [
            "Num Topics = 2  has Coherence Value of 0.3838\n",
            "Num Topics = 8  has Coherence Value of 0.475\n",
            "Num Topics = 14  has Coherence Value of 0.5303\n",
            "Num Topics = 20  has Coherence Value of 0.5284\n",
            "Num Topics = 26  has Coherence Value of 0.5365\n",
            "Num Topics = 32  has Coherence Value of 0.5257\n",
            "Num Topics = 38  has Coherence Value of 0.5357\n"
          ]
        }
      ]
    },
    {
      "cell_type": "code",
      "metadata": {
        "id": "JS53wUsOJMFI",
        "outputId": "459a601c-4d5c-433f-9c8e-4ade285ef6c0"
      },
      "source": [
        "# Select the model and print the topics\n",
        "optimal_model = model_list[3]\n",
        "model_topics = optimal_model.show_topics(formatted=False)\n",
        "pprint(optimal_model.print_topics(num_words=10))"
      ],
      "execution_count": null,
      "outputs": [
        {
          "name": "stdout",
          "output_type": "stream",
          "text": [
            "[(0,\n",
            "  '0.041*\"file\" + 0.020*\"image\" + 0.019*\"program\" + 0.016*\"include\" + '\n",
            "  '0.016*\"software\" + 0.015*\"version\" + 0.012*\"system\" + 0.012*\"source\" + '\n",
            "  '0.010*\"format\" + 0.010*\"graphic\"'),\n",
            " (1,\n",
            "  '0.041*\"car\" + 0.014*\"bike\" + 0.014*\"buy\" + 0.011*\"ride\" + 0.009*\"drive\" + '\n",
            "  '0.009*\"price\" + 0.009*\"engine\" + 0.008*\"turn\" + 0.008*\"speed\" + '\n",
            "  '0.007*\"sell\"'),\n",
            " (2,\n",
            "  '0.020*\"man\" + 0.018*\"people\" + 0.014*\"life\" + 0.014*\"love\" + 0.010*\"church\" '\n",
            "  '+ 0.009*\"world\" + 0.009*\"die\" + 0.009*\"religion\" + 0.009*\"christian\" + '\n",
            "  '0.008*\"live\"'),\n",
            " (3,\n",
            "  '0.026*\"gun\" + 0.022*\"law\" + 0.021*\"state\" + 0.012*\"people\" + '\n",
            "  '0.012*\"government\" + 0.010*\"crime\" + 0.010*\"case\" + 0.009*\"weapon\" + '\n",
            "  '0.008*\"firearm\" + 0.007*\"public\"'),\n",
            " (4,\n",
            "  '0.057*\"good\" + 0.047*\"time\" + 0.029*\"lot\" + 0.023*\"find\" + 0.023*\"make\" + '\n",
            "  '0.022*\"work\" + 0.021*\"thing\" + 0.019*\"long\" + 0.016*\"book\" + 0.015*\"great\"'),\n",
            " (5,\n",
            "  '0.033*\"drive\" + 0.027*\"card\" + 0.022*\"system\" + 0.019*\"problem\" + '\n",
            "  '0.018*\"driver\" + 0.014*\"disk\" + 0.013*\"work\" + 0.013*\"speed\" + '\n",
            "  '0.012*\"computer\" + 0.012*\"run\"'),\n",
            " (6,\n",
            "  '0.019*\"power\" + 0.012*\"ground\" + 0.012*\"high\" + 0.011*\"current\" + '\n",
            "  '0.009*\"wire\" + 0.009*\"line\" + 0.009*\"low\" + 0.009*\"unit\" + 0.008*\"light\" + '\n",
            "  '0.008*\"work\"'),\n",
            " (7,\n",
            "  '0.014*\"people\" + 0.014*\"armenian\" + 0.011*\"government\" + 0.010*\"israeli\" + '\n",
            "  '0.010*\"attack\" + 0.010*\"war\" + 0.009*\"kill\" + 0.008*\"turkish\" + '\n",
            "  '0.007*\"state\" + 0.007*\"land\"'),\n",
            " (8,\n",
            "  '0.058*\"people\" + 0.048*\"make\" + 0.028*\"thing\" + 0.018*\"good\" + 0.018*\"bad\" '\n",
            "  '+ 0.015*\"give\" + 0.015*\"talk\" + 0.014*\"feel\" + 0.014*\"point\" + '\n",
            "  '0.013*\"problem\"'),\n",
            " (9,\n",
            "  '0.037*\"key\" + 0.014*\"encryption\" + 0.011*\"government\" + 0.011*\"system\" + '\n",
            "  '0.011*\"chip\" + 0.011*\"bit\" + 0.010*\"entry\" + 0.009*\"technology\" + '\n",
            "  '0.009*\"file\" + 0.009*\"public\"'),\n",
            " (10,\n",
            "  '0.036*\"window\" + 0.027*\"problem\" + 0.023*\"line\" + 0.019*\"set\" + '\n",
            "  '0.016*\"call\" + 0.014*\"application\" + 0.014*\"work\" + 0.014*\"change\" + '\n",
            "  '0.013*\"screen\" + 0.013*\"display\"'),\n",
            " (11,\n",
            "  '0.265*\"write\" + 0.186*\"article\" + 0.114*\"line\" + 0.040*\"organization\" + '\n",
            "  '0.022*\"read\" + 0.015*\"hear\" + 0.014*\"opinion\" + 0.010*\"host\" + '\n",
            "  '0.007*\"remember\" + 0.007*\"news\"'),\n",
            " (12,\n",
            "  '0.010*\"study\" + 0.010*\"food\" + 0.009*\"problem\" + 0.008*\"doctor\" + '\n",
            "  '0.008*\"year\" + 0.008*\"day\" + 0.008*\"patient\" + 0.008*\"eat\" + 0.007*\"effect\" '\n",
            "  '+ 0.007*\"test\"'),\n",
            " (13,\n",
            "  '0.025*\"question\" + 0.019*\"claim\" + 0.019*\"true\" + 0.015*\"exist\" + '\n",
            "  '0.013*\"word\" + 0.012*\"argument\" + 0.012*\"evidence\" + 0.012*\"answer\" + '\n",
            "  '0.012*\"reason\" + 0.011*\"truth\"'),\n",
            " (14,\n",
            "  '0.015*\"space\" + 0.014*\"year\" + 0.012*\"work\" + 0.011*\"cost\" + '\n",
            "  '0.010*\"program\" + 0.008*\"launch\" + 0.008*\"project\" + 0.006*\"money\" + '\n",
            "  '0.006*\"plan\" + 0.006*\"job\"'),\n",
            " (15,\n",
            "  '0.019*\"system\" + 0.013*\"science\" + 0.009*\"point\" + 0.009*\"moral\" + '\n",
            "  '0.009*\"theory\" + 0.009*\"make\" + 0.008*\"case\" + 0.008*\"result\" + '\n",
            "  '0.008*\"base\" + 0.008*\"important\"'),\n",
            " (16,\n",
            "  '0.035*\"mail\" + 0.030*\"post\" + 0.025*\"send\" + 0.021*\"information\" + '\n",
            "  '0.020*\"list\" + 0.020*\"group\" + 0.019*\"address\" + 0.015*\"message\" + '\n",
            "  '0.015*\"email\" + 0.013*\"internet\"'),\n",
            " (17,\n",
            "  '0.016*\"start\" + 0.016*\"people\" + 0.015*\"time\" + 0.015*\"happen\" + '\n",
            "  '0.015*\"day\" + 0.012*\"leave\" + 0.010*\"fire\" + 0.010*\"child\" + 0.009*\"hear\" + '\n",
            "  '0.009*\"home\"'),\n",
            " (18,\n",
            "  '0.364*\"ax\" + 0.146*\"line\" + 0.078*\"host\" + 0.044*\"organization\" + '\n",
            "  '0.027*\"reply\" + 0.026*\"nntp_posting\" + 0.010*\"advance\" + 0.008*\"keyword\" + '\n",
            "  '0.007*\"originator\" + 0.006*\"_\"'),\n",
            " (19,\n",
            "  '0.032*\"game\" + 0.031*\"team\" + 0.029*\"year\" + 0.026*\"play\" + 0.019*\"player\" '\n",
            "  '+ 0.018*\"win\" + 0.012*\"good\" + 0.012*\"season\" + 0.010*\"hit\" + 0.009*\"run\"')]\n"
          ]
        }
      ]
    },
    {
      "cell_type": "code",
      "metadata": {
        "id": "2va-5pS2JMFJ",
        "outputId": "e179762c-5bcf-4805-d311-1fd9d523424c"
      },
      "source": [
        "def format_topics_sentences(ldamodel=lda_model, corpus=corpus, texts=data):\n",
        "    # Init output\n",
        "    sent_topics_df = pd.DataFrame()\n",
        "\n",
        "    # Get main topic in each document\n",
        "    for i, row in enumerate(ldamodel[corpus]):\n",
        "        row = sorted(row, key=lambda x: (x[1]), reverse=True)\n",
        "        # Get the Dominant topic, Perc Contribution and Keywords for each document\n",
        "        for j, (topic_num, prop_topic) in enumerate(row):\n",
        "            if j == 0:  # => dominant topic\n",
        "                wp = ldamodel.show_topic(topic_num)\n",
        "                topic_keywords = \", \".join([word for word, prop in wp])\n",
        "                sent_topics_df = sent_topics_df.append(pd.Series([int(topic_num), round(prop_topic,4), topic_keywords]), ignore_index=True)\n",
        "            else:\n",
        "                break\n",
        "    sent_topics_df.columns = ['Dominant_Topic', 'Perc_Contribution', 'Topic_Keywords']\n",
        "\n",
        "    # Add original text to the end of the output\n",
        "    contents = pd.Series(texts)\n",
        "    sent_topics_df = pd.concat([sent_topics_df, contents], axis=1)\n",
        "    return(sent_topics_df)\n",
        "\n",
        "\n",
        "df_topic_sents_keywords = format_topics_sentences(ldamodel=optimal_model, corpus=corpus, texts=data)\n",
        "\n",
        "# Format\n",
        "df_dominant_topic = df_topic_sents_keywords.reset_index()\n",
        "df_dominant_topic.columns = ['Document_No', 'Dominant_Topic', 'Topic_Perc_Contrib', 'Keywords', 'Text']\n",
        "\n",
        "# Show\n",
        "df_dominant_topic.head(10)"
      ],
      "execution_count": null,
      "outputs": [
        {
          "data": {
            "text/html": [
              "<div>\n",
              "<style scoped>\n",
              "    .dataframe tbody tr th:only-of-type {\n",
              "        vertical-align: middle;\n",
              "    }\n",
              "\n",
              "    .dataframe tbody tr th {\n",
              "        vertical-align: top;\n",
              "    }\n",
              "\n",
              "    .dataframe thead th {\n",
              "        text-align: right;\n",
              "    }\n",
              "</style>\n",
              "<table border=\"1\" class=\"dataframe\">\n",
              "  <thead>\n",
              "    <tr style=\"text-align: right;\">\n",
              "      <th></th>\n",
              "      <th>Document_No</th>\n",
              "      <th>Dominant_Topic</th>\n",
              "      <th>Topic_Perc_Contrib</th>\n",
              "      <th>Keywords</th>\n",
              "      <th>Text</th>\n",
              "    </tr>\n",
              "  </thead>\n",
              "  <tbody>\n",
              "    <tr>\n",
              "      <th>0</th>\n",
              "      <td>0</td>\n",
              "      <td>1.0</td>\n",
              "      <td>0.1836</td>\n",
              "      <td>car, bike, buy, ride, drive, price, engine, tu...</td>\n",
              "      <td>From: (where s my thing) Subject: WHAT car is ...</td>\n",
              "    </tr>\n",
              "    <tr>\n",
              "      <th>1</th>\n",
              "      <td>1</td>\n",
              "      <td>5.0</td>\n",
              "      <td>0.1491</td>\n",
              "      <td>drive, card, system, problem, driver, disk, wo...</td>\n",
              "      <td>From: (Guy Kuo) Subject: SI Clock Poll - Final...</td>\n",
              "    </tr>\n",
              "    <tr>\n",
              "      <th>2</th>\n",
              "      <td>2</td>\n",
              "      <td>5.0</td>\n",
              "      <td>0.1176</td>\n",
              "      <td>drive, card, system, problem, driver, disk, wo...</td>\n",
              "      <td>From: (Thomas E Willis) Subject: PB questions....</td>\n",
              "    </tr>\n",
              "    <tr>\n",
              "      <th>3</th>\n",
              "      <td>3</td>\n",
              "      <td>5.0</td>\n",
              "      <td>0.0926</td>\n",
              "      <td>drive, card, system, problem, driver, disk, wo...</td>\n",
              "      <td>From: (Joe Green) Subject: Re: Weitek P9000 ? ...</td>\n",
              "    </tr>\n",
              "    <tr>\n",
              "      <th>4</th>\n",
              "      <td>4</td>\n",
              "      <td>10.0</td>\n",
              "      <td>0.1588</td>\n",
              "      <td>window, problem, line, set, call, application,...</td>\n",
              "      <td>From: (Jonathan McDowell) Subject: Re: Shuttle...</td>\n",
              "    </tr>\n",
              "    <tr>\n",
              "      <th>5</th>\n",
              "      <td>5</td>\n",
              "      <td>3.0</td>\n",
              "      <td>0.3454</td>\n",
              "      <td>gun, law, state, people, government, crime, ca...</td>\n",
              "      <td>From: (Foxvog Douglas) Subject: Re: Rewording ...</td>\n",
              "    </tr>\n",
              "    <tr>\n",
              "      <th>6</th>\n",
              "      <td>6</td>\n",
              "      <td>16.0</td>\n",
              "      <td>0.1024</td>\n",
              "      <td>mail, post, send, information, list, group, ad...</td>\n",
              "      <td>From: (brian manning delaney) Subject: Brain T...</td>\n",
              "    </tr>\n",
              "    <tr>\n",
              "      <th>7</th>\n",
              "      <td>7</td>\n",
              "      <td>5.0</td>\n",
              "      <td>0.4401</td>\n",
              "      <td>drive, card, system, problem, driver, disk, wo...</td>\n",
              "      <td>From: (GRUBB) Subject: Re: IDE vs SCSI Organiz...</td>\n",
              "    </tr>\n",
              "    <tr>\n",
              "      <th>8</th>\n",
              "      <td>8</td>\n",
              "      <td>10.0</td>\n",
              "      <td>0.0995</td>\n",
              "      <td>window, problem, line, set, call, application,...</td>\n",
              "      <td>From: Subject: WIn 3.0 ICON HELP PLEASE! Organ...</td>\n",
              "    </tr>\n",
              "    <tr>\n",
              "      <th>9</th>\n",
              "      <td>9</td>\n",
              "      <td>5.0</td>\n",
              "      <td>0.2136</td>\n",
              "      <td>drive, card, system, problem, driver, disk, wo...</td>\n",
              "      <td>From: (Stan Kerr) Subject: Re: Sigma Designs D...</td>\n",
              "    </tr>\n",
              "  </tbody>\n",
              "</table>\n",
              "</div>"
            ],
            "text/plain": [
              "   Document_No  Dominant_Topic  Topic_Perc_Contrib  \\\n",
              "0            0             1.0              0.1836   \n",
              "1            1             5.0              0.1491   \n",
              "2            2             5.0              0.1176   \n",
              "3            3             5.0              0.0926   \n",
              "4            4            10.0              0.1588   \n",
              "5            5             3.0              0.3454   \n",
              "6            6            16.0              0.1024   \n",
              "7            7             5.0              0.4401   \n",
              "8            8            10.0              0.0995   \n",
              "9            9             5.0              0.2136   \n",
              "\n",
              "                                            Keywords  \\\n",
              "0  car, bike, buy, ride, drive, price, engine, tu...   \n",
              "1  drive, card, system, problem, driver, disk, wo...   \n",
              "2  drive, card, system, problem, driver, disk, wo...   \n",
              "3  drive, card, system, problem, driver, disk, wo...   \n",
              "4  window, problem, line, set, call, application,...   \n",
              "5  gun, law, state, people, government, crime, ca...   \n",
              "6  mail, post, send, information, list, group, ad...   \n",
              "7  drive, card, system, problem, driver, disk, wo...   \n",
              "8  window, problem, line, set, call, application,...   \n",
              "9  drive, card, system, problem, driver, disk, wo...   \n",
              "\n",
              "                                                Text  \n",
              "0  From: (where s my thing) Subject: WHAT car is ...  \n",
              "1  From: (Guy Kuo) Subject: SI Clock Poll - Final...  \n",
              "2  From: (Thomas E Willis) Subject: PB questions....  \n",
              "3  From: (Joe Green) Subject: Re: Weitek P9000 ? ...  \n",
              "4  From: (Jonathan McDowell) Subject: Re: Shuttle...  \n",
              "5  From: (Foxvog Douglas) Subject: Re: Rewording ...  \n",
              "6  From: (brian manning delaney) Subject: Brain T...  \n",
              "7  From: (GRUBB) Subject: Re: IDE vs SCSI Organiz...  \n",
              "8  From: Subject: WIn 3.0 ICON HELP PLEASE! Organ...  \n",
              "9  From: (Stan Kerr) Subject: Re: Sigma Designs D...  "
            ]
          },
          "execution_count": 52,
          "metadata": {},
          "output_type": "execute_result"
        }
      ]
    },
    {
      "cell_type": "code",
      "metadata": {
        "id": "QsU-DC9_JMFK",
        "scrolled": true,
        "outputId": "32b40834-1074-467c-9911-ba2c68fca9ed"
      },
      "source": [
        "# Group top 5 sentences under each topic\n",
        "sent_topics_sorteddf_mallet = pd.DataFrame()\n",
        "\n",
        "sent_topics_outdf_grpd = df_topic_sents_keywords.groupby('Dominant_Topic')\n",
        "\n",
        "for i, grp in sent_topics_outdf_grpd:\n",
        "    sent_topics_sorteddf_mallet = pd.concat([sent_topics_sorteddf_mallet, \n",
        "                                             grp.sort_values(['Perc_Contribution'], ascending=[0]).head(1)], \n",
        "                                            axis=0)\n",
        "\n",
        "# Reset Index    \n",
        "sent_topics_sorteddf_mallet.reset_index(drop=True, inplace=True)\n",
        "\n",
        "# Format\n",
        "sent_topics_sorteddf_mallet.columns = ['Topic_Num', \"Topic_Perc_Contrib\", \"Keywords\", \"Text\"]\n",
        "\n",
        "# Show\n",
        "sent_topics_sorteddf_mallet.head()"
      ],
      "execution_count": null,
      "outputs": [
        {
          "data": {
            "text/html": [
              "<div>\n",
              "<style scoped>\n",
              "    .dataframe tbody tr th:only-of-type {\n",
              "        vertical-align: middle;\n",
              "    }\n",
              "\n",
              "    .dataframe tbody tr th {\n",
              "        vertical-align: top;\n",
              "    }\n",
              "\n",
              "    .dataframe thead th {\n",
              "        text-align: right;\n",
              "    }\n",
              "</style>\n",
              "<table border=\"1\" class=\"dataframe\">\n",
              "  <thead>\n",
              "    <tr style=\"text-align: right;\">\n",
              "      <th></th>\n",
              "      <th>Topic_Num</th>\n",
              "      <th>Topic_Perc_Contrib</th>\n",
              "      <th>Keywords</th>\n",
              "      <th>Text</th>\n",
              "    </tr>\n",
              "  </thead>\n",
              "  <tbody>\n",
              "    <tr>\n",
              "      <th>0</th>\n",
              "      <td>0.0</td>\n",
              "      <td>0.7107</td>\n",
              "      <td>file, image, program, include, software, versi...</td>\n",
              "      <td>From: (David B. Lewis) Subject: comp.windows.x...</td>\n",
              "    </tr>\n",
              "    <tr>\n",
              "      <th>1</th>\n",
              "      <td>1.0</td>\n",
              "      <td>0.5422</td>\n",
              "      <td>car, bike, buy, ride, drive, price, engine, tu...</td>\n",
              "      <td>From: (richard welty) Subject: rec.autos: Freq...</td>\n",
              "    </tr>\n",
              "    <tr>\n",
              "      <th>2</th>\n",
              "      <td>2.0</td>\n",
              "      <td>0.6271</td>\n",
              "      <td>man, people, life, love, church, world, die, r...</td>\n",
              "      <td>From: (Family Magazine Sysops) Subject: WITNES...</td>\n",
              "    </tr>\n",
              "    <tr>\n",
              "      <th>3</th>\n",
              "      <td>3.0</td>\n",
              "      <td>0.7178</td>\n",
              "      <td>gun, law, state, people, government, crime, ca...</td>\n",
              "      <td>From: (Larry Cipriani) Subject: Gun Talk -- St...</td>\n",
              "    </tr>\n",
              "    <tr>\n",
              "      <th>4</th>\n",
              "      <td>4.0</td>\n",
              "      <td>0.6449</td>\n",
              "      <td>good, time, lot, find, make, work, thing, long...</td>\n",
              "      <td>From: (Jeff Mason) Subject: Marvel, DC, Valian...</td>\n",
              "    </tr>\n",
              "  </tbody>\n",
              "</table>\n",
              "</div>"
            ],
            "text/plain": [
              "   Topic_Num  Topic_Perc_Contrib  \\\n",
              "0        0.0              0.7107   \n",
              "1        1.0              0.5422   \n",
              "2        2.0              0.6271   \n",
              "3        3.0              0.7178   \n",
              "4        4.0              0.6449   \n",
              "\n",
              "                                            Keywords  \\\n",
              "0  file, image, program, include, software, versi...   \n",
              "1  car, bike, buy, ride, drive, price, engine, tu...   \n",
              "2  man, people, life, love, church, world, die, r...   \n",
              "3  gun, law, state, people, government, crime, ca...   \n",
              "4  good, time, lot, find, make, work, thing, long...   \n",
              "\n",
              "                                                Text  \n",
              "0  From: (David B. Lewis) Subject: comp.windows.x...  \n",
              "1  From: (richard welty) Subject: rec.autos: Freq...  \n",
              "2  From: (Family Magazine Sysops) Subject: WITNES...  \n",
              "3  From: (Larry Cipriani) Subject: Gun Talk -- St...  \n",
              "4  From: (Jeff Mason) Subject: Marvel, DC, Valian...  "
            ]
          },
          "execution_count": 58,
          "metadata": {},
          "output_type": "execute_result"
        }
      ]
    },
    {
      "cell_type": "code",
      "metadata": {
        "id": "0cFm7x2wJMFL",
        "outputId": "6a644e44-5e8a-4c53-a6ac-d53bc26bf2a3"
      },
      "source": [
        "# Number of Documents for Each Topic\n",
        "topic_counts = df_topic_sents_keywords['Dominant_Topic'].value_counts()\n",
        "\n",
        "# Percentage of Documents for Each Topic\n",
        "topic_contribution = round(topic_counts/topic_counts.sum(), 4)\n",
        "\n",
        "# Topic Number and Keywords\n",
        "topic_num_keywords = df_topic_sents_keywords[['Dominant_Topic', 'Topic_Keywords']]\n",
        "\n",
        "# Concatenate Column wise\n",
        "df_dominant_topics = pd.concat([topic_num_keywords, topic_counts, topic_contribution], axis=1)\n",
        "\n",
        "# Change Column names\n",
        "df_dominant_topics.columns = ['Dominant_Topic', 'Topic_Keywords', 'Num_Documents', 'Perc_Documents']\n",
        "\n",
        "# Show\n",
        "df_dominant_topics.head(20)"
      ],
      "execution_count": null,
      "outputs": [
        {
          "data": {
            "text/html": [
              "<div>\n",
              "<style scoped>\n",
              "    .dataframe tbody tr th:only-of-type {\n",
              "        vertical-align: middle;\n",
              "    }\n",
              "\n",
              "    .dataframe tbody tr th {\n",
              "        vertical-align: top;\n",
              "    }\n",
              "\n",
              "    .dataframe thead th {\n",
              "        text-align: right;\n",
              "    }\n",
              "</style>\n",
              "<table border=\"1\" class=\"dataframe\">\n",
              "  <thead>\n",
              "    <tr style=\"text-align: right;\">\n",
              "      <th></th>\n",
              "      <th>Dominant_Topic</th>\n",
              "      <th>Topic_Keywords</th>\n",
              "      <th>Num_Documents</th>\n",
              "      <th>Perc_Documents</th>\n",
              "    </tr>\n",
              "  </thead>\n",
              "  <tbody>\n",
              "    <tr>\n",
              "      <th>0.0</th>\n",
              "      <td>1.0</td>\n",
              "      <td>car, bike, buy, ride, drive, price, engine, tu...</td>\n",
              "      <td>729.0</td>\n",
              "      <td>0.0644</td>\n",
              "    </tr>\n",
              "    <tr>\n",
              "      <th>1.0</th>\n",
              "      <td>5.0</td>\n",
              "      <td>drive, card, system, problem, driver, disk, wo...</td>\n",
              "      <td>1002.0</td>\n",
              "      <td>0.0886</td>\n",
              "    </tr>\n",
              "    <tr>\n",
              "      <th>2.0</th>\n",
              "      <td>5.0</td>\n",
              "      <td>drive, card, system, problem, driver, disk, wo...</td>\n",
              "      <td>625.0</td>\n",
              "      <td>0.0552</td>\n",
              "    </tr>\n",
              "    <tr>\n",
              "      <th>3.0</th>\n",
              "      <td>5.0</td>\n",
              "      <td>drive, card, system, problem, driver, disk, wo...</td>\n",
              "      <td>584.0</td>\n",
              "      <td>0.0516</td>\n",
              "    </tr>\n",
              "    <tr>\n",
              "      <th>4.0</th>\n",
              "      <td>10.0</td>\n",
              "      <td>window, problem, line, set, call, application,...</td>\n",
              "      <td>256.0</td>\n",
              "      <td>0.0226</td>\n",
              "    </tr>\n",
              "    <tr>\n",
              "      <th>5.0</th>\n",
              "      <td>3.0</td>\n",
              "      <td>gun, law, state, people, government, crime, ca...</td>\n",
              "      <td>1433.0</td>\n",
              "      <td>0.1267</td>\n",
              "    </tr>\n",
              "    <tr>\n",
              "      <th>6.0</th>\n",
              "      <td>16.0</td>\n",
              "      <td>mail, post, send, information, list, group, ad...</td>\n",
              "      <td>557.0</td>\n",
              "      <td>0.0492</td>\n",
              "    </tr>\n",
              "    <tr>\n",
              "      <th>7.0</th>\n",
              "      <td>5.0</td>\n",
              "      <td>drive, card, system, problem, driver, disk, wo...</td>\n",
              "      <td>475.0</td>\n",
              "      <td>0.0420</td>\n",
              "    </tr>\n",
              "    <tr>\n",
              "      <th>8.0</th>\n",
              "      <td>10.0</td>\n",
              "      <td>window, problem, line, set, call, application,...</td>\n",
              "      <td>270.0</td>\n",
              "      <td>0.0239</td>\n",
              "    </tr>\n",
              "    <tr>\n",
              "      <th>9.0</th>\n",
              "      <td>5.0</td>\n",
              "      <td>drive, card, system, problem, driver, disk, wo...</td>\n",
              "      <td>471.0</td>\n",
              "      <td>0.0416</td>\n",
              "    </tr>\n",
              "    <tr>\n",
              "      <th>10.0</th>\n",
              "      <td>1.0</td>\n",
              "      <td>car, bike, buy, ride, drive, price, engine, tu...</td>\n",
              "      <td>560.0</td>\n",
              "      <td>0.0495</td>\n",
              "    </tr>\n",
              "    <tr>\n",
              "      <th>11.0</th>\n",
              "      <td>13.0</td>\n",
              "      <td>question, claim, true, exist, word, argument, ...</td>\n",
              "      <td>521.0</td>\n",
              "      <td>0.0460</td>\n",
              "    </tr>\n",
              "    <tr>\n",
              "      <th>12.0</th>\n",
              "      <td>18.0</td>\n",
              "      <td>ax, line, host, organization, reply, nntp_post...</td>\n",
              "      <td>483.0</td>\n",
              "      <td>0.0427</td>\n",
              "    </tr>\n",
              "    <tr>\n",
              "      <th>13.0</th>\n",
              "      <td>14.0</td>\n",
              "      <td>space, year, work, cost, program, launch, proj...</td>\n",
              "      <td>378.0</td>\n",
              "      <td>0.0334</td>\n",
              "    </tr>\n",
              "    <tr>\n",
              "      <th>14.0</th>\n",
              "      <td>5.0</td>\n",
              "      <td>drive, card, system, problem, driver, disk, wo...</td>\n",
              "      <td>525.0</td>\n",
              "      <td>0.0464</td>\n",
              "    </tr>\n",
              "    <tr>\n",
              "      <th>15.0</th>\n",
              "      <td>7.0</td>\n",
              "      <td>people, armenian, government, israeli, attack,...</td>\n",
              "      <td>234.0</td>\n",
              "      <td>0.0207</td>\n",
              "    </tr>\n",
              "    <tr>\n",
              "      <th>16.0</th>\n",
              "      <td>0.0</td>\n",
              "      <td>file, image, program, include, software, versi...</td>\n",
              "      <td>575.0</td>\n",
              "      <td>0.0508</td>\n",
              "    </tr>\n",
              "    <tr>\n",
              "      <th>17.0</th>\n",
              "      <td>1.0</td>\n",
              "      <td>car, bike, buy, ride, drive, price, engine, tu...</td>\n",
              "      <td>263.0</td>\n",
              "      <td>0.0232</td>\n",
              "    </tr>\n",
              "    <tr>\n",
              "      <th>18.0</th>\n",
              "      <td>6.0</td>\n",
              "      <td>power, ground, high, current, wire, line, low,...</td>\n",
              "      <td>341.0</td>\n",
              "      <td>0.0301</td>\n",
              "    </tr>\n",
              "    <tr>\n",
              "      <th>19.0</th>\n",
              "      <td>10.0</td>\n",
              "      <td>window, problem, line, set, call, application,...</td>\n",
              "      <td>1032.0</td>\n",
              "      <td>0.0912</td>\n",
              "    </tr>\n",
              "  </tbody>\n",
              "</table>\n",
              "</div>"
            ],
            "text/plain": [
              "      Dominant_Topic                                     Topic_Keywords  \\\n",
              "0.0              1.0  car, bike, buy, ride, drive, price, engine, tu...   \n",
              "1.0              5.0  drive, card, system, problem, driver, disk, wo...   \n",
              "2.0              5.0  drive, card, system, problem, driver, disk, wo...   \n",
              "3.0              5.0  drive, card, system, problem, driver, disk, wo...   \n",
              "4.0             10.0  window, problem, line, set, call, application,...   \n",
              "5.0              3.0  gun, law, state, people, government, crime, ca...   \n",
              "6.0             16.0  mail, post, send, information, list, group, ad...   \n",
              "7.0              5.0  drive, card, system, problem, driver, disk, wo...   \n",
              "8.0             10.0  window, problem, line, set, call, application,...   \n",
              "9.0              5.0  drive, card, system, problem, driver, disk, wo...   \n",
              "10.0             1.0  car, bike, buy, ride, drive, price, engine, tu...   \n",
              "11.0            13.0  question, claim, true, exist, word, argument, ...   \n",
              "12.0            18.0  ax, line, host, organization, reply, nntp_post...   \n",
              "13.0            14.0  space, year, work, cost, program, launch, proj...   \n",
              "14.0             5.0  drive, card, system, problem, driver, disk, wo...   \n",
              "15.0             7.0  people, armenian, government, israeli, attack,...   \n",
              "16.0             0.0  file, image, program, include, software, versi...   \n",
              "17.0             1.0  car, bike, buy, ride, drive, price, engine, tu...   \n",
              "18.0             6.0  power, ground, high, current, wire, line, low,...   \n",
              "19.0            10.0  window, problem, line, set, call, application,...   \n",
              "\n",
              "      Num_Documents  Perc_Documents  \n",
              "0.0           729.0          0.0644  \n",
              "1.0          1002.0          0.0886  \n",
              "2.0           625.0          0.0552  \n",
              "3.0           584.0          0.0516  \n",
              "4.0           256.0          0.0226  \n",
              "5.0          1433.0          0.1267  \n",
              "6.0           557.0          0.0492  \n",
              "7.0           475.0          0.0420  \n",
              "8.0           270.0          0.0239  \n",
              "9.0           471.0          0.0416  \n",
              "10.0          560.0          0.0495  \n",
              "11.0          521.0          0.0460  \n",
              "12.0          483.0          0.0427  \n",
              "13.0          378.0          0.0334  \n",
              "14.0          525.0          0.0464  \n",
              "15.0          234.0          0.0207  \n",
              "16.0          575.0          0.0508  \n",
              "17.0          263.0          0.0232  \n",
              "18.0          341.0          0.0301  \n",
              "19.0         1032.0          0.0912  "
            ]
          },
          "execution_count": 56,
          "metadata": {},
          "output_type": "execute_result"
        }
      ]
    }
  ]
}